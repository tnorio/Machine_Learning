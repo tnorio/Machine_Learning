{
  "nbformat": 4,
  "nbformat_minor": 0,
  "metadata": {
    "colab": {
      "name": "7dayscode_1.ipynb",
      "provenance": [],
      "collapsed_sections": [],
      "toc_visible": true
    },
    "kernelspec": {
      "name": "python3",
      "display_name": "Python 3"
    },
    "language_info": {
      "name": "python"
    }
  },
  "cells": [
    {
      "cell_type": "code",
      "source": [
        "import pandas as pd\n",
        "import numpy as np"
      ],
      "metadata": {
        "id": "Z3HbcrPM8UDM"
      },
      "execution_count": null,
      "outputs": []
    },
    {
      "cell_type": "code",
      "execution_count": null,
      "metadata": {
        "id": "501GiwUm8BzZ"
      },
      "outputs": [],
      "source": [
        "d22 = \"despesa_ceaps_2022_enc.csv\"\n",
        "d21 = \"despesa_ceaps_2021_enc.csv\"\n",
        "d20 = \"despesa_ceaps_2020_enc.csv\"\n",
        "d19 = \"despesa_ceaps_2019_enc.csv\"\n",
        "d18 = \"despesa_ceaps_2018_enc.csv\"\n",
        "d17 = \"despesa_ceaps_2017_enc.csv\""
      ]
    },
    {
      "cell_type": "code",
      "source": [
        "\"\"\"\n",
        "with open('despesa_ceaps_2022.csv') as f:\n",
        "    print(f)\n",
        "\"\"\""
      ],
      "metadata": {
        "colab": {
          "base_uri": "https://localhost:8080/",
          "height": 35
        },
        "id": "k4uOU4uc9kR0",
        "outputId": "a6c7db01-a606-4a00-c424-b40b16f0a602"
      },
      "execution_count": null,
      "outputs": [
        {
          "output_type": "execute_result",
          "data": {
            "text/plain": [
              "\"\\nwith open('despesa_ceaps_2022.csv') as f:\\n    print(f)\\n\""
            ],
            "application/vnd.google.colaboratory.intrinsic+json": {
              "type": "string"
            }
          },
          "metadata": {},
          "execution_count": 96
        }
      ]
    },
    {
      "cell_type": "markdown",
      "source": [
        "O arquivo estava com erro de codificação,não estava abrindo.\n",
        "Para abrir o documento foi necessário abrilo manualmente em um bloco de notas e salvá-lo novamente em formatação utf-8. Após isso passar os parametros de abertura do read_csv, como a baixo."
      ],
      "metadata": {
        "id": "eTCVPze66sfE"
      }
    },
    {
      "cell_type": "markdown",
      "source": [
        "# Limpeza"
      ],
      "metadata": {
        "id": "YRgQb36WDXLL"
      }
    },
    {
      "cell_type": "code",
      "source": [
        "def drop_linhas_ano_errado(df,ano_certo):\n",
        "  count=0\n",
        "  for i,row in enumerate(df['DATA']):\n",
        "    split_row = str(row).split(\"/\")\n",
        "    if split_row[2] != str(ano_certo):\n",
        "      #print(i, \" = \", split_row)\n",
        "      df.drop(index=i, axis =\"rows\", inplace= True)\n",
        "      count += 1\n",
        "  return(f\"Foram deletadas {count} linhas \")"
      ],
      "metadata": {
        "id": "QNLiGKg1nVFs"
      },
      "execution_count": null,
      "outputs": []
    },
    {
      "cell_type": "markdown",
      "source": [
        "## df 22 (até o mes 4)"
      ],
      "metadata": {
        "id": "Yv1thZgzDSPu"
      }
    },
    {
      "cell_type": "code",
      "source": [
        "df22 = pd.read_csv('despesa_ceaps_2022_enc.csv',sep=\";\",header=1, skiprows=0)"
      ],
      "metadata": {
        "id": "l7nyu-T65Vvj"
      },
      "execution_count": null,
      "outputs": []
    },
    {
      "cell_type": "code",
      "source": [
        "df22.head(2)"
      ],
      "metadata": {
        "colab": {
          "base_uri": "https://localhost:8080/",
          "height": 260
        },
        "id": "5HKkNWsQ8cJq",
        "outputId": "b252ce99-302b-42fe-ccf3-5f58dc0ec488"
      },
      "execution_count": null,
      "outputs": [
        {
          "output_type": "execute_result",
          "data": {
            "text/plain": [
              "    ANO  MES       SENADOR                                       TIPO_DESPESA  \\\n",
              "0  2022    1  ACIR GURGACZ  Aluguel de imóveis para escritório político, c...   \n",
              "1  2022    1  ACIR GURGACZ                Divulgação da atividade parlamentar   \n",
              "\n",
              "             CNPJ_CPF                     FORNECEDOR          DOCUMENTO  \\\n",
              "0      004.948.028-63  GILBERTO PISELO DO NASCIMENTO             001/22   \n",
              "1  26.320.603/0001-64                  INFORMANAHORA  000000000000310/A   \n",
              "\n",
              "         DATA                                       DETALHAMENTO  \\\n",
              "0  03/01/2022  Despesa com pagamento de aluguel de imóvel par...   \n",
              "1  04/01/2022  Despesa com divulgação da atividade parlamenta...   \n",
              "\n",
              "  VALOR_REEMBOLSADO  COD_DOCUMENTO  \n",
              "0              6000        2173614  \n",
              "1              1500        2173615  "
            ],
            "text/html": [
              "\n",
              "  <div id=\"df-2690ceb4-08d8-4a08-98bb-b1572e9efb6f\">\n",
              "    <div class=\"colab-df-container\">\n",
              "      <div>\n",
              "<style scoped>\n",
              "    .dataframe tbody tr th:only-of-type {\n",
              "        vertical-align: middle;\n",
              "    }\n",
              "\n",
              "    .dataframe tbody tr th {\n",
              "        vertical-align: top;\n",
              "    }\n",
              "\n",
              "    .dataframe thead th {\n",
              "        text-align: right;\n",
              "    }\n",
              "</style>\n",
              "<table border=\"1\" class=\"dataframe\">\n",
              "  <thead>\n",
              "    <tr style=\"text-align: right;\">\n",
              "      <th></th>\n",
              "      <th>ANO</th>\n",
              "      <th>MES</th>\n",
              "      <th>SENADOR</th>\n",
              "      <th>TIPO_DESPESA</th>\n",
              "      <th>CNPJ_CPF</th>\n",
              "      <th>FORNECEDOR</th>\n",
              "      <th>DOCUMENTO</th>\n",
              "      <th>DATA</th>\n",
              "      <th>DETALHAMENTO</th>\n",
              "      <th>VALOR_REEMBOLSADO</th>\n",
              "      <th>COD_DOCUMENTO</th>\n",
              "    </tr>\n",
              "  </thead>\n",
              "  <tbody>\n",
              "    <tr>\n",
              "      <th>0</th>\n",
              "      <td>2022</td>\n",
              "      <td>1</td>\n",
              "      <td>ACIR GURGACZ</td>\n",
              "      <td>Aluguel de imóveis para escritório político, c...</td>\n",
              "      <td>004.948.028-63</td>\n",
              "      <td>GILBERTO PISELO DO NASCIMENTO</td>\n",
              "      <td>001/22</td>\n",
              "      <td>03/01/2022</td>\n",
              "      <td>Despesa com pagamento de aluguel de imóvel par...</td>\n",
              "      <td>6000</td>\n",
              "      <td>2173614</td>\n",
              "    </tr>\n",
              "    <tr>\n",
              "      <th>1</th>\n",
              "      <td>2022</td>\n",
              "      <td>1</td>\n",
              "      <td>ACIR GURGACZ</td>\n",
              "      <td>Divulgação da atividade parlamentar</td>\n",
              "      <td>26.320.603/0001-64</td>\n",
              "      <td>INFORMANAHORA</td>\n",
              "      <td>000000000000310/A</td>\n",
              "      <td>04/01/2022</td>\n",
              "      <td>Despesa com divulgação da atividade parlamenta...</td>\n",
              "      <td>1500</td>\n",
              "      <td>2173615</td>\n",
              "    </tr>\n",
              "  </tbody>\n",
              "</table>\n",
              "</div>\n",
              "      <button class=\"colab-df-convert\" onclick=\"convertToInteractive('df-2690ceb4-08d8-4a08-98bb-b1572e9efb6f')\"\n",
              "              title=\"Convert this dataframe to an interactive table.\"\n",
              "              style=\"display:none;\">\n",
              "        \n",
              "  <svg xmlns=\"http://www.w3.org/2000/svg\" height=\"24px\"viewBox=\"0 0 24 24\"\n",
              "       width=\"24px\">\n",
              "    <path d=\"M0 0h24v24H0V0z\" fill=\"none\"/>\n",
              "    <path d=\"M18.56 5.44l.94 2.06.94-2.06 2.06-.94-2.06-.94-.94-2.06-.94 2.06-2.06.94zm-11 1L8.5 8.5l.94-2.06 2.06-.94-2.06-.94L8.5 2.5l-.94 2.06-2.06.94zm10 10l.94 2.06.94-2.06 2.06-.94-2.06-.94-.94-2.06-.94 2.06-2.06.94z\"/><path d=\"M17.41 7.96l-1.37-1.37c-.4-.4-.92-.59-1.43-.59-.52 0-1.04.2-1.43.59L10.3 9.45l-7.72 7.72c-.78.78-.78 2.05 0 2.83L4 21.41c.39.39.9.59 1.41.59.51 0 1.02-.2 1.41-.59l7.78-7.78 2.81-2.81c.8-.78.8-2.07 0-2.86zM5.41 20L4 18.59l7.72-7.72 1.47 1.35L5.41 20z\"/>\n",
              "  </svg>\n",
              "      </button>\n",
              "      \n",
              "  <style>\n",
              "    .colab-df-container {\n",
              "      display:flex;\n",
              "      flex-wrap:wrap;\n",
              "      gap: 12px;\n",
              "    }\n",
              "\n",
              "    .colab-df-convert {\n",
              "      background-color: #E8F0FE;\n",
              "      border: none;\n",
              "      border-radius: 50%;\n",
              "      cursor: pointer;\n",
              "      display: none;\n",
              "      fill: #1967D2;\n",
              "      height: 32px;\n",
              "      padding: 0 0 0 0;\n",
              "      width: 32px;\n",
              "    }\n",
              "\n",
              "    .colab-df-convert:hover {\n",
              "      background-color: #E2EBFA;\n",
              "      box-shadow: 0px 1px 2px rgba(60, 64, 67, 0.3), 0px 1px 3px 1px rgba(60, 64, 67, 0.15);\n",
              "      fill: #174EA6;\n",
              "    }\n",
              "\n",
              "    [theme=dark] .colab-df-convert {\n",
              "      background-color: #3B4455;\n",
              "      fill: #D2E3FC;\n",
              "    }\n",
              "\n",
              "    [theme=dark] .colab-df-convert:hover {\n",
              "      background-color: #434B5C;\n",
              "      box-shadow: 0px 1px 3px 1px rgba(0, 0, 0, 0.15);\n",
              "      filter: drop-shadow(0px 1px 2px rgba(0, 0, 0, 0.3));\n",
              "      fill: #FFFFFF;\n",
              "    }\n",
              "  </style>\n",
              "\n",
              "      <script>\n",
              "        const buttonEl =\n",
              "          document.querySelector('#df-2690ceb4-08d8-4a08-98bb-b1572e9efb6f button.colab-df-convert');\n",
              "        buttonEl.style.display =\n",
              "          google.colab.kernel.accessAllowed ? 'block' : 'none';\n",
              "\n",
              "        async function convertToInteractive(key) {\n",
              "          const element = document.querySelector('#df-2690ceb4-08d8-4a08-98bb-b1572e9efb6f');\n",
              "          const dataTable =\n",
              "            await google.colab.kernel.invokeFunction('convertToInteractive',\n",
              "                                                     [key], {});\n",
              "          if (!dataTable) return;\n",
              "\n",
              "          const docLinkHtml = 'Like what you see? Visit the ' +\n",
              "            '<a target=\"_blank\" href=https://colab.research.google.com/notebooks/data_table.ipynb>data table notebook</a>'\n",
              "            + ' to learn more about interactive tables.';\n",
              "          element.innerHTML = '';\n",
              "          dataTable['output_type'] = 'display_data';\n",
              "          await google.colab.output.renderOutput(dataTable, element);\n",
              "          const docLink = document.createElement('div');\n",
              "          docLink.innerHTML = docLinkHtml;\n",
              "          element.appendChild(docLink);\n",
              "        }\n",
              "      </script>\n",
              "    </div>\n",
              "  </div>\n",
              "  "
            ]
          },
          "metadata": {},
          "execution_count": 99
        }
      ]
    },
    {
      "cell_type": "code",
      "source": [
        "df22.info()"
      ],
      "metadata": {
        "colab": {
          "base_uri": "https://localhost:8080/"
        },
        "id": "L_npXOXh7Sne",
        "outputId": "6c84d6c2-0250-443f-e5c4-5f8babafa9e2"
      },
      "execution_count": null,
      "outputs": [
        {
          "output_type": "stream",
          "name": "stdout",
          "text": [
            "<class 'pandas.core.frame.DataFrame'>\n",
            "RangeIndex: 3582 entries, 0 to 3581\n",
            "Data columns (total 11 columns):\n",
            " #   Column             Non-Null Count  Dtype \n",
            "---  ------             --------------  ----- \n",
            " 0   ANO                3582 non-null   int64 \n",
            " 1   MES                3582 non-null   int64 \n",
            " 2   SENADOR            3582 non-null   object\n",
            " 3   TIPO_DESPESA       3582 non-null   object\n",
            " 4   CNPJ_CPF           3582 non-null   object\n",
            " 5   FORNECEDOR         3582 non-null   object\n",
            " 6   DOCUMENTO          3418 non-null   object\n",
            " 7   DATA               3582 non-null   object\n",
            " 8   DETALHAMENTO       1818 non-null   object\n",
            " 9   VALOR_REEMBOLSADO  3582 non-null   object\n",
            " 10  COD_DOCUMENTO      3582 non-null   int64 \n",
            "dtypes: int64(3), object(8)\n",
            "memory usage: 308.0+ KB\n"
          ]
        }
      ]
    },
    {
      "cell_type": "markdown",
      "source": [
        "Passar a data para datetime"
      ],
      "metadata": {
        "id": "I48yRdIi7dxg"
      }
    },
    {
      "cell_type": "code",
      "source": [
        "drop_linhas_ano_errado(df22,2022)"
      ],
      "metadata": {
        "colab": {
          "base_uri": "https://localhost:8080/",
          "height": 35
        },
        "id": "pOVEbuTGm_oz",
        "outputId": "dfaae647-1a38-4b4c-d92e-637e0305c803"
      },
      "execution_count": null,
      "outputs": [
        {
          "output_type": "execute_result",
          "data": {
            "text/plain": [
              "'Foram deletadas 86 linhas '"
            ],
            "application/vnd.google.colaboratory.intrinsic+json": {
              "type": "string"
            }
          },
          "metadata": {},
          "execution_count": 101
        }
      ]
    },
    {
      "cell_type": "code",
      "source": [
        "df22['DATA'] = pd.to_datetime(df22['DATA'],format = '%d/%m/%Y').dt.strftime('%d/%m/%Y')"
      ],
      "metadata": {
        "id": "JPntGJgS7fZr"
      },
      "execution_count": null,
      "outputs": []
    },
    {
      "cell_type": "code",
      "source": [
        "df22[['DATA']].info()"
      ],
      "metadata": {
        "colab": {
          "base_uri": "https://localhost:8080/"
        },
        "id": "oNBFxMCD8K4r",
        "outputId": "f6d568c2-080a-4352-bfae-13b6845f9879"
      },
      "execution_count": null,
      "outputs": [
        {
          "output_type": "stream",
          "name": "stdout",
          "text": [
            "<class 'pandas.core.frame.DataFrame'>\n",
            "Int64Index: 3496 entries, 0 to 3581\n",
            "Data columns (total 1 columns):\n",
            " #   Column  Non-Null Count  Dtype \n",
            "---  ------  --------------  ----- \n",
            " 0   DATA    3496 non-null   object\n",
            "dtypes: object(1)\n",
            "memory usage: 54.6+ KB\n"
          ]
        }
      ]
    },
    {
      "cell_type": "markdown",
      "source": [
        "passar o valore_reembolsado para float"
      ],
      "metadata": {
        "id": "xW_bCkYW8zL9"
      }
    },
    {
      "cell_type": "code",
      "source": [
        "df22['VALOR_REEMBOLSADO']=df22['VALOR_REEMBOLSADO'].str.replace(',','.')\n",
        "df22['VALOR_REEMBOLSADO']=df22['VALOR_REEMBOLSADO'].astype(float)"
      ],
      "metadata": {
        "id": "UfiP2beZ82Tc"
      },
      "execution_count": null,
      "outputs": []
    },
    {
      "cell_type": "code",
      "source": [
        "df22[['VALOR_REEMBOLSADO']].info()"
      ],
      "metadata": {
        "colab": {
          "base_uri": "https://localhost:8080/"
        },
        "id": "_ebc-Ro29yn9",
        "outputId": "1b4403fe-2654-4de9-8866-fe6f2742659c"
      },
      "execution_count": null,
      "outputs": [
        {
          "output_type": "stream",
          "name": "stdout",
          "text": [
            "<class 'pandas.core.frame.DataFrame'>\n",
            "Int64Index: 3496 entries, 0 to 3581\n",
            "Data columns (total 1 columns):\n",
            " #   Column             Non-Null Count  Dtype  \n",
            "---  ------             --------------  -----  \n",
            " 0   VALOR_REEMBOLSADO  3496 non-null   float64\n",
            "dtypes: float64(1)\n",
            "memory usage: 54.6 KB\n"
          ]
        }
      ]
    },
    {
      "cell_type": "code",
      "source": [
        "df22.describe()"
      ],
      "metadata": {
        "colab": {
          "base_uri": "https://localhost:8080/",
          "height": 300
        },
        "id": "e3kmxgKI8ap6",
        "outputId": "0d6ea2e5-2111-4b02-b1b5-11ea6002fa49"
      },
      "execution_count": null,
      "outputs": [
        {
          "output_type": "execute_result",
          "data": {
            "text/plain": [
              "          ANO          MES  VALOR_REEMBOLSADO  COD_DOCUMENTO\n",
              "count  3496.0  3496.000000        3496.000000   3.496000e+03\n",
              "mean   2022.0     2.094966        1688.723801   2.175491e+06\n",
              "std       0.0     0.828752        3220.141124   1.331196e+03\n",
              "min    2022.0     1.000000           0.010000   2.172907e+06\n",
              "25%    2022.0     1.000000         222.892500   2.174416e+06\n",
              "50%    2022.0     2.000000         551.135000   2.175520e+06\n",
              "75%    2022.0     3.000000        2000.000000   2.176580e+06\n",
              "max    2022.0     4.000000       77012.000000   2.177955e+06"
            ],
            "text/html": [
              "\n",
              "  <div id=\"df-368127c0-33f9-4c40-b42d-89313e919422\">\n",
              "    <div class=\"colab-df-container\">\n",
              "      <div>\n",
              "<style scoped>\n",
              "    .dataframe tbody tr th:only-of-type {\n",
              "        vertical-align: middle;\n",
              "    }\n",
              "\n",
              "    .dataframe tbody tr th {\n",
              "        vertical-align: top;\n",
              "    }\n",
              "\n",
              "    .dataframe thead th {\n",
              "        text-align: right;\n",
              "    }\n",
              "</style>\n",
              "<table border=\"1\" class=\"dataframe\">\n",
              "  <thead>\n",
              "    <tr style=\"text-align: right;\">\n",
              "      <th></th>\n",
              "      <th>ANO</th>\n",
              "      <th>MES</th>\n",
              "      <th>VALOR_REEMBOLSADO</th>\n",
              "      <th>COD_DOCUMENTO</th>\n",
              "    </tr>\n",
              "  </thead>\n",
              "  <tbody>\n",
              "    <tr>\n",
              "      <th>count</th>\n",
              "      <td>3496.0</td>\n",
              "      <td>3496.000000</td>\n",
              "      <td>3496.000000</td>\n",
              "      <td>3.496000e+03</td>\n",
              "    </tr>\n",
              "    <tr>\n",
              "      <th>mean</th>\n",
              "      <td>2022.0</td>\n",
              "      <td>2.094966</td>\n",
              "      <td>1688.723801</td>\n",
              "      <td>2.175491e+06</td>\n",
              "    </tr>\n",
              "    <tr>\n",
              "      <th>std</th>\n",
              "      <td>0.0</td>\n",
              "      <td>0.828752</td>\n",
              "      <td>3220.141124</td>\n",
              "      <td>1.331196e+03</td>\n",
              "    </tr>\n",
              "    <tr>\n",
              "      <th>min</th>\n",
              "      <td>2022.0</td>\n",
              "      <td>1.000000</td>\n",
              "      <td>0.010000</td>\n",
              "      <td>2.172907e+06</td>\n",
              "    </tr>\n",
              "    <tr>\n",
              "      <th>25%</th>\n",
              "      <td>2022.0</td>\n",
              "      <td>1.000000</td>\n",
              "      <td>222.892500</td>\n",
              "      <td>2.174416e+06</td>\n",
              "    </tr>\n",
              "    <tr>\n",
              "      <th>50%</th>\n",
              "      <td>2022.0</td>\n",
              "      <td>2.000000</td>\n",
              "      <td>551.135000</td>\n",
              "      <td>2.175520e+06</td>\n",
              "    </tr>\n",
              "    <tr>\n",
              "      <th>75%</th>\n",
              "      <td>2022.0</td>\n",
              "      <td>3.000000</td>\n",
              "      <td>2000.000000</td>\n",
              "      <td>2.176580e+06</td>\n",
              "    </tr>\n",
              "    <tr>\n",
              "      <th>max</th>\n",
              "      <td>2022.0</td>\n",
              "      <td>4.000000</td>\n",
              "      <td>77012.000000</td>\n",
              "      <td>2.177955e+06</td>\n",
              "    </tr>\n",
              "  </tbody>\n",
              "</table>\n",
              "</div>\n",
              "      <button class=\"colab-df-convert\" onclick=\"convertToInteractive('df-368127c0-33f9-4c40-b42d-89313e919422')\"\n",
              "              title=\"Convert this dataframe to an interactive table.\"\n",
              "              style=\"display:none;\">\n",
              "        \n",
              "  <svg xmlns=\"http://www.w3.org/2000/svg\" height=\"24px\"viewBox=\"0 0 24 24\"\n",
              "       width=\"24px\">\n",
              "    <path d=\"M0 0h24v24H0V0z\" fill=\"none\"/>\n",
              "    <path d=\"M18.56 5.44l.94 2.06.94-2.06 2.06-.94-2.06-.94-.94-2.06-.94 2.06-2.06.94zm-11 1L8.5 8.5l.94-2.06 2.06-.94-2.06-.94L8.5 2.5l-.94 2.06-2.06.94zm10 10l.94 2.06.94-2.06 2.06-.94-2.06-.94-.94-2.06-.94 2.06-2.06.94z\"/><path d=\"M17.41 7.96l-1.37-1.37c-.4-.4-.92-.59-1.43-.59-.52 0-1.04.2-1.43.59L10.3 9.45l-7.72 7.72c-.78.78-.78 2.05 0 2.83L4 21.41c.39.39.9.59 1.41.59.51 0 1.02-.2 1.41-.59l7.78-7.78 2.81-2.81c.8-.78.8-2.07 0-2.86zM5.41 20L4 18.59l7.72-7.72 1.47 1.35L5.41 20z\"/>\n",
              "  </svg>\n",
              "      </button>\n",
              "      \n",
              "  <style>\n",
              "    .colab-df-container {\n",
              "      display:flex;\n",
              "      flex-wrap:wrap;\n",
              "      gap: 12px;\n",
              "    }\n",
              "\n",
              "    .colab-df-convert {\n",
              "      background-color: #E8F0FE;\n",
              "      border: none;\n",
              "      border-radius: 50%;\n",
              "      cursor: pointer;\n",
              "      display: none;\n",
              "      fill: #1967D2;\n",
              "      height: 32px;\n",
              "      padding: 0 0 0 0;\n",
              "      width: 32px;\n",
              "    }\n",
              "\n",
              "    .colab-df-convert:hover {\n",
              "      background-color: #E2EBFA;\n",
              "      box-shadow: 0px 1px 2px rgba(60, 64, 67, 0.3), 0px 1px 3px 1px rgba(60, 64, 67, 0.15);\n",
              "      fill: #174EA6;\n",
              "    }\n",
              "\n",
              "    [theme=dark] .colab-df-convert {\n",
              "      background-color: #3B4455;\n",
              "      fill: #D2E3FC;\n",
              "    }\n",
              "\n",
              "    [theme=dark] .colab-df-convert:hover {\n",
              "      background-color: #434B5C;\n",
              "      box-shadow: 0px 1px 3px 1px rgba(0, 0, 0, 0.15);\n",
              "      filter: drop-shadow(0px 1px 2px rgba(0, 0, 0, 0.3));\n",
              "      fill: #FFFFFF;\n",
              "    }\n",
              "  </style>\n",
              "\n",
              "      <script>\n",
              "        const buttonEl =\n",
              "          document.querySelector('#df-368127c0-33f9-4c40-b42d-89313e919422 button.colab-df-convert');\n",
              "        buttonEl.style.display =\n",
              "          google.colab.kernel.accessAllowed ? 'block' : 'none';\n",
              "\n",
              "        async function convertToInteractive(key) {\n",
              "          const element = document.querySelector('#df-368127c0-33f9-4c40-b42d-89313e919422');\n",
              "          const dataTable =\n",
              "            await google.colab.kernel.invokeFunction('convertToInteractive',\n",
              "                                                     [key], {});\n",
              "          if (!dataTable) return;\n",
              "\n",
              "          const docLinkHtml = 'Like what you see? Visit the ' +\n",
              "            '<a target=\"_blank\" href=https://colab.research.google.com/notebooks/data_table.ipynb>data table notebook</a>'\n",
              "            + ' to learn more about interactive tables.';\n",
              "          element.innerHTML = '';\n",
              "          dataTable['output_type'] = 'display_data';\n",
              "          await google.colab.output.renderOutput(dataTable, element);\n",
              "          const docLink = document.createElement('div');\n",
              "          docLink.innerHTML = docLinkHtml;\n",
              "          element.appendChild(docLink);\n",
              "        }\n",
              "      </script>\n",
              "    </div>\n",
              "  </div>\n",
              "  "
            ]
          },
          "metadata": {},
          "execution_count": 106
        }
      ]
    },
    {
      "cell_type": "markdown",
      "source": [
        "Cehcando valroes duplicados"
      ],
      "metadata": {
        "id": "iWyBgb78Bceh"
      }
    },
    {
      "cell_type": "code",
      "source": [
        "df22.duplicated().sum()"
      ],
      "metadata": {
        "colab": {
          "base_uri": "https://localhost:8080/"
        },
        "id": "YXJIT0jpBW2_",
        "outputId": "02ef4b41-a238-48f1-ac1a-e12d553d4540"
      },
      "execution_count": null,
      "outputs": [
        {
          "output_type": "execute_result",
          "data": {
            "text/plain": [
              "0"
            ]
          },
          "metadata": {},
          "execution_count": 107
        }
      ]
    },
    {
      "cell_type": "markdown",
      "source": [
        "Checando valores nulos"
      ],
      "metadata": {
        "id": "eNJqlG8fBesU"
      }
    },
    {
      "cell_type": "code",
      "source": [
        "df22.isnull().sum()"
      ],
      "metadata": {
        "colab": {
          "base_uri": "https://localhost:8080/"
        },
        "id": "I-LIkvivAuAY",
        "outputId": "3ff72e7f-eed8-4a39-e55c-eb156e76c73e"
      },
      "execution_count": null,
      "outputs": [
        {
          "output_type": "execute_result",
          "data": {
            "text/plain": [
              "ANO                     0\n",
              "MES                     0\n",
              "SENADOR                 0\n",
              "TIPO_DESPESA            0\n",
              "CNPJ_CPF                0\n",
              "FORNECEDOR              0\n",
              "DOCUMENTO             159\n",
              "DATA                    0\n",
              "DETALHAMENTO         1698\n",
              "VALOR_REEMBOLSADO       0\n",
              "COD_DOCUMENTO           0\n",
              "dtype: int64"
            ]
          },
          "metadata": {},
          "execution_count": 108
        }
      ]
    },
    {
      "cell_type": "markdown",
      "source": [
        "Como só temos nulo o documento e o detalhamento, vamos trocar esses valores por \" Sem Informação \""
      ],
      "metadata": {
        "id": "ab1aqU9TBipt"
      }
    },
    {
      "cell_type": "code",
      "source": [
        "df22 = df22.fillna(\"Sem informacao\")"
      ],
      "metadata": {
        "id": "dralf2RBBiPu"
      },
      "execution_count": null,
      "outputs": []
    },
    {
      "cell_type": "code",
      "source": [
        "df22.isnull().sum()"
      ],
      "metadata": {
        "colab": {
          "base_uri": "https://localhost:8080/"
        },
        "id": "MEmm315HB9bq",
        "outputId": "d528b70e-6475-4de4-aa20-fb556cd3d2ef"
      },
      "execution_count": null,
      "outputs": [
        {
          "output_type": "execute_result",
          "data": {
            "text/plain": [
              "ANO                  0\n",
              "MES                  0\n",
              "SENADOR              0\n",
              "TIPO_DESPESA         0\n",
              "CNPJ_CPF             0\n",
              "FORNECEDOR           0\n",
              "DOCUMENTO            0\n",
              "DATA                 0\n",
              "DETALHAMENTO         0\n",
              "VALOR_REEMBOLSADO    0\n",
              "COD_DOCUMENTO        0\n",
              "dtype: int64"
            ]
          },
          "metadata": {},
          "execution_count": 110
        }
      ]
    },
    {
      "cell_type": "markdown",
      "source": [
        "## DF21"
      ],
      "metadata": {
        "id": "YqcmRA3nDZK-"
      }
    },
    {
      "cell_type": "code",
      "source": [
        "df21 = pd.read_csv('despesa_ceaps_2021_enc.csv',sep=\";\",header=1, skiprows=0)\n",
        "df21.head(2)"
      ],
      "metadata": {
        "colab": {
          "base_uri": "https://localhost:8080/",
          "height": 243
        },
        "id": "-FT7gBuzDcAF",
        "outputId": "3a40b3b9-8500-4cb6-9e11-d770a2c73416"
      },
      "execution_count": null,
      "outputs": [
        {
          "output_type": "execute_result",
          "data": {
            "text/plain": [
              "    ANO  MES       SENADOR                                       TIPO_DESPESA  \\\n",
              "0  2021    1  ACIR GURGACZ  Aluguel de imóveis para escritório político, c...   \n",
              "1  2021    1  ACIR GURGACZ  Aluguel de imóveis para escritório político, c...   \n",
              "\n",
              "             CNPJ_CPF                                         FORNECEDOR  \\\n",
              "0  05.914.650/0001-66                                           ENERGISA   \n",
              "1      062.135.728-64  FERNANDO WALDEIR PACINI e ANA LUCIA DA SILVA S...   \n",
              "\n",
              "     DOCUMENTO        DATA                                       DETALHAMENTO  \\\n",
              "0  023.489.627  21/01/2021  Pagamento de energia elétrica para uso do escr...   \n",
              "1      01/2021  05/01/2021  Despesa com pagamento de aluguel de imóvel par...   \n",
              "\n",
              "  VALOR_REEMBOLSADO  COD_DOCUMENTO  \n",
              "0             75,29        2158003  \n",
              "1              1000        2157367  "
            ],
            "text/html": [
              "\n",
              "  <div id=\"df-a46f9ad7-71fe-4a99-a0fb-dba982820011\">\n",
              "    <div class=\"colab-df-container\">\n",
              "      <div>\n",
              "<style scoped>\n",
              "    .dataframe tbody tr th:only-of-type {\n",
              "        vertical-align: middle;\n",
              "    }\n",
              "\n",
              "    .dataframe tbody tr th {\n",
              "        vertical-align: top;\n",
              "    }\n",
              "\n",
              "    .dataframe thead th {\n",
              "        text-align: right;\n",
              "    }\n",
              "</style>\n",
              "<table border=\"1\" class=\"dataframe\">\n",
              "  <thead>\n",
              "    <tr style=\"text-align: right;\">\n",
              "      <th></th>\n",
              "      <th>ANO</th>\n",
              "      <th>MES</th>\n",
              "      <th>SENADOR</th>\n",
              "      <th>TIPO_DESPESA</th>\n",
              "      <th>CNPJ_CPF</th>\n",
              "      <th>FORNECEDOR</th>\n",
              "      <th>DOCUMENTO</th>\n",
              "      <th>DATA</th>\n",
              "      <th>DETALHAMENTO</th>\n",
              "      <th>VALOR_REEMBOLSADO</th>\n",
              "      <th>COD_DOCUMENTO</th>\n",
              "    </tr>\n",
              "  </thead>\n",
              "  <tbody>\n",
              "    <tr>\n",
              "      <th>0</th>\n",
              "      <td>2021</td>\n",
              "      <td>1</td>\n",
              "      <td>ACIR GURGACZ</td>\n",
              "      <td>Aluguel de imóveis para escritório político, c...</td>\n",
              "      <td>05.914.650/0001-66</td>\n",
              "      <td>ENERGISA</td>\n",
              "      <td>023.489.627</td>\n",
              "      <td>21/01/2021</td>\n",
              "      <td>Pagamento de energia elétrica para uso do escr...</td>\n",
              "      <td>75,29</td>\n",
              "      <td>2158003</td>\n",
              "    </tr>\n",
              "    <tr>\n",
              "      <th>1</th>\n",
              "      <td>2021</td>\n",
              "      <td>1</td>\n",
              "      <td>ACIR GURGACZ</td>\n",
              "      <td>Aluguel de imóveis para escritório político, c...</td>\n",
              "      <td>062.135.728-64</td>\n",
              "      <td>FERNANDO WALDEIR PACINI e ANA LUCIA DA SILVA S...</td>\n",
              "      <td>01/2021</td>\n",
              "      <td>05/01/2021</td>\n",
              "      <td>Despesa com pagamento de aluguel de imóvel par...</td>\n",
              "      <td>1000</td>\n",
              "      <td>2157367</td>\n",
              "    </tr>\n",
              "  </tbody>\n",
              "</table>\n",
              "</div>\n",
              "      <button class=\"colab-df-convert\" onclick=\"convertToInteractive('df-a46f9ad7-71fe-4a99-a0fb-dba982820011')\"\n",
              "              title=\"Convert this dataframe to an interactive table.\"\n",
              "              style=\"display:none;\">\n",
              "        \n",
              "  <svg xmlns=\"http://www.w3.org/2000/svg\" height=\"24px\"viewBox=\"0 0 24 24\"\n",
              "       width=\"24px\">\n",
              "    <path d=\"M0 0h24v24H0V0z\" fill=\"none\"/>\n",
              "    <path d=\"M18.56 5.44l.94 2.06.94-2.06 2.06-.94-2.06-.94-.94-2.06-.94 2.06-2.06.94zm-11 1L8.5 8.5l.94-2.06 2.06-.94-2.06-.94L8.5 2.5l-.94 2.06-2.06.94zm10 10l.94 2.06.94-2.06 2.06-.94-2.06-.94-.94-2.06-.94 2.06-2.06.94z\"/><path d=\"M17.41 7.96l-1.37-1.37c-.4-.4-.92-.59-1.43-.59-.52 0-1.04.2-1.43.59L10.3 9.45l-7.72 7.72c-.78.78-.78 2.05 0 2.83L4 21.41c.39.39.9.59 1.41.59.51 0 1.02-.2 1.41-.59l7.78-7.78 2.81-2.81c.8-.78.8-2.07 0-2.86zM5.41 20L4 18.59l7.72-7.72 1.47 1.35L5.41 20z\"/>\n",
              "  </svg>\n",
              "      </button>\n",
              "      \n",
              "  <style>\n",
              "    .colab-df-container {\n",
              "      display:flex;\n",
              "      flex-wrap:wrap;\n",
              "      gap: 12px;\n",
              "    }\n",
              "\n",
              "    .colab-df-convert {\n",
              "      background-color: #E8F0FE;\n",
              "      border: none;\n",
              "      border-radius: 50%;\n",
              "      cursor: pointer;\n",
              "      display: none;\n",
              "      fill: #1967D2;\n",
              "      height: 32px;\n",
              "      padding: 0 0 0 0;\n",
              "      width: 32px;\n",
              "    }\n",
              "\n",
              "    .colab-df-convert:hover {\n",
              "      background-color: #E2EBFA;\n",
              "      box-shadow: 0px 1px 2px rgba(60, 64, 67, 0.3), 0px 1px 3px 1px rgba(60, 64, 67, 0.15);\n",
              "      fill: #174EA6;\n",
              "    }\n",
              "\n",
              "    [theme=dark] .colab-df-convert {\n",
              "      background-color: #3B4455;\n",
              "      fill: #D2E3FC;\n",
              "    }\n",
              "\n",
              "    [theme=dark] .colab-df-convert:hover {\n",
              "      background-color: #434B5C;\n",
              "      box-shadow: 0px 1px 3px 1px rgba(0, 0, 0, 0.15);\n",
              "      filter: drop-shadow(0px 1px 2px rgba(0, 0, 0, 0.3));\n",
              "      fill: #FFFFFF;\n",
              "    }\n",
              "  </style>\n",
              "\n",
              "      <script>\n",
              "        const buttonEl =\n",
              "          document.querySelector('#df-a46f9ad7-71fe-4a99-a0fb-dba982820011 button.colab-df-convert');\n",
              "        buttonEl.style.display =\n",
              "          google.colab.kernel.accessAllowed ? 'block' : 'none';\n",
              "\n",
              "        async function convertToInteractive(key) {\n",
              "          const element = document.querySelector('#df-a46f9ad7-71fe-4a99-a0fb-dba982820011');\n",
              "          const dataTable =\n",
              "            await google.colab.kernel.invokeFunction('convertToInteractive',\n",
              "                                                     [key], {});\n",
              "          if (!dataTable) return;\n",
              "\n",
              "          const docLinkHtml = 'Like what you see? Visit the ' +\n",
              "            '<a target=\"_blank\" href=https://colab.research.google.com/notebooks/data_table.ipynb>data table notebook</a>'\n",
              "            + ' to learn more about interactive tables.';\n",
              "          element.innerHTML = '';\n",
              "          dataTable['output_type'] = 'display_data';\n",
              "          await google.colab.output.renderOutput(dataTable, element);\n",
              "          const docLink = document.createElement('div');\n",
              "          docLink.innerHTML = docLinkHtml;\n",
              "          element.appendChild(docLink);\n",
              "        }\n",
              "      </script>\n",
              "    </div>\n",
              "  </div>\n",
              "  "
            ]
          },
          "metadata": {},
          "execution_count": 111
        }
      ]
    },
    {
      "cell_type": "code",
      "source": [
        "df21.info()"
      ],
      "metadata": {
        "colab": {
          "base_uri": "https://localhost:8080/"
        },
        "id": "kgVjFd-rDseW",
        "outputId": "9a6344ea-d29f-47c3-cb1b-b06e8d252777"
      },
      "execution_count": null,
      "outputs": [
        {
          "output_type": "stream",
          "name": "stdout",
          "text": [
            "<class 'pandas.core.frame.DataFrame'>\n",
            "RangeIndex: 16808 entries, 0 to 16807\n",
            "Data columns (total 11 columns):\n",
            " #   Column             Non-Null Count  Dtype \n",
            "---  ------             --------------  ----- \n",
            " 0   ANO                16808 non-null  int64 \n",
            " 1   MES                16808 non-null  int64 \n",
            " 2   SENADOR            16808 non-null  object\n",
            " 3   TIPO_DESPESA       16808 non-null  object\n",
            " 4   CNPJ_CPF           16808 non-null  object\n",
            " 5   FORNECEDOR         16808 non-null  object\n",
            " 6   DOCUMENTO          16133 non-null  object\n",
            " 7   DATA               16808 non-null  object\n",
            " 8   DETALHAMENTO       9193 non-null   object\n",
            " 9   VALOR_REEMBOLSADO  16808 non-null  object\n",
            " 10  COD_DOCUMENTO      16808 non-null  int64 \n",
            "dtypes: int64(3), object(8)\n",
            "memory usage: 1.4+ MB\n"
          ]
        }
      ]
    },
    {
      "cell_type": "markdown",
      "source": [
        "Passar data para datetime e alterar o valor reembolsado paara float"
      ],
      "metadata": {
        "id": "CfV0PWtrDyfX"
      }
    },
    {
      "cell_type": "code",
      "source": [
        "#df21['DATA'] = pd.to_datetime(df21['DATA'],infer_datetime_format= True)\n",
        "#tem um erro de digitação parece q erap raser 2021 e ficou 202."
      ],
      "metadata": {
        "id": "OubSQ5n-E7pH"
      },
      "execution_count": null,
      "outputs": []
    },
    {
      "cell_type": "code",
      "source": [
        "for i,row in enumerate(df21['DATA']):\n",
        "  if '29/10/0' in row:\n",
        "    print(i,\" = \",row)"
      ],
      "metadata": {
        "colab": {
          "base_uri": "https://localhost:8080/"
        },
        "id": "ToupSsbMFCNT",
        "outputId": "bea99f31-5692-46ce-cf76-b7d11fb578df"
      },
      "execution_count": null,
      "outputs": [
        {
          "output_type": "stream",
          "name": "stdout",
          "text": [
            "2146  =  29/10/0202\n"
          ]
        }
      ]
    },
    {
      "cell_type": "markdown",
      "source": [
        "Agora que sabemos que o erro esta na linha 2146, fica facil"
      ],
      "metadata": {
        "id": "RuABxk6pHZkS"
      }
    },
    {
      "cell_type": "code",
      "source": [
        "df21.loc[2146,[\"DATA\"]]"
      ],
      "metadata": {
        "colab": {
          "base_uri": "https://localhost:8080/"
        },
        "id": "WQM1VBXDIvAV",
        "outputId": "c21d303c-59c3-42a4-dd47-7967faa95130"
      },
      "execution_count": null,
      "outputs": [
        {
          "output_type": "execute_result",
          "data": {
            "text/plain": [
              "DATA    29/10/0202\n",
              "Name: 2146, dtype: object"
            ]
          },
          "metadata": {},
          "execution_count": 115
        }
      ]
    },
    {
      "cell_type": "code",
      "source": [
        "df21.loc[2146,[\"DATA\"]] = 29/10/2021"
      ],
      "metadata": {
        "id": "4VL60IgBHdp6"
      },
      "execution_count": null,
      "outputs": []
    },
    {
      "cell_type": "code",
      "source": [
        "for i,r in enumerate(df21[\"DATA\"]):\n",
        "  try:\n",
        "    r.split(\"/\")[2]\n",
        "  except:\n",
        "    print(i,r)"
      ],
      "metadata": {
        "colab": {
          "base_uri": "https://localhost:8080/"
        },
        "id": "ia23gQrznauP",
        "outputId": "4f1eb5e9-7521-4c34-b52f-2236b8b1fa51"
      },
      "execution_count": null,
      "outputs": [
        {
          "output_type": "stream",
          "name": "stdout",
          "text": [
            "2146 0.0014349332013854528\n"
          ]
        }
      ]
    },
    {
      "cell_type": "code",
      "source": [
        "df21[df21[\"DATA\"] == 0.0014349332013854528 ]"
      ],
      "metadata": {
        "colab": {
          "base_uri": "https://localhost:8080/",
          "height": 159
        },
        "id": "nmzEWXCwnsGO",
        "outputId": "e3e1ea83-bce3-4302-841b-64f27ecd8d65"
      },
      "execution_count": null,
      "outputs": [
        {
          "output_type": "execute_result",
          "data": {
            "text/plain": [
              "       ANO  MES       SENADOR  \\\n",
              "2146  2021   11  CARLOS VIANA   \n",
              "\n",
              "                                           TIPO_DESPESA            CNPJ_CPF  \\\n",
              "2146  Passagens aéreas, aquáticas e terrestres nacio...  16.978.175/0001-08   \n",
              "\n",
              "                        FORNECEDOR DOCUMENTO      DATA  \\\n",
              "2146  ADRIA VIAGENS E TURISMO LTDA    YK1QHD  0.001435   \n",
              "\n",
              "                                           DETALHAMENTO VALOR_REEMBOLSADO  \\\n",
              "2146  Companhia Aérea: AZUL, Localizador: YK1QHD. Pa...             339,9   \n",
              "\n",
              "      COD_DOCUMENTO  \n",
              "2146        2169237  "
            ],
            "text/html": [
              "\n",
              "  <div id=\"df-b96a8711-d332-4890-a192-9b4ae94c2ba0\">\n",
              "    <div class=\"colab-df-container\">\n",
              "      <div>\n",
              "<style scoped>\n",
              "    .dataframe tbody tr th:only-of-type {\n",
              "        vertical-align: middle;\n",
              "    }\n",
              "\n",
              "    .dataframe tbody tr th {\n",
              "        vertical-align: top;\n",
              "    }\n",
              "\n",
              "    .dataframe thead th {\n",
              "        text-align: right;\n",
              "    }\n",
              "</style>\n",
              "<table border=\"1\" class=\"dataframe\">\n",
              "  <thead>\n",
              "    <tr style=\"text-align: right;\">\n",
              "      <th></th>\n",
              "      <th>ANO</th>\n",
              "      <th>MES</th>\n",
              "      <th>SENADOR</th>\n",
              "      <th>TIPO_DESPESA</th>\n",
              "      <th>CNPJ_CPF</th>\n",
              "      <th>FORNECEDOR</th>\n",
              "      <th>DOCUMENTO</th>\n",
              "      <th>DATA</th>\n",
              "      <th>DETALHAMENTO</th>\n",
              "      <th>VALOR_REEMBOLSADO</th>\n",
              "      <th>COD_DOCUMENTO</th>\n",
              "    </tr>\n",
              "  </thead>\n",
              "  <tbody>\n",
              "    <tr>\n",
              "      <th>2146</th>\n",
              "      <td>2021</td>\n",
              "      <td>11</td>\n",
              "      <td>CARLOS VIANA</td>\n",
              "      <td>Passagens aéreas, aquáticas e terrestres nacio...</td>\n",
              "      <td>16.978.175/0001-08</td>\n",
              "      <td>ADRIA VIAGENS E TURISMO LTDA</td>\n",
              "      <td>YK1QHD</td>\n",
              "      <td>0.001435</td>\n",
              "      <td>Companhia Aérea: AZUL, Localizador: YK1QHD. Pa...</td>\n",
              "      <td>339,9</td>\n",
              "      <td>2169237</td>\n",
              "    </tr>\n",
              "  </tbody>\n",
              "</table>\n",
              "</div>\n",
              "      <button class=\"colab-df-convert\" onclick=\"convertToInteractive('df-b96a8711-d332-4890-a192-9b4ae94c2ba0')\"\n",
              "              title=\"Convert this dataframe to an interactive table.\"\n",
              "              style=\"display:none;\">\n",
              "        \n",
              "  <svg xmlns=\"http://www.w3.org/2000/svg\" height=\"24px\"viewBox=\"0 0 24 24\"\n",
              "       width=\"24px\">\n",
              "    <path d=\"M0 0h24v24H0V0z\" fill=\"none\"/>\n",
              "    <path d=\"M18.56 5.44l.94 2.06.94-2.06 2.06-.94-2.06-.94-.94-2.06-.94 2.06-2.06.94zm-11 1L8.5 8.5l.94-2.06 2.06-.94-2.06-.94L8.5 2.5l-.94 2.06-2.06.94zm10 10l.94 2.06.94-2.06 2.06-.94-2.06-.94-.94-2.06-.94 2.06-2.06.94z\"/><path d=\"M17.41 7.96l-1.37-1.37c-.4-.4-.92-.59-1.43-.59-.52 0-1.04.2-1.43.59L10.3 9.45l-7.72 7.72c-.78.78-.78 2.05 0 2.83L4 21.41c.39.39.9.59 1.41.59.51 0 1.02-.2 1.41-.59l7.78-7.78 2.81-2.81c.8-.78.8-2.07 0-2.86zM5.41 20L4 18.59l7.72-7.72 1.47 1.35L5.41 20z\"/>\n",
              "  </svg>\n",
              "      </button>\n",
              "      \n",
              "  <style>\n",
              "    .colab-df-container {\n",
              "      display:flex;\n",
              "      flex-wrap:wrap;\n",
              "      gap: 12px;\n",
              "    }\n",
              "\n",
              "    .colab-df-convert {\n",
              "      background-color: #E8F0FE;\n",
              "      border: none;\n",
              "      border-radius: 50%;\n",
              "      cursor: pointer;\n",
              "      display: none;\n",
              "      fill: #1967D2;\n",
              "      height: 32px;\n",
              "      padding: 0 0 0 0;\n",
              "      width: 32px;\n",
              "    }\n",
              "\n",
              "    .colab-df-convert:hover {\n",
              "      background-color: #E2EBFA;\n",
              "      box-shadow: 0px 1px 2px rgba(60, 64, 67, 0.3), 0px 1px 3px 1px rgba(60, 64, 67, 0.15);\n",
              "      fill: #174EA6;\n",
              "    }\n",
              "\n",
              "    [theme=dark] .colab-df-convert {\n",
              "      background-color: #3B4455;\n",
              "      fill: #D2E3FC;\n",
              "    }\n",
              "\n",
              "    [theme=dark] .colab-df-convert:hover {\n",
              "      background-color: #434B5C;\n",
              "      box-shadow: 0px 1px 3px 1px rgba(0, 0, 0, 0.15);\n",
              "      filter: drop-shadow(0px 1px 2px rgba(0, 0, 0, 0.3));\n",
              "      fill: #FFFFFF;\n",
              "    }\n",
              "  </style>\n",
              "\n",
              "      <script>\n",
              "        const buttonEl =\n",
              "          document.querySelector('#df-b96a8711-d332-4890-a192-9b4ae94c2ba0 button.colab-df-convert');\n",
              "        buttonEl.style.display =\n",
              "          google.colab.kernel.accessAllowed ? 'block' : 'none';\n",
              "\n",
              "        async function convertToInteractive(key) {\n",
              "          const element = document.querySelector('#df-b96a8711-d332-4890-a192-9b4ae94c2ba0');\n",
              "          const dataTable =\n",
              "            await google.colab.kernel.invokeFunction('convertToInteractive',\n",
              "                                                     [key], {});\n",
              "          if (!dataTable) return;\n",
              "\n",
              "          const docLinkHtml = 'Like what you see? Visit the ' +\n",
              "            '<a target=\"_blank\" href=https://colab.research.google.com/notebooks/data_table.ipynb>data table notebook</a>'\n",
              "            + ' to learn more about interactive tables.';\n",
              "          element.innerHTML = '';\n",
              "          dataTable['output_type'] = 'display_data';\n",
              "          await google.colab.output.renderOutput(dataTable, element);\n",
              "          const docLink = document.createElement('div');\n",
              "          docLink.innerHTML = docLinkHtml;\n",
              "          element.appendChild(docLink);\n",
              "        }\n",
              "      </script>\n",
              "    </div>\n",
              "  </div>\n",
              "  "
            ]
          },
          "metadata": {},
          "execution_count": 118
        }
      ]
    },
    {
      "cell_type": "code",
      "source": [
        "df21.drop(2146, inplace = True)"
      ],
      "metadata": {
        "id": "xJ58fU7-oEeF"
      },
      "execution_count": null,
      "outputs": []
    },
    {
      "cell_type": "code",
      "source": [
        "df21['DATA']=df21['DATA'].str.replace('-','/') \n",
        "df21['DATA']=df21['DATA'].str.replace(\"-\",'/')"
      ],
      "metadata": {
        "id": "y3IYdakir66R"
      },
      "execution_count": null,
      "outputs": []
    },
    {
      "cell_type": "code",
      "source": [
        "df21['DATA'].sort_values()"
      ],
      "metadata": {
        "colab": {
          "base_uri": "https://localhost:8080/"
        },
        "id": "PABgt8Jjs8tO",
        "outputId": "72e8c7ae-a889-4472-fc08-84ad1e83ae6a"
      },
      "execution_count": null,
      "outputs": [
        {
          "output_type": "execute_result",
          "data": {
            "text/plain": [
              "177      01/01/2021\n",
              "3041     01/01/2021\n",
              "8977     01/01/2021\n",
              "3512     01/01/2021\n",
              "3489     01/01/2021\n",
              "            ...    \n",
              "11166    31/12/2021\n",
              "12667    31/12/2021\n",
              "14235    31/12/2021\n",
              "5867     31/12/2021\n",
              "11170    31/12/2021\n",
              "Name: DATA, Length: 16807, dtype: object"
            ]
          },
          "metadata": {},
          "execution_count": 121
        }
      ]
    },
    {
      "cell_type": "code",
      "source": [
        "df21[(df21[\"SENADOR\"] == \"MARCOS DO VAL\")& (df21[\"DATA\"] == \"22/01/2010\")]"
      ],
      "metadata": {
        "colab": {
          "base_uri": "https://localhost:8080/",
          "height": 159
        },
        "id": "ASwby2Z_zm5Q",
        "outputId": "5214c291-baac-4e7b-c265-256555c115ee"
      },
      "execution_count": null,
      "outputs": [
        {
          "output_type": "execute_result",
          "data": {
            "text/plain": [
              "        ANO  MES        SENADOR  \\\n",
              "10715  2021    1  MARCOS DO VAL   \n",
              "\n",
              "                                            TIPO_DESPESA            CNPJ_CPF  \\\n",
              "10715  Passagens aéreas, aquáticas e terrestres nacio...  16.978.175/0001-08   \n",
              "\n",
              "               FORNECEDOR DOCUMENTO        DATA  \\\n",
              "10715  ADRIA VIAGENS LTDA    SLJGZR  22/01/2010   \n",
              "\n",
              "                                            DETALHAMENTO VALOR_REEMBOLSADO  \\\n",
              "10715  Companhia Aérea: LATAM, Localizador: SLJGZR. P...            530,69   \n",
              "\n",
              "       COD_DOCUMENTO  \n",
              "10715        2155020  "
            ],
            "text/html": [
              "\n",
              "  <div id=\"df-ee414219-47b2-4f4c-abfe-e7ce7b412eca\">\n",
              "    <div class=\"colab-df-container\">\n",
              "      <div>\n",
              "<style scoped>\n",
              "    .dataframe tbody tr th:only-of-type {\n",
              "        vertical-align: middle;\n",
              "    }\n",
              "\n",
              "    .dataframe tbody tr th {\n",
              "        vertical-align: top;\n",
              "    }\n",
              "\n",
              "    .dataframe thead th {\n",
              "        text-align: right;\n",
              "    }\n",
              "</style>\n",
              "<table border=\"1\" class=\"dataframe\">\n",
              "  <thead>\n",
              "    <tr style=\"text-align: right;\">\n",
              "      <th></th>\n",
              "      <th>ANO</th>\n",
              "      <th>MES</th>\n",
              "      <th>SENADOR</th>\n",
              "      <th>TIPO_DESPESA</th>\n",
              "      <th>CNPJ_CPF</th>\n",
              "      <th>FORNECEDOR</th>\n",
              "      <th>DOCUMENTO</th>\n",
              "      <th>DATA</th>\n",
              "      <th>DETALHAMENTO</th>\n",
              "      <th>VALOR_REEMBOLSADO</th>\n",
              "      <th>COD_DOCUMENTO</th>\n",
              "    </tr>\n",
              "  </thead>\n",
              "  <tbody>\n",
              "    <tr>\n",
              "      <th>10715</th>\n",
              "      <td>2021</td>\n",
              "      <td>1</td>\n",
              "      <td>MARCOS DO VAL</td>\n",
              "      <td>Passagens aéreas, aquáticas e terrestres nacio...</td>\n",
              "      <td>16.978.175/0001-08</td>\n",
              "      <td>ADRIA VIAGENS LTDA</td>\n",
              "      <td>SLJGZR</td>\n",
              "      <td>22/01/2010</td>\n",
              "      <td>Companhia Aérea: LATAM, Localizador: SLJGZR. P...</td>\n",
              "      <td>530,69</td>\n",
              "      <td>2155020</td>\n",
              "    </tr>\n",
              "  </tbody>\n",
              "</table>\n",
              "</div>\n",
              "      <button class=\"colab-df-convert\" onclick=\"convertToInteractive('df-ee414219-47b2-4f4c-abfe-e7ce7b412eca')\"\n",
              "              title=\"Convert this dataframe to an interactive table.\"\n",
              "              style=\"display:none;\">\n",
              "        \n",
              "  <svg xmlns=\"http://www.w3.org/2000/svg\" height=\"24px\"viewBox=\"0 0 24 24\"\n",
              "       width=\"24px\">\n",
              "    <path d=\"M0 0h24v24H0V0z\" fill=\"none\"/>\n",
              "    <path d=\"M18.56 5.44l.94 2.06.94-2.06 2.06-.94-2.06-.94-.94-2.06-.94 2.06-2.06.94zm-11 1L8.5 8.5l.94-2.06 2.06-.94-2.06-.94L8.5 2.5l-.94 2.06-2.06.94zm10 10l.94 2.06.94-2.06 2.06-.94-2.06-.94-.94-2.06-.94 2.06-2.06.94z\"/><path d=\"M17.41 7.96l-1.37-1.37c-.4-.4-.92-.59-1.43-.59-.52 0-1.04.2-1.43.59L10.3 9.45l-7.72 7.72c-.78.78-.78 2.05 0 2.83L4 21.41c.39.39.9.59 1.41.59.51 0 1.02-.2 1.41-.59l7.78-7.78 2.81-2.81c.8-.78.8-2.07 0-2.86zM5.41 20L4 18.59l7.72-7.72 1.47 1.35L5.41 20z\"/>\n",
              "  </svg>\n",
              "      </button>\n",
              "      \n",
              "  <style>\n",
              "    .colab-df-container {\n",
              "      display:flex;\n",
              "      flex-wrap:wrap;\n",
              "      gap: 12px;\n",
              "    }\n",
              "\n",
              "    .colab-df-convert {\n",
              "      background-color: #E8F0FE;\n",
              "      border: none;\n",
              "      border-radius: 50%;\n",
              "      cursor: pointer;\n",
              "      display: none;\n",
              "      fill: #1967D2;\n",
              "      height: 32px;\n",
              "      padding: 0 0 0 0;\n",
              "      width: 32px;\n",
              "    }\n",
              "\n",
              "    .colab-df-convert:hover {\n",
              "      background-color: #E2EBFA;\n",
              "      box-shadow: 0px 1px 2px rgba(60, 64, 67, 0.3), 0px 1px 3px 1px rgba(60, 64, 67, 0.15);\n",
              "      fill: #174EA6;\n",
              "    }\n",
              "\n",
              "    [theme=dark] .colab-df-convert {\n",
              "      background-color: #3B4455;\n",
              "      fill: #D2E3FC;\n",
              "    }\n",
              "\n",
              "    [theme=dark] .colab-df-convert:hover {\n",
              "      background-color: #434B5C;\n",
              "      box-shadow: 0px 1px 3px 1px rgba(0, 0, 0, 0.15);\n",
              "      filter: drop-shadow(0px 1px 2px rgba(0, 0, 0, 0.3));\n",
              "      fill: #FFFFFF;\n",
              "    }\n",
              "  </style>\n",
              "\n",
              "      <script>\n",
              "        const buttonEl =\n",
              "          document.querySelector('#df-ee414219-47b2-4f4c-abfe-e7ce7b412eca button.colab-df-convert');\n",
              "        buttonEl.style.display =\n",
              "          google.colab.kernel.accessAllowed ? 'block' : 'none';\n",
              "\n",
              "        async function convertToInteractive(key) {\n",
              "          const element = document.querySelector('#df-ee414219-47b2-4f4c-abfe-e7ce7b412eca');\n",
              "          const dataTable =\n",
              "            await google.colab.kernel.invokeFunction('convertToInteractive',\n",
              "                                                     [key], {});\n",
              "          if (!dataTable) return;\n",
              "\n",
              "          const docLinkHtml = 'Like what you see? Visit the ' +\n",
              "            '<a target=\"_blank\" href=https://colab.research.google.com/notebooks/data_table.ipynb>data table notebook</a>'\n",
              "            + ' to learn more about interactive tables.';\n",
              "          element.innerHTML = '';\n",
              "          dataTable['output_type'] = 'display_data';\n",
              "          await google.colab.output.renderOutput(dataTable, element);\n",
              "          const docLink = document.createElement('div');\n",
              "          docLink.innerHTML = docLinkHtml;\n",
              "          element.appendChild(docLink);\n",
              "        }\n",
              "      </script>\n",
              "    </div>\n",
              "  </div>\n",
              "  "
            ]
          },
          "metadata": {},
          "execution_count": 122
        }
      ]
    },
    {
      "cell_type": "code",
      "source": [
        "df21.loc[10715,:]"
      ],
      "metadata": {
        "colab": {
          "base_uri": "https://localhost:8080/"
        },
        "id": "iy66YEh70Qnm",
        "outputId": "ce43b257-ab2f-4ab4-fe89-a96a349d7749"
      },
      "execution_count": null,
      "outputs": [
        {
          "output_type": "execute_result",
          "data": {
            "text/plain": [
              "ANO                                                               2021\n",
              "MES                                                                  1\n",
              "SENADOR                                                  MARCOS DO VAL\n",
              "TIPO_DESPESA         Passagens aéreas, aquáticas e terrestres nacio...\n",
              "CNPJ_CPF                                            16.978.175/0001-08\n",
              "FORNECEDOR                                          ADRIA VIAGENS LTDA\n",
              "DOCUMENTO                                                       SLJGZR\n",
              "DATA                                                        22/01/2010\n",
              "DETALHAMENTO         Companhia Aérea: LATAM, Localizador: SLJGZR. P...\n",
              "VALOR_REEMBOLSADO                                               530,69\n",
              "COD_DOCUMENTO                                                  2155020\n",
              "Name: 10715, dtype: object"
            ]
          },
          "metadata": {},
          "execution_count": 123
        }
      ]
    },
    {
      "cell_type": "code",
      "source": [
        "df21.drop(10715, inplace = True)"
      ],
      "metadata": {
        "id": "arqZkr1K0Nm_"
      },
      "execution_count": null,
      "outputs": []
    },
    {
      "cell_type": "code",
      "source": [
        "drop_linhas_ano_errado(df21,2021)"
      ],
      "metadata": {
        "id": "WcpVys61sW01",
        "colab": {
          "base_uri": "https://localhost:8080/",
          "height": 35
        },
        "outputId": "e82f7c00-3284-4cf0-f1d0-70d3ac2b146c"
      },
      "execution_count": null,
      "outputs": [
        {
          "output_type": "execute_result",
          "data": {
            "text/plain": [
              "'Foram deletadas 246 linhas '"
            ],
            "application/vnd.google.colaboratory.intrinsic+json": {
              "type": "string"
            }
          },
          "metadata": {},
          "execution_count": 125
        }
      ]
    },
    {
      "cell_type": "code",
      "source": [
        "for i in df21[\"DATA\"]:\n",
        "  if '-' in i:\n",
        "    print(i)"
      ],
      "metadata": {
        "id": "g6XzUAG1uxAS"
      },
      "execution_count": null,
      "outputs": []
    },
    {
      "cell_type": "code",
      "source": [
        "import datetime as dt\n",
        "dates = df21['DATA'].copy()\n",
        "dates= pd.to_datetime(dates,format = '%d/%m/%Y').dt.strftime('%d/%m/%Y')\n",
        "dates"
      ],
      "metadata": {
        "id": "HX2kGqW2JF2A",
        "colab": {
          "base_uri": "https://localhost:8080/"
        },
        "outputId": "4e3b6768-bd98-4e3e-ce26-e59c2f258b10"
      },
      "execution_count": null,
      "outputs": [
        {
          "output_type": "execute_result",
          "data": {
            "text/plain": [
              "0        21/01/2021\n",
              "1        05/01/2021\n",
              "2        06/01/2021\n",
              "3        25/01/2021\n",
              "4        07/01/2021\n",
              "            ...    \n",
              "16803    01/12/2021\n",
              "16804    15/12/2021\n",
              "16805    17/12/2021\n",
              "16806    27/12/2021\n",
              "16807    29/12/2021\n",
              "Name: DATA, Length: 16560, dtype: object"
            ]
          },
          "metadata": {},
          "execution_count": 127
        }
      ]
    },
    {
      "cell_type": "code",
      "source": [
        "df21[\"DATA\"] = dates"
      ],
      "metadata": {
        "id": "amVXcs7zwG7P"
      },
      "execution_count": null,
      "outputs": []
    },
    {
      "cell_type": "code",
      "source": [
        "df21['DATA'].sort_values()"
      ],
      "metadata": {
        "colab": {
          "base_uri": "https://localhost:8080/"
        },
        "id": "6lCuiZJnsOeC",
        "outputId": "dd7524d1-d155-49f2-ab7d-c5d0ff18e829"
      },
      "execution_count": null,
      "outputs": [
        {
          "output_type": "execute_result",
          "data": {
            "text/plain": [
              "3512     01/01/2021\n",
              "14067    01/01/2021\n",
              "177      01/01/2021\n",
              "3799     01/01/2021\n",
              "16423    01/01/2021\n",
              "            ...    \n",
              "11071    31/12/2021\n",
              "12667    31/12/2021\n",
              "15851    31/12/2021\n",
              "16796    31/12/2021\n",
              "11730    31/12/2021\n",
              "Name: DATA, Length: 16560, dtype: object"
            ]
          },
          "metadata": {},
          "execution_count": 129
        }
      ]
    },
    {
      "cell_type": "code",
      "source": [
        "df21['VALOR_REEMBOLSADO']=df21['VALOR_REEMBOLSADO'].str.replace(',','.')\n",
        "df21['VALOR_REEMBOLSADO']=df21['VALOR_REEMBOLSADO'].astype(float)"
      ],
      "metadata": {
        "id": "JeYs0EtBD_Un"
      },
      "execution_count": null,
      "outputs": []
    },
    {
      "cell_type": "markdown",
      "source": [
        "checar duplicadas e nulos"
      ],
      "metadata": {
        "id": "TkZnN4lEJHfv"
      }
    },
    {
      "cell_type": "code",
      "source": [
        "df21.duplicated().sum()"
      ],
      "metadata": {
        "colab": {
          "base_uri": "https://localhost:8080/"
        },
        "id": "c3H-7DgnJGuF",
        "outputId": "56d1c30d-a6ce-475d-f4d0-83b7d8e18ea4"
      },
      "execution_count": null,
      "outputs": [
        {
          "output_type": "execute_result",
          "data": {
            "text/plain": [
              "0"
            ]
          },
          "metadata": {},
          "execution_count": 131
        }
      ]
    },
    {
      "cell_type": "code",
      "source": [
        "df21.isnull().sum()"
      ],
      "metadata": {
        "colab": {
          "base_uri": "https://localhost:8080/"
        },
        "id": "sHegDUuIJNHi",
        "outputId": "be255295-ec36-4287-8cb1-3200b81697b6"
      },
      "execution_count": null,
      "outputs": [
        {
          "output_type": "execute_result",
          "data": {
            "text/plain": [
              "ANO                     0\n",
              "MES                     0\n",
              "SENADOR                 0\n",
              "TIPO_DESPESA            0\n",
              "CNPJ_CPF                0\n",
              "FORNECEDOR              0\n",
              "DOCUMENTO             667\n",
              "DATA                    0\n",
              "DETALHAMENTO         7494\n",
              "VALOR_REEMBOLSADO       0\n",
              "COD_DOCUMENTO           0\n",
              "dtype: int64"
            ]
          },
          "metadata": {},
          "execution_count": 132
        }
      ]
    },
    {
      "cell_type": "markdown",
      "source": [
        "Como só temos nulo o documento e o detalhamento, vamos trocar esses valores por \" Sem Informação \""
      ],
      "metadata": {
        "id": "kZhg2CQFJRWq"
      }
    },
    {
      "cell_type": "code",
      "source": [
        "df21.fillna(\"Sem informacao\",inplace = True)"
      ],
      "metadata": {
        "id": "lDrTpwXzJVBL"
      },
      "execution_count": null,
      "outputs": []
    },
    {
      "cell_type": "markdown",
      "source": [
        "## df 2020"
      ],
      "metadata": {
        "id": "8jpGcYPIJyfR"
      }
    },
    {
      "cell_type": "code",
      "source": [
        "df20 = pd.read_csv(d20,sep=\";\",header=1, skiprows=0)\n",
        "df20.head(2)"
      ],
      "metadata": {
        "colab": {
          "base_uri": "https://localhost:8080/",
          "height": 226
        },
        "id": "EElnc30AJ0j_",
        "outputId": "23a3f8e6-6467-4085-bf15-a373172ec7ba"
      },
      "execution_count": null,
      "outputs": [
        {
          "output_type": "execute_result",
          "data": {
            "text/plain": [
              "    ANO  MES       SENADOR                                       TIPO_DESPESA  \\\n",
              "0  2020    1  ACIR GURGACZ  Aluguel de imóveis para escritório político, c...   \n",
              "1  2020    1  ACIR GURGACZ  Aluguel de imóveis para escritório político, c...   \n",
              "\n",
              "             CNPJ_CPF FORNECEDOR DOCUMENTO        DATA  \\\n",
              "0  05.914.650/0001-66   ENERGISA  14764742  06/01/2020   \n",
              "1  05.914.650/0001-66   ENERGISA  14764741  06/01/2020   \n",
              "\n",
              "                                        DETALHAMENTO VALOR_REEMBOLSADO  \\\n",
              "0  Despesa com energia elétrica para uso do escri...            122,62   \n",
              "1  Despesa com energia elétrica para uso do escri...            137,75   \n",
              "\n",
              "   COD_DOCUMENTO  \n",
              "0        2141820  \n",
              "1        2141818  "
            ],
            "text/html": [
              "\n",
              "  <div id=\"df-d30892f7-2fc2-4f5d-93f6-178dca901fbc\">\n",
              "    <div class=\"colab-df-container\">\n",
              "      <div>\n",
              "<style scoped>\n",
              "    .dataframe tbody tr th:only-of-type {\n",
              "        vertical-align: middle;\n",
              "    }\n",
              "\n",
              "    .dataframe tbody tr th {\n",
              "        vertical-align: top;\n",
              "    }\n",
              "\n",
              "    .dataframe thead th {\n",
              "        text-align: right;\n",
              "    }\n",
              "</style>\n",
              "<table border=\"1\" class=\"dataframe\">\n",
              "  <thead>\n",
              "    <tr style=\"text-align: right;\">\n",
              "      <th></th>\n",
              "      <th>ANO</th>\n",
              "      <th>MES</th>\n",
              "      <th>SENADOR</th>\n",
              "      <th>TIPO_DESPESA</th>\n",
              "      <th>CNPJ_CPF</th>\n",
              "      <th>FORNECEDOR</th>\n",
              "      <th>DOCUMENTO</th>\n",
              "      <th>DATA</th>\n",
              "      <th>DETALHAMENTO</th>\n",
              "      <th>VALOR_REEMBOLSADO</th>\n",
              "      <th>COD_DOCUMENTO</th>\n",
              "    </tr>\n",
              "  </thead>\n",
              "  <tbody>\n",
              "    <tr>\n",
              "      <th>0</th>\n",
              "      <td>2020</td>\n",
              "      <td>1</td>\n",
              "      <td>ACIR GURGACZ</td>\n",
              "      <td>Aluguel de imóveis para escritório político, c...</td>\n",
              "      <td>05.914.650/0001-66</td>\n",
              "      <td>ENERGISA</td>\n",
              "      <td>14764742</td>\n",
              "      <td>06/01/2020</td>\n",
              "      <td>Despesa com energia elétrica para uso do escri...</td>\n",
              "      <td>122,62</td>\n",
              "      <td>2141820</td>\n",
              "    </tr>\n",
              "    <tr>\n",
              "      <th>1</th>\n",
              "      <td>2020</td>\n",
              "      <td>1</td>\n",
              "      <td>ACIR GURGACZ</td>\n",
              "      <td>Aluguel de imóveis para escritório político, c...</td>\n",
              "      <td>05.914.650/0001-66</td>\n",
              "      <td>ENERGISA</td>\n",
              "      <td>14764741</td>\n",
              "      <td>06/01/2020</td>\n",
              "      <td>Despesa com energia elétrica para uso do escri...</td>\n",
              "      <td>137,75</td>\n",
              "      <td>2141818</td>\n",
              "    </tr>\n",
              "  </tbody>\n",
              "</table>\n",
              "</div>\n",
              "      <button class=\"colab-df-convert\" onclick=\"convertToInteractive('df-d30892f7-2fc2-4f5d-93f6-178dca901fbc')\"\n",
              "              title=\"Convert this dataframe to an interactive table.\"\n",
              "              style=\"display:none;\">\n",
              "        \n",
              "  <svg xmlns=\"http://www.w3.org/2000/svg\" height=\"24px\"viewBox=\"0 0 24 24\"\n",
              "       width=\"24px\">\n",
              "    <path d=\"M0 0h24v24H0V0z\" fill=\"none\"/>\n",
              "    <path d=\"M18.56 5.44l.94 2.06.94-2.06 2.06-.94-2.06-.94-.94-2.06-.94 2.06-2.06.94zm-11 1L8.5 8.5l.94-2.06 2.06-.94-2.06-.94L8.5 2.5l-.94 2.06-2.06.94zm10 10l.94 2.06.94-2.06 2.06-.94-2.06-.94-.94-2.06-.94 2.06-2.06.94z\"/><path d=\"M17.41 7.96l-1.37-1.37c-.4-.4-.92-.59-1.43-.59-.52 0-1.04.2-1.43.59L10.3 9.45l-7.72 7.72c-.78.78-.78 2.05 0 2.83L4 21.41c.39.39.9.59 1.41.59.51 0 1.02-.2 1.41-.59l7.78-7.78 2.81-2.81c.8-.78.8-2.07 0-2.86zM5.41 20L4 18.59l7.72-7.72 1.47 1.35L5.41 20z\"/>\n",
              "  </svg>\n",
              "      </button>\n",
              "      \n",
              "  <style>\n",
              "    .colab-df-container {\n",
              "      display:flex;\n",
              "      flex-wrap:wrap;\n",
              "      gap: 12px;\n",
              "    }\n",
              "\n",
              "    .colab-df-convert {\n",
              "      background-color: #E8F0FE;\n",
              "      border: none;\n",
              "      border-radius: 50%;\n",
              "      cursor: pointer;\n",
              "      display: none;\n",
              "      fill: #1967D2;\n",
              "      height: 32px;\n",
              "      padding: 0 0 0 0;\n",
              "      width: 32px;\n",
              "    }\n",
              "\n",
              "    .colab-df-convert:hover {\n",
              "      background-color: #E2EBFA;\n",
              "      box-shadow: 0px 1px 2px rgba(60, 64, 67, 0.3), 0px 1px 3px 1px rgba(60, 64, 67, 0.15);\n",
              "      fill: #174EA6;\n",
              "    }\n",
              "\n",
              "    [theme=dark] .colab-df-convert {\n",
              "      background-color: #3B4455;\n",
              "      fill: #D2E3FC;\n",
              "    }\n",
              "\n",
              "    [theme=dark] .colab-df-convert:hover {\n",
              "      background-color: #434B5C;\n",
              "      box-shadow: 0px 1px 3px 1px rgba(0, 0, 0, 0.15);\n",
              "      filter: drop-shadow(0px 1px 2px rgba(0, 0, 0, 0.3));\n",
              "      fill: #FFFFFF;\n",
              "    }\n",
              "  </style>\n",
              "\n",
              "      <script>\n",
              "        const buttonEl =\n",
              "          document.querySelector('#df-d30892f7-2fc2-4f5d-93f6-178dca901fbc button.colab-df-convert');\n",
              "        buttonEl.style.display =\n",
              "          google.colab.kernel.accessAllowed ? 'block' : 'none';\n",
              "\n",
              "        async function convertToInteractive(key) {\n",
              "          const element = document.querySelector('#df-d30892f7-2fc2-4f5d-93f6-178dca901fbc');\n",
              "          const dataTable =\n",
              "            await google.colab.kernel.invokeFunction('convertToInteractive',\n",
              "                                                     [key], {});\n",
              "          if (!dataTable) return;\n",
              "\n",
              "          const docLinkHtml = 'Like what you see? Visit the ' +\n",
              "            '<a target=\"_blank\" href=https://colab.research.google.com/notebooks/data_table.ipynb>data table notebook</a>'\n",
              "            + ' to learn more about interactive tables.';\n",
              "          element.innerHTML = '';\n",
              "          dataTable['output_type'] = 'display_data';\n",
              "          await google.colab.output.renderOutput(dataTable, element);\n",
              "          const docLink = document.createElement('div');\n",
              "          docLink.innerHTML = docLinkHtml;\n",
              "          element.appendChild(docLink);\n",
              "        }\n",
              "      </script>\n",
              "    </div>\n",
              "  </div>\n",
              "  "
            ]
          },
          "metadata": {},
          "execution_count": 134
        }
      ]
    },
    {
      "cell_type": "code",
      "source": [
        "df20.info()"
      ],
      "metadata": {
        "colab": {
          "base_uri": "https://localhost:8080/"
        },
        "id": "mUgMBZO3KRQD",
        "outputId": "90e5e72d-935b-4565-cdb1-eb706538e0fe"
      },
      "execution_count": null,
      "outputs": [
        {
          "output_type": "stream",
          "name": "stdout",
          "text": [
            "<class 'pandas.core.frame.DataFrame'>\n",
            "RangeIndex: 14090 entries, 0 to 14089\n",
            "Data columns (total 11 columns):\n",
            " #   Column             Non-Null Count  Dtype \n",
            "---  ------             --------------  ----- \n",
            " 0   ANO                14090 non-null  int64 \n",
            " 1   MES                14090 non-null  int64 \n",
            " 2   SENADOR            14090 non-null  object\n",
            " 3   TIPO_DESPESA       14090 non-null  object\n",
            " 4   CNPJ_CPF           14090 non-null  object\n",
            " 5   FORNECEDOR         14090 non-null  object\n",
            " 6   DOCUMENTO          13470 non-null  object\n",
            " 7   DATA               14090 non-null  object\n",
            " 8   DETALHAMENTO       7228 non-null   object\n",
            " 9   VALOR_REEMBOLSADO  14090 non-null  object\n",
            " 10  COD_DOCUMENTO      14090 non-null  int64 \n",
            "dtypes: int64(3), object(8)\n",
            "memory usage: 1.2+ MB\n"
          ]
        }
      ]
    },
    {
      "cell_type": "code",
      "source": [
        "# alterar valor reembolsado para float\n",
        "df20['VALOR_REEMBOLSADO']=df20['VALOR_REEMBOLSADO'].str.replace(',','.')\n",
        "df20['VALOR_REEMBOLSADO']=df20['VALOR_REEMBOLSADO'].astype(float)"
      ],
      "metadata": {
        "id": "ufeumNGOKYME"
      },
      "execution_count": null,
      "outputs": []
    },
    {
      "cell_type": "code",
      "source": [
        "drop_linhas_ano_errado(df20,2020)"
      ],
      "metadata": {
        "colab": {
          "base_uri": "https://localhost:8080/",
          "height": 35
        },
        "id": "nGsoCN6MnIH0",
        "outputId": "514998b5-50d0-466d-de4d-58e7a5456bb4"
      },
      "execution_count": null,
      "outputs": [
        {
          "output_type": "execute_result",
          "data": {
            "text/plain": [
              "'Foram deletadas 293 linhas '"
            ],
            "application/vnd.google.colaboratory.intrinsic+json": {
              "type": "string"
            }
          },
          "metadata": {},
          "execution_count": 137
        }
      ]
    },
    {
      "cell_type": "code",
      "source": [
        "#alterar data para datetime\n",
        "df20[\"DATA\"] = pd.to_datetime(df20[\"DATA\"],format = '%d/%m/%Y').dt.strftime('%d/%m/%Y')"
      ],
      "metadata": {
        "id": "ALHHyecBKgxw"
      },
      "execution_count": null,
      "outputs": []
    },
    {
      "cell_type": "code",
      "source": [
        "df20[\"DATA\"].sort_values()"
      ],
      "metadata": {
        "colab": {
          "base_uri": "https://localhost:8080/"
        },
        "id": "JluyraiYwS9n",
        "outputId": "2e1491cf-99d3-44d7-fe56-d7284162f108"
      },
      "execution_count": null,
      "outputs": [
        {
          "output_type": "execute_result",
          "data": {
            "text/plain": [
              "5976     01/01/2020\n",
              "2340     01/01/2020\n",
              "5765     01/01/2020\n",
              "6625     01/01/2020\n",
              "2844     01/01/2020\n",
              "            ...    \n",
              "3081     31/12/2020\n",
              "9219     31/12/2020\n",
              "7749     31/12/2020\n",
              "7489     31/12/2020\n",
              "10864    31/12/2020\n",
              "Name: DATA, Length: 13797, dtype: object"
            ]
          },
          "metadata": {},
          "execution_count": 139
        }
      ]
    },
    {
      "cell_type": "code",
      "source": [
        "df20.duplicated().sum()"
      ],
      "metadata": {
        "colab": {
          "base_uri": "https://localhost:8080/"
        },
        "id": "6-jeTwr_KjP2",
        "outputId": "483a4aa2-7b3f-4d36-b2be-b56ccf66f1b6"
      },
      "execution_count": null,
      "outputs": [
        {
          "output_type": "execute_result",
          "data": {
            "text/plain": [
              "0"
            ]
          },
          "metadata": {},
          "execution_count": 140
        }
      ]
    },
    {
      "cell_type": "code",
      "source": [
        "df20.isnull().sum()"
      ],
      "metadata": {
        "colab": {
          "base_uri": "https://localhost:8080/"
        },
        "id": "cMvg7EiBKwSb",
        "outputId": "ca480651-74cc-4563-cb1d-41cf95681d93"
      },
      "execution_count": null,
      "outputs": [
        {
          "output_type": "execute_result",
          "data": {
            "text/plain": [
              "ANO                     0\n",
              "MES                     0\n",
              "SENADOR                 0\n",
              "TIPO_DESPESA            0\n",
              "CNPJ_CPF                0\n",
              "FORNECEDOR              0\n",
              "DOCUMENTO             617\n",
              "DATA                    0\n",
              "DETALHAMENTO         6726\n",
              "VALOR_REEMBOLSADO       0\n",
              "COD_DOCUMENTO           0\n",
              "dtype: int64"
            ]
          },
          "metadata": {},
          "execution_count": 141
        }
      ]
    },
    {
      "cell_type": "code",
      "source": [
        "df20.fillna(\"Sem Informacao\",inplace = True)"
      ],
      "metadata": {
        "id": "V7ZoymaXKzJU"
      },
      "execution_count": null,
      "outputs": []
    },
    {
      "cell_type": "code",
      "source": [
        "df20.DATA.dtype"
      ],
      "metadata": {
        "colab": {
          "base_uri": "https://localhost:8080/"
        },
        "id": "EWv4Z0H-UrRu",
        "outputId": "9cbed74e-76f5-45d1-fcf0-4c4b0f087cd7"
      },
      "execution_count": null,
      "outputs": [
        {
          "output_type": "execute_result",
          "data": {
            "text/plain": [
              "dtype('O')"
            ]
          },
          "metadata": {},
          "execution_count": 143
        }
      ]
    },
    {
      "cell_type": "markdown",
      "source": [
        "## df2019"
      ],
      "metadata": {
        "id": "1zZ5twSqL4xo"
      }
    },
    {
      "cell_type": "code",
      "source": [
        "df19 = pd.read_csv(d19,sep=\";\",header=1, skiprows=0)\n",
        "df19.head(2)"
      ],
      "metadata": {
        "colab": {
          "base_uri": "https://localhost:8080/",
          "height": 226
        },
        "id": "gq-X1_IgLxgV",
        "outputId": "e2bc6455-f626-4511-f874-a89155bd5bd5"
      },
      "execution_count": null,
      "outputs": [
        {
          "output_type": "execute_result",
          "data": {
            "text/plain": [
              "    ANO  MES       SENADOR                                       TIPO_DESPESA  \\\n",
              "0  2019    1  ACIR GURGACZ  Aluguel de imóveis para escritório político, c...   \n",
              "1  2019    1  ACIR GURGACZ  Aluguel de imóveis para escritório político, c...   \n",
              "\n",
              "             CNPJ_CPF FORNECEDOR  DOCUMENTO        DATA  \\\n",
              "0  05.914.650/0001-66   ENERGISA  006582758  04/01/2019   \n",
              "1  05.914.650/0001-66   ENERGISA  006582755  04/01/2019   \n",
              "\n",
              "                                        DETALHAMENTO VALOR_REEMBOLSADO  \\\n",
              "0  Despesa com pagamento de energia elétrica do e...             66,02   \n",
              "1  Despesa com pagamento de energia elétrica do e...            139,98   \n",
              "\n",
              "   COD_DOCUMENTO  \n",
              "0        2116543  \n",
              "1        2116546  "
            ],
            "text/html": [
              "\n",
              "  <div id=\"df-d2b86df6-b76c-4dcf-93e4-73efd1bcd15a\">\n",
              "    <div class=\"colab-df-container\">\n",
              "      <div>\n",
              "<style scoped>\n",
              "    .dataframe tbody tr th:only-of-type {\n",
              "        vertical-align: middle;\n",
              "    }\n",
              "\n",
              "    .dataframe tbody tr th {\n",
              "        vertical-align: top;\n",
              "    }\n",
              "\n",
              "    .dataframe thead th {\n",
              "        text-align: right;\n",
              "    }\n",
              "</style>\n",
              "<table border=\"1\" class=\"dataframe\">\n",
              "  <thead>\n",
              "    <tr style=\"text-align: right;\">\n",
              "      <th></th>\n",
              "      <th>ANO</th>\n",
              "      <th>MES</th>\n",
              "      <th>SENADOR</th>\n",
              "      <th>TIPO_DESPESA</th>\n",
              "      <th>CNPJ_CPF</th>\n",
              "      <th>FORNECEDOR</th>\n",
              "      <th>DOCUMENTO</th>\n",
              "      <th>DATA</th>\n",
              "      <th>DETALHAMENTO</th>\n",
              "      <th>VALOR_REEMBOLSADO</th>\n",
              "      <th>COD_DOCUMENTO</th>\n",
              "    </tr>\n",
              "  </thead>\n",
              "  <tbody>\n",
              "    <tr>\n",
              "      <th>0</th>\n",
              "      <td>2019</td>\n",
              "      <td>1</td>\n",
              "      <td>ACIR GURGACZ</td>\n",
              "      <td>Aluguel de imóveis para escritório político, c...</td>\n",
              "      <td>05.914.650/0001-66</td>\n",
              "      <td>ENERGISA</td>\n",
              "      <td>006582758</td>\n",
              "      <td>04/01/2019</td>\n",
              "      <td>Despesa com pagamento de energia elétrica do e...</td>\n",
              "      <td>66,02</td>\n",
              "      <td>2116543</td>\n",
              "    </tr>\n",
              "    <tr>\n",
              "      <th>1</th>\n",
              "      <td>2019</td>\n",
              "      <td>1</td>\n",
              "      <td>ACIR GURGACZ</td>\n",
              "      <td>Aluguel de imóveis para escritório político, c...</td>\n",
              "      <td>05.914.650/0001-66</td>\n",
              "      <td>ENERGISA</td>\n",
              "      <td>006582755</td>\n",
              "      <td>04/01/2019</td>\n",
              "      <td>Despesa com pagamento de energia elétrica do e...</td>\n",
              "      <td>139,98</td>\n",
              "      <td>2116546</td>\n",
              "    </tr>\n",
              "  </tbody>\n",
              "</table>\n",
              "</div>\n",
              "      <button class=\"colab-df-convert\" onclick=\"convertToInteractive('df-d2b86df6-b76c-4dcf-93e4-73efd1bcd15a')\"\n",
              "              title=\"Convert this dataframe to an interactive table.\"\n",
              "              style=\"display:none;\">\n",
              "        \n",
              "  <svg xmlns=\"http://www.w3.org/2000/svg\" height=\"24px\"viewBox=\"0 0 24 24\"\n",
              "       width=\"24px\">\n",
              "    <path d=\"M0 0h24v24H0V0z\" fill=\"none\"/>\n",
              "    <path d=\"M18.56 5.44l.94 2.06.94-2.06 2.06-.94-2.06-.94-.94-2.06-.94 2.06-2.06.94zm-11 1L8.5 8.5l.94-2.06 2.06-.94-2.06-.94L8.5 2.5l-.94 2.06-2.06.94zm10 10l.94 2.06.94-2.06 2.06-.94-2.06-.94-.94-2.06-.94 2.06-2.06.94z\"/><path d=\"M17.41 7.96l-1.37-1.37c-.4-.4-.92-.59-1.43-.59-.52 0-1.04.2-1.43.59L10.3 9.45l-7.72 7.72c-.78.78-.78 2.05 0 2.83L4 21.41c.39.39.9.59 1.41.59.51 0 1.02-.2 1.41-.59l7.78-7.78 2.81-2.81c.8-.78.8-2.07 0-2.86zM5.41 20L4 18.59l7.72-7.72 1.47 1.35L5.41 20z\"/>\n",
              "  </svg>\n",
              "      </button>\n",
              "      \n",
              "  <style>\n",
              "    .colab-df-container {\n",
              "      display:flex;\n",
              "      flex-wrap:wrap;\n",
              "      gap: 12px;\n",
              "    }\n",
              "\n",
              "    .colab-df-convert {\n",
              "      background-color: #E8F0FE;\n",
              "      border: none;\n",
              "      border-radius: 50%;\n",
              "      cursor: pointer;\n",
              "      display: none;\n",
              "      fill: #1967D2;\n",
              "      height: 32px;\n",
              "      padding: 0 0 0 0;\n",
              "      width: 32px;\n",
              "    }\n",
              "\n",
              "    .colab-df-convert:hover {\n",
              "      background-color: #E2EBFA;\n",
              "      box-shadow: 0px 1px 2px rgba(60, 64, 67, 0.3), 0px 1px 3px 1px rgba(60, 64, 67, 0.15);\n",
              "      fill: #174EA6;\n",
              "    }\n",
              "\n",
              "    [theme=dark] .colab-df-convert {\n",
              "      background-color: #3B4455;\n",
              "      fill: #D2E3FC;\n",
              "    }\n",
              "\n",
              "    [theme=dark] .colab-df-convert:hover {\n",
              "      background-color: #434B5C;\n",
              "      box-shadow: 0px 1px 3px 1px rgba(0, 0, 0, 0.15);\n",
              "      filter: drop-shadow(0px 1px 2px rgba(0, 0, 0, 0.3));\n",
              "      fill: #FFFFFF;\n",
              "    }\n",
              "  </style>\n",
              "\n",
              "      <script>\n",
              "        const buttonEl =\n",
              "          document.querySelector('#df-d2b86df6-b76c-4dcf-93e4-73efd1bcd15a button.colab-df-convert');\n",
              "        buttonEl.style.display =\n",
              "          google.colab.kernel.accessAllowed ? 'block' : 'none';\n",
              "\n",
              "        async function convertToInteractive(key) {\n",
              "          const element = document.querySelector('#df-d2b86df6-b76c-4dcf-93e4-73efd1bcd15a');\n",
              "          const dataTable =\n",
              "            await google.colab.kernel.invokeFunction('convertToInteractive',\n",
              "                                                     [key], {});\n",
              "          if (!dataTable) return;\n",
              "\n",
              "          const docLinkHtml = 'Like what you see? Visit the ' +\n",
              "            '<a target=\"_blank\" href=https://colab.research.google.com/notebooks/data_table.ipynb>data table notebook</a>'\n",
              "            + ' to learn more about interactive tables.';\n",
              "          element.innerHTML = '';\n",
              "          dataTable['output_type'] = 'display_data';\n",
              "          await google.colab.output.renderOutput(dataTable, element);\n",
              "          const docLink = document.createElement('div');\n",
              "          docLink.innerHTML = docLinkHtml;\n",
              "          element.appendChild(docLink);\n",
              "        }\n",
              "      </script>\n",
              "    </div>\n",
              "  </div>\n",
              "  "
            ]
          },
          "metadata": {},
          "execution_count": 144
        }
      ]
    },
    {
      "cell_type": "code",
      "source": [
        "df19.info()"
      ],
      "metadata": {
        "colab": {
          "base_uri": "https://localhost:8080/"
        },
        "id": "5k2ymNHOL_L6",
        "outputId": "99dc5bc6-09bc-42c6-905e-6cfceefba2d5"
      },
      "execution_count": null,
      "outputs": [
        {
          "output_type": "stream",
          "name": "stdout",
          "text": [
            "<class 'pandas.core.frame.DataFrame'>\n",
            "RangeIndex: 21634 entries, 0 to 21633\n",
            "Data columns (total 11 columns):\n",
            " #   Column             Non-Null Count  Dtype \n",
            "---  ------             --------------  ----- \n",
            " 0   ANO                21634 non-null  int64 \n",
            " 1   MES                21634 non-null  int64 \n",
            " 2   SENADOR            21634 non-null  object\n",
            " 3   TIPO_DESPESA       21634 non-null  object\n",
            " 4   CNPJ_CPF           21634 non-null  object\n",
            " 5   FORNECEDOR         21634 non-null  object\n",
            " 6   DOCUMENTO          20900 non-null  object\n",
            " 7   DATA               21634 non-null  object\n",
            " 8   DETALHAMENTO       13092 non-null  object\n",
            " 9   VALOR_REEMBOLSADO  21634 non-null  object\n",
            " 10  COD_DOCUMENTO      21634 non-null  int64 \n",
            "dtypes: int64(3), object(8)\n",
            "memory usage: 1.8+ MB\n"
          ]
        }
      ]
    },
    {
      "cell_type": "code",
      "source": [
        "# alterar valor reembolsado para float\n",
        "df19['VALOR_REEMBOLSADO']=df19['VALOR_REEMBOLSADO'].str.replace(',','.')\n",
        "df19['VALOR_REEMBOLSADO']=df19['VALOR_REEMBOLSADO'].astype(float)"
      ],
      "metadata": {
        "id": "WGVq7g_MMGVS"
      },
      "execution_count": null,
      "outputs": []
    },
    {
      "cell_type": "code",
      "source": [
        "#alterar data para datetime\n",
        "#df19[\"DATA\"] = pd.to_datetime(df19['DATA'],infer_datetime_format= True)"
      ],
      "metadata": {
        "id": "o8usg8irMUWr"
      },
      "execution_count": null,
      "outputs": []
    },
    {
      "cell_type": "code",
      "source": [
        "for i,row in enumerate(df19['DATA']):\n",
        "  if '31/01/0219' in row:\n",
        "    print(i,\" = \",row)"
      ],
      "metadata": {
        "colab": {
          "base_uri": "https://localhost:8080/"
        },
        "id": "UM6jKWRfMuM4",
        "outputId": "1849f819-1811-46b2-d7a0-262a8327451a"
      },
      "execution_count": null,
      "outputs": [
        {
          "output_type": "stream",
          "name": "stdout",
          "text": [
            "10986  =  31/01/0219\n"
          ]
        }
      ]
    },
    {
      "cell_type": "code",
      "source": [
        "df19.loc[10986,[\"DATA\"]] = \"31/01/2019\""
      ],
      "metadata": {
        "id": "Rc4gWbK_M6IF"
      },
      "execution_count": null,
      "outputs": []
    },
    {
      "cell_type": "code",
      "source": [
        "drop_linhas_ano_errado(df19,2019)"
      ],
      "metadata": {
        "colab": {
          "base_uri": "https://localhost:8080/",
          "height": 35
        },
        "id": "tcXsfvdAnLVQ",
        "outputId": "2cffbd7a-6248-44bc-94e0-a0afe66bdc12"
      },
      "execution_count": null,
      "outputs": [
        {
          "output_type": "execute_result",
          "data": {
            "text/plain": [
              "'Foram deletadas 196 linhas '"
            ],
            "application/vnd.google.colaboratory.intrinsic+json": {
              "type": "string"
            }
          },
          "metadata": {},
          "execution_count": 150
        }
      ]
    },
    {
      "cell_type": "code",
      "source": [
        "df19[\"DATA\"] = pd.to_datetime(df19['DATA'],format = '%d/%m/%Y').dt.strftime('%d/%m/%Y')"
      ],
      "metadata": {
        "id": "feqMYLEvNE7s"
      },
      "execution_count": null,
      "outputs": []
    },
    {
      "cell_type": "code",
      "source": [
        "df19.duplicated().sum()"
      ],
      "metadata": {
        "colab": {
          "base_uri": "https://localhost:8080/"
        },
        "id": "VVFstz9JMWq0",
        "outputId": "da871fc9-a4f0-4679-cf99-b3c9bfead6fa"
      },
      "execution_count": null,
      "outputs": [
        {
          "output_type": "execute_result",
          "data": {
            "text/plain": [
              "0"
            ]
          },
          "metadata": {},
          "execution_count": 152
        }
      ]
    },
    {
      "cell_type": "code",
      "source": [
        "df19.isnull().sum()"
      ],
      "metadata": {
        "colab": {
          "base_uri": "https://localhost:8080/"
        },
        "id": "HBLt7Ul7MMvV",
        "outputId": "ce5bc04d-40a9-4b33-8b58-00139274fd0d"
      },
      "execution_count": null,
      "outputs": [
        {
          "output_type": "execute_result",
          "data": {
            "text/plain": [
              "ANO                     0\n",
              "MES                     0\n",
              "SENADOR                 0\n",
              "TIPO_DESPESA            0\n",
              "CNPJ_CPF                0\n",
              "FORNECEDOR              0\n",
              "DOCUMENTO             719\n",
              "DATA                    0\n",
              "DETALHAMENTO         8471\n",
              "VALOR_REEMBOLSADO       0\n",
              "COD_DOCUMENTO           0\n",
              "dtype: int64"
            ]
          },
          "metadata": {},
          "execution_count": 153
        }
      ]
    },
    {
      "cell_type": "code",
      "source": [
        "df20.fillna(\"Sem Informacao\",inplace = True)"
      ],
      "metadata": {
        "id": "m0Ittql_MTgx"
      },
      "execution_count": null,
      "outputs": []
    },
    {
      "cell_type": "code",
      "source": [
        "df19.dtypes"
      ],
      "metadata": {
        "colab": {
          "base_uri": "https://localhost:8080/"
        },
        "id": "EiIB9h_IRmQx",
        "outputId": "0735e463-e919-4625-db5d-dc86434936be"
      },
      "execution_count": null,
      "outputs": [
        {
          "output_type": "execute_result",
          "data": {
            "text/plain": [
              "ANO                    int64\n",
              "MES                    int64\n",
              "SENADOR               object\n",
              "TIPO_DESPESA          object\n",
              "CNPJ_CPF              object\n",
              "FORNECEDOR            object\n",
              "DOCUMENTO             object\n",
              "DATA                  object\n",
              "DETALHAMENTO          object\n",
              "VALOR_REEMBOLSADO    float64\n",
              "COD_DOCUMENTO          int64\n",
              "dtype: object"
            ]
          },
          "metadata": {},
          "execution_count": 155
        }
      ]
    },
    {
      "cell_type": "markdown",
      "source": [
        "## df2018"
      ],
      "metadata": {
        "id": "y-peYei7NJei"
      }
    },
    {
      "cell_type": "code",
      "source": [
        "df18 = pd.read_csv(d18,sep=\";\",header=1, skiprows=0)\n",
        "df18.head(2)"
      ],
      "metadata": {
        "colab": {
          "base_uri": "https://localhost:8080/",
          "height": 260
        },
        "id": "ILawA61wNRu5",
        "outputId": "ddc73950-577f-4b2b-b777-8ad7df660321"
      },
      "execution_count": null,
      "outputs": [
        {
          "output_type": "execute_result",
          "data": {
            "text/plain": [
              "    ANO  MES       SENADOR                                       TIPO_DESPESA  \\\n",
              "0  2018    1  ACIR GURGACZ  Aluguel de imóveis para escritório político, c...   \n",
              "1  2018    1  ACIR GURGACZ  Passagens aéreas, aquáticas e terrestres nacio...   \n",
              "\n",
              "             CNPJ_CPF                                FORNECEDOR DOCUMENTO  \\\n",
              "0      004.948.028-63             GILBERTO PISELO DO NASCIMENTO       NaN   \n",
              "1  63.764.211/0001-10  TRANSCONTINENTAL AGÊNCIA DE VIAGENS LTDA    M2CJMM   \n",
              "\n",
              "         DATA                                       DETALHAMENTO  \\\n",
              "0  02/01/2018  Despesa com pagamento de aluguel de imóvel par...   \n",
              "1  02/01/2018  Companhia Aérea: AVIANCA, Localizador: M2CJMM....   \n",
              "\n",
              "  VALOR_REEMBOLSADO  COD_DOCUMENTO  \n",
              "0              6000        2088462  \n",
              "1            274,99        2088476  "
            ],
            "text/html": [
              "\n",
              "  <div id=\"df-e7f21909-4358-420b-bf1c-e7bfea2df878\">\n",
              "    <div class=\"colab-df-container\">\n",
              "      <div>\n",
              "<style scoped>\n",
              "    .dataframe tbody tr th:only-of-type {\n",
              "        vertical-align: middle;\n",
              "    }\n",
              "\n",
              "    .dataframe tbody tr th {\n",
              "        vertical-align: top;\n",
              "    }\n",
              "\n",
              "    .dataframe thead th {\n",
              "        text-align: right;\n",
              "    }\n",
              "</style>\n",
              "<table border=\"1\" class=\"dataframe\">\n",
              "  <thead>\n",
              "    <tr style=\"text-align: right;\">\n",
              "      <th></th>\n",
              "      <th>ANO</th>\n",
              "      <th>MES</th>\n",
              "      <th>SENADOR</th>\n",
              "      <th>TIPO_DESPESA</th>\n",
              "      <th>CNPJ_CPF</th>\n",
              "      <th>FORNECEDOR</th>\n",
              "      <th>DOCUMENTO</th>\n",
              "      <th>DATA</th>\n",
              "      <th>DETALHAMENTO</th>\n",
              "      <th>VALOR_REEMBOLSADO</th>\n",
              "      <th>COD_DOCUMENTO</th>\n",
              "    </tr>\n",
              "  </thead>\n",
              "  <tbody>\n",
              "    <tr>\n",
              "      <th>0</th>\n",
              "      <td>2018</td>\n",
              "      <td>1</td>\n",
              "      <td>ACIR GURGACZ</td>\n",
              "      <td>Aluguel de imóveis para escritório político, c...</td>\n",
              "      <td>004.948.028-63</td>\n",
              "      <td>GILBERTO PISELO DO NASCIMENTO</td>\n",
              "      <td>NaN</td>\n",
              "      <td>02/01/2018</td>\n",
              "      <td>Despesa com pagamento de aluguel de imóvel par...</td>\n",
              "      <td>6000</td>\n",
              "      <td>2088462</td>\n",
              "    </tr>\n",
              "    <tr>\n",
              "      <th>1</th>\n",
              "      <td>2018</td>\n",
              "      <td>1</td>\n",
              "      <td>ACIR GURGACZ</td>\n",
              "      <td>Passagens aéreas, aquáticas e terrestres nacio...</td>\n",
              "      <td>63.764.211/0001-10</td>\n",
              "      <td>TRANSCONTINENTAL AGÊNCIA DE VIAGENS LTDA</td>\n",
              "      <td>M2CJMM</td>\n",
              "      <td>02/01/2018</td>\n",
              "      <td>Companhia Aérea: AVIANCA, Localizador: M2CJMM....</td>\n",
              "      <td>274,99</td>\n",
              "      <td>2088476</td>\n",
              "    </tr>\n",
              "  </tbody>\n",
              "</table>\n",
              "</div>\n",
              "      <button class=\"colab-df-convert\" onclick=\"convertToInteractive('df-e7f21909-4358-420b-bf1c-e7bfea2df878')\"\n",
              "              title=\"Convert this dataframe to an interactive table.\"\n",
              "              style=\"display:none;\">\n",
              "        \n",
              "  <svg xmlns=\"http://www.w3.org/2000/svg\" height=\"24px\"viewBox=\"0 0 24 24\"\n",
              "       width=\"24px\">\n",
              "    <path d=\"M0 0h24v24H0V0z\" fill=\"none\"/>\n",
              "    <path d=\"M18.56 5.44l.94 2.06.94-2.06 2.06-.94-2.06-.94-.94-2.06-.94 2.06-2.06.94zm-11 1L8.5 8.5l.94-2.06 2.06-.94-2.06-.94L8.5 2.5l-.94 2.06-2.06.94zm10 10l.94 2.06.94-2.06 2.06-.94-2.06-.94-.94-2.06-.94 2.06-2.06.94z\"/><path d=\"M17.41 7.96l-1.37-1.37c-.4-.4-.92-.59-1.43-.59-.52 0-1.04.2-1.43.59L10.3 9.45l-7.72 7.72c-.78.78-.78 2.05 0 2.83L4 21.41c.39.39.9.59 1.41.59.51 0 1.02-.2 1.41-.59l7.78-7.78 2.81-2.81c.8-.78.8-2.07 0-2.86zM5.41 20L4 18.59l7.72-7.72 1.47 1.35L5.41 20z\"/>\n",
              "  </svg>\n",
              "      </button>\n",
              "      \n",
              "  <style>\n",
              "    .colab-df-container {\n",
              "      display:flex;\n",
              "      flex-wrap:wrap;\n",
              "      gap: 12px;\n",
              "    }\n",
              "\n",
              "    .colab-df-convert {\n",
              "      background-color: #E8F0FE;\n",
              "      border: none;\n",
              "      border-radius: 50%;\n",
              "      cursor: pointer;\n",
              "      display: none;\n",
              "      fill: #1967D2;\n",
              "      height: 32px;\n",
              "      padding: 0 0 0 0;\n",
              "      width: 32px;\n",
              "    }\n",
              "\n",
              "    .colab-df-convert:hover {\n",
              "      background-color: #E2EBFA;\n",
              "      box-shadow: 0px 1px 2px rgba(60, 64, 67, 0.3), 0px 1px 3px 1px rgba(60, 64, 67, 0.15);\n",
              "      fill: #174EA6;\n",
              "    }\n",
              "\n",
              "    [theme=dark] .colab-df-convert {\n",
              "      background-color: #3B4455;\n",
              "      fill: #D2E3FC;\n",
              "    }\n",
              "\n",
              "    [theme=dark] .colab-df-convert:hover {\n",
              "      background-color: #434B5C;\n",
              "      box-shadow: 0px 1px 3px 1px rgba(0, 0, 0, 0.15);\n",
              "      filter: drop-shadow(0px 1px 2px rgba(0, 0, 0, 0.3));\n",
              "      fill: #FFFFFF;\n",
              "    }\n",
              "  </style>\n",
              "\n",
              "      <script>\n",
              "        const buttonEl =\n",
              "          document.querySelector('#df-e7f21909-4358-420b-bf1c-e7bfea2df878 button.colab-df-convert');\n",
              "        buttonEl.style.display =\n",
              "          google.colab.kernel.accessAllowed ? 'block' : 'none';\n",
              "\n",
              "        async function convertToInteractive(key) {\n",
              "          const element = document.querySelector('#df-e7f21909-4358-420b-bf1c-e7bfea2df878');\n",
              "          const dataTable =\n",
              "            await google.colab.kernel.invokeFunction('convertToInteractive',\n",
              "                                                     [key], {});\n",
              "          if (!dataTable) return;\n",
              "\n",
              "          const docLinkHtml = 'Like what you see? Visit the ' +\n",
              "            '<a target=\"_blank\" href=https://colab.research.google.com/notebooks/data_table.ipynb>data table notebook</a>'\n",
              "            + ' to learn more about interactive tables.';\n",
              "          element.innerHTML = '';\n",
              "          dataTable['output_type'] = 'display_data';\n",
              "          await google.colab.output.renderOutput(dataTable, element);\n",
              "          const docLink = document.createElement('div');\n",
              "          docLink.innerHTML = docLinkHtml;\n",
              "          element.appendChild(docLink);\n",
              "        }\n",
              "      </script>\n",
              "    </div>\n",
              "  </div>\n",
              "  "
            ]
          },
          "metadata": {},
          "execution_count": 156
        }
      ]
    },
    {
      "cell_type": "code",
      "source": [
        "df18.info()"
      ],
      "metadata": {
        "colab": {
          "base_uri": "https://localhost:8080/"
        },
        "id": "_9BpTDdoNqgW",
        "outputId": "7b78319b-ed83-4a21-bb6b-549c7e9cb3ba"
      },
      "execution_count": null,
      "outputs": [
        {
          "output_type": "stream",
          "name": "stdout",
          "text": [
            "<class 'pandas.core.frame.DataFrame'>\n",
            "RangeIndex: 24492 entries, 0 to 24491\n",
            "Data columns (total 11 columns):\n",
            " #   Column             Non-Null Count  Dtype \n",
            "---  ------             --------------  ----- \n",
            " 0   ANO                24492 non-null  int64 \n",
            " 1   MES                24492 non-null  int64 \n",
            " 2   SENADOR            24492 non-null  object\n",
            " 3   TIPO_DESPESA       24492 non-null  object\n",
            " 4   CNPJ_CPF           24492 non-null  object\n",
            " 5   FORNECEDOR         24492 non-null  object\n",
            " 6   DOCUMENTO          23476 non-null  object\n",
            " 7   DATA               24492 non-null  object\n",
            " 8   DETALHAMENTO       18882 non-null  object\n",
            " 9   VALOR_REEMBOLSADO  24492 non-null  object\n",
            " 10  COD_DOCUMENTO      24492 non-null  int64 \n",
            "dtypes: int64(3), object(8)\n",
            "memory usage: 2.1+ MB\n"
          ]
        }
      ]
    },
    {
      "cell_type": "code",
      "source": [
        "# alterar valor reembolsado para float\n",
        "df18['VALOR_REEMBOLSADO']=df18['VALOR_REEMBOLSADO'].str.replace(',','.')\n",
        "df18['VALOR_REEMBOLSADO']=df18['VALOR_REEMBOLSADO'].astype(float)"
      ],
      "metadata": {
        "id": "D1VXNV9xNvTL"
      },
      "execution_count": null,
      "outputs": []
    },
    {
      "cell_type": "code",
      "source": [
        "df18.ANO.unique()"
      ],
      "metadata": {
        "colab": {
          "base_uri": "https://localhost:8080/"
        },
        "id": "svNpPjV3Pv27",
        "outputId": "9561b94a-2ad8-48e2-dd30-037f161ee2ee"
      },
      "execution_count": null,
      "outputs": [
        {
          "output_type": "execute_result",
          "data": {
            "text/plain": [
              "array([2018])"
            ]
          },
          "metadata": {},
          "execution_count": 159
        }
      ]
    },
    {
      "cell_type": "code",
      "source": [
        "c = 0\n",
        "for i,row in enumerate(df18['DATA']):\n",
        "  split_row = row.split(\"/\")\n",
        "  if split_row[2] != \"2018\":\n",
        "    print(i, \" = \", split_row)\n",
        "    c+=1\n",
        "print(c)"
      ],
      "metadata": {
        "colab": {
          "base_uri": "https://localhost:8080/"
        },
        "id": "CAgNgyNuN6qP",
        "outputId": "cff73c38-ad51-4b5e-9660-48096b7eae2e"
      },
      "execution_count": null,
      "outputs": [
        {
          "output_type": "stream",
          "name": "stdout",
          "text": [
            "113  =  ['04', '02', '2019']\n",
            "116  =  ['22', '12', '2017']\n",
            "120  =  ['30', '08', '2017']\n",
            "121  =  ['29', '08', '2017']\n",
            "124  =  ['13', '07', '2017']\n",
            "132  =  ['30', '08', '2017']\n",
            "133  =  ['29', '08', '2017']\n",
            "136  =  ['13', '07', '2017']\n",
            "163  =  ['02', '04', '2010']\n",
            "293  =  ['08', '01', '2019']\n",
            "301  =  ['03', '01', '2017']\n",
            "302  =  ['10', '01', '2017']\n",
            "329  =  ['25', '12', '2017']\n",
            "712  =  ['18', '03', '2017']\n",
            "715  =  ['19', '03', '2017']\n",
            "734  =  ['18', '03', '2017']\n",
            "738  =  ['19', '03', '2017']\n",
            "1208  =  ['13', '12', '2017']\n",
            "1219  =  ['29', '11', '2017']\n",
            "1220  =  ['29', '11', '2017']\n",
            "1241  =  ['01', '12', '2017']\n",
            "1242  =  ['01', '12', '2017']\n",
            "1243  =  ['01', '12', '2017']\n",
            "1244  =  ['01', '12', '2017']\n",
            "1376  =  ['22', '12', '2017']\n",
            "1377  =  ['11', '12', '2017']\n",
            "1390  =  ['04', '12', '2017']\n",
            "1391  =  ['05', '12', '2017']\n",
            "1392  =  ['05', '12', '2017']\n",
            "1393  =  ['05', '12', '2017']\n",
            "1394  =  ['05', '12', '2017']\n",
            "1395  =  ['05', '12', '2017']\n",
            "1396  =  ['06', '12', '2017']\n",
            "1397  =  ['06', '12', '2017']\n",
            "1398  =  ['06', '12', '2017']\n",
            "1399  =  ['06', '12', '2017']\n",
            "1400  =  ['06', '12', '2017']\n",
            "1417  =  ['05', '12', '2017']\n",
            "1679  =  ['27', '05', '2014']\n",
            "1759  =  ['08', '03', '2019']\n",
            "1767  =  ['21', '12', '2017']\n",
            "1768  =  ['21', '12', '2017']\n",
            "1771  =  ['22', '12', '2017']\n",
            "1822  =  ['20', '12', '2017']\n",
            "1913  =  ['26', '04', '2017']\n",
            "2283  =  ['01', '01', '2019']\n",
            "2310  =  ['26', '12', '2017']\n",
            "2311  =  ['15', '12', '2017']\n",
            "2312  =  ['15', '12', '2017']\n",
            "2674  =  ['22', '12', '2017']\n",
            "2964  =  ['10', '01', '2019']\n",
            "2965  =  ['11', '01', '2019']\n",
            "2992  =  ['10', '01', '2019']\n",
            "3002  =  ['10', '01', '2019']\n",
            "3003  =  ['11', '01', '2019']\n",
            "3004  =  ['10', '01', '2019']\n",
            "3005  =  ['10', '01', '2019']\n",
            "3006  =  ['10', '01', '2019']\n",
            "3007  =  ['10', '01', '2019']\n",
            "3008  =  ['09', '01', '2019']\n",
            "3009  =  ['10', '01', '2019']\n",
            "3011  =  ['10', '01', '2019']\n",
            "3012  =  ['10', '01', '2019']\n",
            "3013  =  ['09', '01', '2019']\n",
            "3041  =  ['09', '08', '2017']\n",
            "3042  =  ['20', '12', '2017']\n",
            "3050  =  ['12', '12', '2017']\n",
            "3051  =  ['12', '12', '2017']\n",
            "3394  =  ['09', '01', '2019']\n",
            "3760  =  ['02', '01', '2019']\n",
            "3764  =  ['02', '01', '2019']\n",
            "4015  =  ['05', '01', '2019']\n",
            "4016  =  ['03', '01', '2019']\n",
            "4019  =  ['07', '01', '2019']\n",
            "4183  =  ['07', '01', '2019']\n",
            "4260  =  ['28', '12', '2017']\n",
            "4622  =  ['04', '01', '2017']\n",
            "4625  =  ['03', '01', '2017']\n",
            "5408  =  ['29', '06', '2017']\n",
            "5650  =  ['29', '11', '2017']\n",
            "5667  =  ['22', '12', '2017']\n",
            "5669  =  ['06', '02', '2017']\n",
            "5670  =  ['13', '06', '2017']\n",
            "5696  =  ['13', '06', '2017']\n",
            "5733  =  ['13', '06', '2017']\n",
            "5894  =  ['07', '01', '2019']\n",
            "5895  =  ['15', '01', '2019']\n",
            "5909  =  ['26', '12', '2017']\n",
            "6316  =  ['21', '12', '2017']\n",
            "6317  =  ['21', '12', '2017']\n",
            "6460  =  ['23', '03', '2017']\n",
            "6676  =  ['31', '08', '2019']\n",
            "6758  =  ['30', '08', '2019']\n",
            "6848  =  ['30', '01', '2019']\n",
            "6863  =  ['19', '12', '1957']\n",
            "6911  =  ['22', '08', '2017']\n",
            "6934  =  ['30', '05', '2017']\n",
            "6950  =  ['05', '04', '2017']\n",
            "7010  =  ['18', '05', '2017']\n",
            "7031  =  ['05', '04', '2002']\n",
            "7144  =  ['01', '01', '2019']\n",
            "7146  =  ['22', '01', '2019']\n",
            "7147  =  ['13', '03', '2019']\n",
            "7167  =  ['06', '12', '2017']\n",
            "7177  =  ['07', '12', '2017']\n",
            "7509  =  ['14', '11', '2017']\n",
            "7510  =  ['04', '12', '2017']\n",
            "7511  =  ['15', '12', '2017']\n",
            "7512  =  ['15', '12', '2017']\n",
            "7553  =  ['12', '12', '2017']\n",
            "8317  =  ['10', '01', '2019']\n",
            "8318  =  ['20', '01', '2019']\n",
            "8331  =  ['26', '01', '2019']\n",
            "8452  =  ['14', '12', '2017']\n",
            "9256  =  ['19', '12', '2017']\n",
            "9257  =  ['19', '12', '2017']\n",
            "9258  =  ['19', '12', '2017']\n",
            "9259  =  ['19', '12', '2017']\n",
            "9260  =  ['07', '02', '2017']\n",
            "9261  =  ['19', '12', '2017']\n",
            "9262  =  ['19', '12', '2017']\n",
            "9263  =  ['19', '12', '2017']\n",
            "9264  =  ['19', '12', '2017']\n",
            "9282  =  ['19', '12', '2017']\n",
            "9283  =  ['20', '12', '2017']\n",
            "9284  =  ['20', '12', '2017']\n",
            "9285  =  ['20', '12', '2017']\n",
            "9286  =  ['20', '12', '2017']\n",
            "9287  =  ['27', '12', '2017']\n",
            "9289  =  ['20', '12', '2017']\n",
            "9290  =  ['20', '12', '2017']\n",
            "9368  =  ['23', '01', '2019']\n",
            "9379  =  ['03', '01', '2019']\n",
            "9380  =  ['03', '01', '2019']\n",
            "9382  =  ['03', '01', '2019']\n",
            "9383  =  ['22', '01', '2019']\n",
            "9419  =  ['19', '11', '2017']\n",
            "9420  =  ['15', '12', '2017']\n",
            "9421  =  ['15', '12', '2017']\n",
            "9450  =  ['15', '12', '2017']\n",
            "10072  =  ['30', '01', '2017']\n",
            "10087  =  ['25', '01', '2017']\n",
            "10091  =  ['19', '01', '2017']\n",
            "10118  =  ['05', '02', '2017']\n",
            "10139  =  ['01', '03', '2017']\n",
            "10413  =  ['28', '01', '2019']\n",
            "10416  =  ['16', '01', '2019']\n",
            "10417  =  ['17', '01', '2019']\n",
            "10418  =  ['28', '01', '2019']\n",
            "10421  =  ['15', '01', '2019']\n",
            "10431  =  ['15', '11', '2017']\n",
            "10470  =  ['03', '05', '2001']\n",
            "10584  =  ['30', '01', '2019']\n",
            "10907  =  ['26', '01', '2017']\n",
            "10925  =  ['16', '01', '2017']\n",
            "11482  =  ['07', '12', '2017']\n",
            "11500  =  ['13', '04', '2017']\n",
            "11554  =  ['07', '12', '2017']\n",
            "11970  =  ['16', '11', '2017']\n",
            "11971  =  ['16', '11', '2017']\n",
            "11972  =  ['16', '11', '2017']\n",
            "12632  =  ['05', '01', '2019']\n",
            "12637  =  ['01', '01', '2019']\n",
            "12676  =  ['06', '01', '2019']\n",
            "12778  =  ['04', '12', '2017']\n",
            "12779  =  ['04', '12', '2017']\n",
            "12780  =  ['04', '12', '2017']\n",
            "12781  =  ['18', '12', '2017']\n",
            "12802  =  ['18', '12', '2017']\n",
            "12803  =  ['20', '12', '2017']\n",
            "12973  =  ['05', '01', '2019']\n",
            "12974  =  ['05', '01', '2019']\n",
            "12975  =  ['01', '01', '2019']\n",
            "12976  =  ['01', '01', '2019']\n",
            "12977  =  ['01', '01', '2019']\n",
            "12982  =  ['03', '01', '2019']\n",
            "12983  =  ['07', '01', '2019']\n",
            "12984  =  ['03', '01', '2019']\n",
            "12994  =  ['14', '12', '2017']\n",
            "12995  =  ['28', '12', '2017']\n",
            "13917  =  ['04', '02', '2019']\n",
            "13941  =  ['09', '05', '0208']\n",
            "14068  =  ['30', '01', '2019']\n",
            "14086  =  ['31', '01', '2019']\n",
            "14110  =  ['30', '01', '2019']\n",
            "14111  =  ['04', '02', '2019']\n",
            "14115  =  ['31', '01', '2019']\n",
            "14138  =  ['26', '12', '2017']\n",
            "14283  =  ['03', '08', '2017']\n",
            "14936  =  ['05', '01', '2019']\n",
            "14952  =  ['05', '01', '2019']\n",
            "15154  =  ['13', '09', '2017']\n",
            "15260  =  ['07', '08', '2017']\n",
            "15261  =  ['27', '09', '2017']\n",
            "15306  =  ['07', '08', '2017']\n",
            "15307  =  ['27', '09', '2017']\n",
            "15372  =  ['07', '08', '2017']\n",
            "15375  =  ['27', '09', '2017']\n",
            "15444  =  ['07', '08', '2017']\n",
            "15447  =  ['27', '09', '2017']\n",
            "15546  =  ['07', '08', '2017']\n",
            "15548  =  ['27', '09', '2017']\n",
            "15657  =  ['07', '08', '2017']\n",
            "15659  =  ['27', '09', '2017']\n",
            "15778  =  ['27', '09', '2017']\n",
            "15874  =  ['27', '09', '2017']\n",
            "16028  =  ['23', '01', '2019']\n",
            "16029  =  ['23', '01', '2019']\n",
            "16030  =  ['23', '01', '2019']\n",
            "16043  =  ['17', '01', '2019']\n",
            "16044  =  ['21', '01', '2019']\n",
            "16121  =  ['21', '12', '2017']\n",
            "16559  =  ['16', '11', '1201']\n",
            "16604  =  ['25', '01', '2019']\n",
            "16612  =  ['03', '01', '2019']\n",
            "16629  =  ['30', '12', '2017']\n",
            "16635  =  ['15', '09', '2017']\n",
            "17440  =  ['24', '01', '2019']\n",
            "17468  =  ['24', '01', '2019']\n",
            "17469  =  ['21', '01', '2019']\n",
            "17471  =  ['04', '01', '2019']\n",
            "17861  =  ['17', '01', '2019']\n",
            "17865  =  ['15', '01', '2019']\n",
            "18395  =  ['11', '02', '2019']\n",
            "18397  =  ['09', '01', '2019']\n",
            "18721  =  ['04', '01', '2019']\n",
            "18722  =  ['04', '01', '2019']\n",
            "19142  =  ['21', '12', '2017']\n",
            "19143  =  ['21', '12', '2017']\n",
            "19144  =  ['26', '12', '2017']\n",
            "19576  =  ['28', '11', '2017']\n",
            "19784  =  ['15', '01', '2019']\n",
            "19785  =  ['09', '01', '2019']\n",
            "19788  =  ['14', '01', '2019']\n",
            "19792  =  ['05', '02', '2019']\n",
            "19866  =  ['31', '12', '2017']\n",
            "20497  =  ['02', '01', '2019']\n",
            "20515  =  ['26', '12', '2017']\n",
            "20516  =  ['26', '12', '2017']\n",
            "20647  =  ['06', '03', '2017']\n",
            "20800  =  ['18', '07', '2017']\n",
            "20954  =  ['05', '01', '2019']\n",
            "21002  =  ['19', '12', '2017']\n",
            "21004  =  ['26', '11', '2017']\n",
            "21013  =  ['26', '12', '2017']\n",
            "21022  =  ['26', '12', '2017']\n",
            "21225  =  ['29', '03', '2019']\n",
            "21360  =  ['05', '12', '2017']\n",
            "21361  =  ['16', '03', '2017']\n",
            "21385  =  ['16', '03', '2017']\n",
            "21490  =  ['02', '01', '2019']\n",
            "21499  =  ['29', '12', '2017']\n",
            "21739  =  ['22', '12', '2017']\n",
            "21752  =  ['05', '05', '2017']\n",
            "21779  =  ['05', '05', '2017']\n",
            "22014  =  ['02', '01', '2019']\n",
            "22015  =  ['03', '01', '2019']\n",
            "22016  =  ['15', '01', '2019']\n",
            "22019  =  ['11', '01', '2019']\n",
            "22020  =  ['11', '01', '2019']\n",
            "22318  =  ['21', '01', '2019']\n",
            "22330  =  ['21', '01', '2019']\n",
            "22336  =  ['17', '03', '2017']\n",
            "22337  =  ['27', '03', '2017']\n",
            "22338  =  ['03', '08', '2017']\n",
            "22347  =  ['17', '03', '2017']\n",
            "22348  =  ['03', '08', '2017']\n",
            "22363  =  ['21', '12', '2017']\n",
            "22364  =  ['21', '12', '2017']\n",
            "22365  =  ['21', '12', '2017']\n",
            "22366  =  ['21', '12', '2017']\n",
            "22367  =  ['21', '12', '2017']\n",
            "22368  =  ['21', '12', '2017']\n",
            "22369  =  ['21', '12', '2017']\n",
            "22381  =  ['03', '08', '2017']\n",
            "22416  =  ['03', '08', '2017']\n",
            "22464  =  ['03', '08', '2017']\n",
            "22487  =  ['02', '06', '2017']\n",
            "22512  =  ['03', '08', '2017']\n",
            "22553  =  ['03', '08', '2017']\n",
            "22659  =  ['02', '01', '2019']\n",
            "22732  =  ['11', '12', '2017']\n",
            "22734  =  ['22', '12', '2017']\n",
            "23901  =  ['01', '01', '2019']\n",
            "23902  =  ['10', '01', '2019']\n",
            "23903  =  ['07', '01', '2019']\n",
            "23904  =  ['25', '02', '2019']\n",
            "23961  =  ['11', '09', '2017']\n",
            "23964  =  ['26', '10', '2017']\n",
            "23975  =  ['11', '09', '2017']\n",
            "23979  =  ['26', '10', '2017']\n",
            "23989  =  ['11', '09', '2017']\n",
            "23991  =  ['26', '10', '2017']\n",
            "24000  =  ['11', '09', '2017']\n",
            "24003  =  ['26', '10', '2017']\n",
            "24011  =  ['11', '09', '2017']\n",
            "24016  =  ['26', '10', '2017']\n",
            "24024  =  ['11', '09', '2017']\n",
            "24027  =  ['26', '10', '2017']\n",
            "24036  =  ['11', '09', '2017']\n",
            "24039  =  ['26', '10', '2017']\n",
            "24047  =  ['11', '09', '2017']\n",
            "24050  =  ['26', '10', '2017']\n",
            "24063  =  ['26', '10', '2017']\n",
            "24099  =  ['11', '01', '2019']\n",
            "24113  =  ['11', '01', '2019']\n",
            "24114  =  ['16', '01', '2019']\n",
            "24115  =  ['25', '01', '2019']\n",
            "24116  =  ['08', '01', '2019']\n",
            "24117  =  ['09', '01', '2019']\n",
            "24172  =  ['18', '12', '2017']\n",
            "24482  =  ['01', '01', '2019']\n",
            "312\n"
          ]
        }
      ]
    },
    {
      "cell_type": "markdown",
      "source": [
        "Como não tem como saber o porque destas linhas estarem aqui;\n",
        "* As de anos anteriores podem ser algum tipo de registro após algum tempo do fato, porém a algumas bem antingas;\n",
        "* E as que só ocorreram em 2019? é algum tipo de previsão? ou pagamento antecipado?\n",
        "* É algum erro do sistema?\n",
        "\n",
        "Vamos dropar essas colunas"
      ],
      "metadata": {
        "id": "RtSSVCp6M1Ms"
      }
    },
    {
      "cell_type": "code",
      "source": [
        "drop_linhas_ano_errado(df18,2018)"
      ],
      "metadata": {
        "colab": {
          "base_uri": "https://localhost:8080/",
          "height": 35
        },
        "id": "3ogFJymDOqHZ",
        "outputId": "865c7fc2-8250-44e5-a1e0-06bfa43a9e2d"
      },
      "execution_count": null,
      "outputs": [
        {
          "output_type": "execute_result",
          "data": {
            "text/plain": [
              "'Foram deletadas 312 linhas '"
            ],
            "application/vnd.google.colaboratory.intrinsic+json": {
              "type": "string"
            }
          },
          "metadata": {},
          "execution_count": 161
        }
      ]
    },
    {
      "cell_type": "code",
      "source": [
        "df18[\"DATA\"] = pd.to_datetime(df18['DATA'],format = '%d/%m/%Y').dt.strftime('%d/%m/%Y')"
      ],
      "metadata": {
        "id": "EP1-NJj7Nzru"
      },
      "execution_count": null,
      "outputs": []
    },
    {
      "cell_type": "code",
      "source": [
        "df18.isnull().sum()"
      ],
      "metadata": {
        "colab": {
          "base_uri": "https://localhost:8080/"
        },
        "id": "BX8EgHAIQe69",
        "outputId": "2ed880e2-19ea-4807-c05a-57141ae94c73"
      },
      "execution_count": null,
      "outputs": [
        {
          "output_type": "execute_result",
          "data": {
            "text/plain": [
              "ANO                     0\n",
              "MES                     0\n",
              "SENADOR                 0\n",
              "TIPO_DESPESA            0\n",
              "CNPJ_CPF                0\n",
              "FORNECEDOR              0\n",
              "DOCUMENTO            1009\n",
              "DATA                    0\n",
              "DETALHAMENTO         5544\n",
              "VALOR_REEMBOLSADO       0\n",
              "COD_DOCUMENTO           0\n",
              "dtype: int64"
            ]
          },
          "metadata": {},
          "execution_count": 163
        }
      ]
    },
    {
      "cell_type": "code",
      "source": [
        "df18.fillna(\"Sem informacao\",inplace = True)"
      ],
      "metadata": {
        "id": "x4etp7spQiPk"
      },
      "execution_count": null,
      "outputs": []
    },
    {
      "cell_type": "code",
      "source": [
        "df18.dtypes"
      ],
      "metadata": {
        "colab": {
          "base_uri": "https://localhost:8080/"
        },
        "id": "JJ0jeHmrQmNZ",
        "outputId": "cda0e9b6-dfc5-423a-e8e5-96e246c6f604"
      },
      "execution_count": null,
      "outputs": [
        {
          "output_type": "execute_result",
          "data": {
            "text/plain": [
              "ANO                    int64\n",
              "MES                    int64\n",
              "SENADOR               object\n",
              "TIPO_DESPESA          object\n",
              "CNPJ_CPF              object\n",
              "FORNECEDOR            object\n",
              "DOCUMENTO             object\n",
              "DATA                  object\n",
              "DETALHAMENTO          object\n",
              "VALOR_REEMBOLSADO    float64\n",
              "COD_DOCUMENTO          int64\n",
              "dtype: object"
            ]
          },
          "metadata": {},
          "execution_count": 165
        }
      ]
    },
    {
      "cell_type": "markdown",
      "source": [
        "## df2017"
      ],
      "metadata": {
        "id": "-CaM8TcMNP5L"
      }
    },
    {
      "cell_type": "code",
      "source": [
        "df17 = pd.read_csv(d17,sep=\";\",header=1, skiprows=0)\n",
        "df17.head(2)"
      ],
      "metadata": {
        "colab": {
          "base_uri": "https://localhost:8080/",
          "height": 243
        },
        "id": "BCyxMd-2NSHz",
        "outputId": "3765e678-67d2-471d-be80-8716e8c62b2a"
      },
      "execution_count": null,
      "outputs": [
        {
          "output_type": "execute_result",
          "data": {
            "text/plain": [
              "    ANO  MES       SENADOR                                       TIPO_DESPESA  \\\n",
              "0  2017    1  ACIR GURGACZ  Aluguel de imóveis para escritório político, c...   \n",
              "1  2017    1  ACIR GURGACZ  Aluguel de imóveis para escritório político, c...   \n",
              "\n",
              "             CNPJ_CPF                     FORNECEDOR  DOCUMENTO        DATA  \\\n",
              "0  05.914.650/0001-66                       ENERGISA  000034079  18/01/2017   \n",
              "1      004.948.028-63  GILBERTO PISELO DO NASCIMENTO     001/17  17/01/2017   \n",
              "\n",
              "                                        DETALHAMENTO VALOR_REEMBOLSADO  \\\n",
              "0  Despesa com pagamento de energia elétrica para...                97   \n",
              "1  Despesa com aluguel de imóvel para uso do escr...              6000   \n",
              "\n",
              "   COD_DOCUMENTO  \n",
              "0        2060286  \n",
              "1        2057638  "
            ],
            "text/html": [
              "\n",
              "  <div id=\"df-663cc204-27e6-4c1a-a8ce-bdde73d8a2ad\">\n",
              "    <div class=\"colab-df-container\">\n",
              "      <div>\n",
              "<style scoped>\n",
              "    .dataframe tbody tr th:only-of-type {\n",
              "        vertical-align: middle;\n",
              "    }\n",
              "\n",
              "    .dataframe tbody tr th {\n",
              "        vertical-align: top;\n",
              "    }\n",
              "\n",
              "    .dataframe thead th {\n",
              "        text-align: right;\n",
              "    }\n",
              "</style>\n",
              "<table border=\"1\" class=\"dataframe\">\n",
              "  <thead>\n",
              "    <tr style=\"text-align: right;\">\n",
              "      <th></th>\n",
              "      <th>ANO</th>\n",
              "      <th>MES</th>\n",
              "      <th>SENADOR</th>\n",
              "      <th>TIPO_DESPESA</th>\n",
              "      <th>CNPJ_CPF</th>\n",
              "      <th>FORNECEDOR</th>\n",
              "      <th>DOCUMENTO</th>\n",
              "      <th>DATA</th>\n",
              "      <th>DETALHAMENTO</th>\n",
              "      <th>VALOR_REEMBOLSADO</th>\n",
              "      <th>COD_DOCUMENTO</th>\n",
              "    </tr>\n",
              "  </thead>\n",
              "  <tbody>\n",
              "    <tr>\n",
              "      <th>0</th>\n",
              "      <td>2017</td>\n",
              "      <td>1</td>\n",
              "      <td>ACIR GURGACZ</td>\n",
              "      <td>Aluguel de imóveis para escritório político, c...</td>\n",
              "      <td>05.914.650/0001-66</td>\n",
              "      <td>ENERGISA</td>\n",
              "      <td>000034079</td>\n",
              "      <td>18/01/2017</td>\n",
              "      <td>Despesa com pagamento de energia elétrica para...</td>\n",
              "      <td>97</td>\n",
              "      <td>2060286</td>\n",
              "    </tr>\n",
              "    <tr>\n",
              "      <th>1</th>\n",
              "      <td>2017</td>\n",
              "      <td>1</td>\n",
              "      <td>ACIR GURGACZ</td>\n",
              "      <td>Aluguel de imóveis para escritório político, c...</td>\n",
              "      <td>004.948.028-63</td>\n",
              "      <td>GILBERTO PISELO DO NASCIMENTO</td>\n",
              "      <td>001/17</td>\n",
              "      <td>17/01/2017</td>\n",
              "      <td>Despesa com aluguel de imóvel para uso do escr...</td>\n",
              "      <td>6000</td>\n",
              "      <td>2057638</td>\n",
              "    </tr>\n",
              "  </tbody>\n",
              "</table>\n",
              "</div>\n",
              "      <button class=\"colab-df-convert\" onclick=\"convertToInteractive('df-663cc204-27e6-4c1a-a8ce-bdde73d8a2ad')\"\n",
              "              title=\"Convert this dataframe to an interactive table.\"\n",
              "              style=\"display:none;\">\n",
              "        \n",
              "  <svg xmlns=\"http://www.w3.org/2000/svg\" height=\"24px\"viewBox=\"0 0 24 24\"\n",
              "       width=\"24px\">\n",
              "    <path d=\"M0 0h24v24H0V0z\" fill=\"none\"/>\n",
              "    <path d=\"M18.56 5.44l.94 2.06.94-2.06 2.06-.94-2.06-.94-.94-2.06-.94 2.06-2.06.94zm-11 1L8.5 8.5l.94-2.06 2.06-.94-2.06-.94L8.5 2.5l-.94 2.06-2.06.94zm10 10l.94 2.06.94-2.06 2.06-.94-2.06-.94-.94-2.06-.94 2.06-2.06.94z\"/><path d=\"M17.41 7.96l-1.37-1.37c-.4-.4-.92-.59-1.43-.59-.52 0-1.04.2-1.43.59L10.3 9.45l-7.72 7.72c-.78.78-.78 2.05 0 2.83L4 21.41c.39.39.9.59 1.41.59.51 0 1.02-.2 1.41-.59l7.78-7.78 2.81-2.81c.8-.78.8-2.07 0-2.86zM5.41 20L4 18.59l7.72-7.72 1.47 1.35L5.41 20z\"/>\n",
              "  </svg>\n",
              "      </button>\n",
              "      \n",
              "  <style>\n",
              "    .colab-df-container {\n",
              "      display:flex;\n",
              "      flex-wrap:wrap;\n",
              "      gap: 12px;\n",
              "    }\n",
              "\n",
              "    .colab-df-convert {\n",
              "      background-color: #E8F0FE;\n",
              "      border: none;\n",
              "      border-radius: 50%;\n",
              "      cursor: pointer;\n",
              "      display: none;\n",
              "      fill: #1967D2;\n",
              "      height: 32px;\n",
              "      padding: 0 0 0 0;\n",
              "      width: 32px;\n",
              "    }\n",
              "\n",
              "    .colab-df-convert:hover {\n",
              "      background-color: #E2EBFA;\n",
              "      box-shadow: 0px 1px 2px rgba(60, 64, 67, 0.3), 0px 1px 3px 1px rgba(60, 64, 67, 0.15);\n",
              "      fill: #174EA6;\n",
              "    }\n",
              "\n",
              "    [theme=dark] .colab-df-convert {\n",
              "      background-color: #3B4455;\n",
              "      fill: #D2E3FC;\n",
              "    }\n",
              "\n",
              "    [theme=dark] .colab-df-convert:hover {\n",
              "      background-color: #434B5C;\n",
              "      box-shadow: 0px 1px 3px 1px rgba(0, 0, 0, 0.15);\n",
              "      filter: drop-shadow(0px 1px 2px rgba(0, 0, 0, 0.3));\n",
              "      fill: #FFFFFF;\n",
              "    }\n",
              "  </style>\n",
              "\n",
              "      <script>\n",
              "        const buttonEl =\n",
              "          document.querySelector('#df-663cc204-27e6-4c1a-a8ce-bdde73d8a2ad button.colab-df-convert');\n",
              "        buttonEl.style.display =\n",
              "          google.colab.kernel.accessAllowed ? 'block' : 'none';\n",
              "\n",
              "        async function convertToInteractive(key) {\n",
              "          const element = document.querySelector('#df-663cc204-27e6-4c1a-a8ce-bdde73d8a2ad');\n",
              "          const dataTable =\n",
              "            await google.colab.kernel.invokeFunction('convertToInteractive',\n",
              "                                                     [key], {});\n",
              "          if (!dataTable) return;\n",
              "\n",
              "          const docLinkHtml = 'Like what you see? Visit the ' +\n",
              "            '<a target=\"_blank\" href=https://colab.research.google.com/notebooks/data_table.ipynb>data table notebook</a>'\n",
              "            + ' to learn more about interactive tables.';\n",
              "          element.innerHTML = '';\n",
              "          dataTable['output_type'] = 'display_data';\n",
              "          await google.colab.output.renderOutput(dataTable, element);\n",
              "          const docLink = document.createElement('div');\n",
              "          docLink.innerHTML = docLinkHtml;\n",
              "          element.appendChild(docLink);\n",
              "        }\n",
              "      </script>\n",
              "    </div>\n",
              "  </div>\n",
              "  "
            ]
          },
          "metadata": {},
          "execution_count": 166
        }
      ]
    },
    {
      "cell_type": "code",
      "source": [
        "df17.info()"
      ],
      "metadata": {
        "colab": {
          "base_uri": "https://localhost:8080/"
        },
        "id": "Un3s4EcaQFxv",
        "outputId": "9c4dc18c-aa9c-4844-e264-509af66b8429"
      },
      "execution_count": null,
      "outputs": [
        {
          "output_type": "stream",
          "name": "stdout",
          "text": [
            "<class 'pandas.core.frame.DataFrame'>\n",
            "RangeIndex: 27023 entries, 0 to 27022\n",
            "Data columns (total 11 columns):\n",
            " #   Column             Non-Null Count  Dtype \n",
            "---  ------             --------------  ----- \n",
            " 0   ANO                27023 non-null  int64 \n",
            " 1   MES                27023 non-null  int64 \n",
            " 2   SENADOR            27023 non-null  object\n",
            " 3   TIPO_DESPESA       27023 non-null  object\n",
            " 4   CNPJ_CPF           27023 non-null  object\n",
            " 5   FORNECEDOR         27023 non-null  object\n",
            " 6   DOCUMENTO          25704 non-null  object\n",
            " 7   DATA               27023 non-null  object\n",
            " 8   DETALHAMENTO       20866 non-null  object\n",
            " 9   VALOR_REEMBOLSADO  27023 non-null  object\n",
            " 10  COD_DOCUMENTO      27023 non-null  int64 \n",
            "dtypes: int64(3), object(8)\n",
            "memory usage: 2.3+ MB\n"
          ]
        }
      ]
    },
    {
      "cell_type": "code",
      "source": [
        "# alterar valor reembolsado para float\n",
        "df17['VALOR_REEMBOLSADO']=df17['VALOR_REEMBOLSADO'].str.replace(',','.')\n",
        "df17['VALOR_REEMBOLSADO']=df17['VALOR_REEMBOLSADO'].astype(float)"
      ],
      "metadata": {
        "id": "LLaGQx6pQAoh"
      },
      "execution_count": null,
      "outputs": []
    },
    {
      "cell_type": "code",
      "source": [
        "df17[[\"DATA\"]].value_counts()"
      ],
      "metadata": {
        "colab": {
          "base_uri": "https://localhost:8080/"
        },
        "id": "M8XKVUzGQaCh",
        "outputId": "5affc60b-87be-4aac-c18e-f4aeda792b8d"
      },
      "execution_count": null,
      "outputs": [
        {
          "output_type": "execute_result",
          "data": {
            "text/plain": [
              "DATA      \n",
              "01/11/2017    186\n",
              "01/08/2017    185\n",
              "02/05/2017    181\n",
              "01/06/2017    162\n",
              "01/02/2017    159\n",
              "             ... \n",
              "23/02/2018      1\n",
              "07/11/2011      1\n",
              "08/02/2016      1\n",
              "23/05/2016      1\n",
              "20/03/2016      1\n",
              "Length: 454, dtype: int64"
            ]
          },
          "metadata": {},
          "execution_count": 169
        }
      ]
    },
    {
      "cell_type": "code",
      "source": [
        "drop_linhas_ano_errado(df17, 2017)"
      ],
      "metadata": {
        "colab": {
          "base_uri": "https://localhost:8080/",
          "height": 35
        },
        "id": "11NEA41jQYVP",
        "outputId": "979c6f88-68c9-44c2-fb53-282da2ebb87a"
      },
      "execution_count": null,
      "outputs": [
        {
          "output_type": "execute_result",
          "data": {
            "text/plain": [
              "'Foram deletadas 246 linhas '"
            ],
            "application/vnd.google.colaboratory.intrinsic+json": {
              "type": "string"
            }
          },
          "metadata": {},
          "execution_count": 170
        }
      ]
    },
    {
      "cell_type": "code",
      "source": [
        "df17[\"DATA\"] = pd.to_datetime(df17['DATA'],format = '%d/%m/%Y').dt.strftime('%d/%m/%Y')"
      ],
      "metadata": {
        "id": "j6wUov3uxjYj"
      },
      "execution_count": null,
      "outputs": []
    },
    {
      "cell_type": "code",
      "source": [
        "df17.duplicated().sum()"
      ],
      "metadata": {
        "colab": {
          "base_uri": "https://localhost:8080/"
        },
        "id": "xMeu2zVgQLJx",
        "outputId": "7b87f641-27f3-4206-d28e-bc2f0cb165e0"
      },
      "execution_count": null,
      "outputs": [
        {
          "output_type": "execute_result",
          "data": {
            "text/plain": [
              "0"
            ]
          },
          "metadata": {},
          "execution_count": 172
        }
      ]
    },
    {
      "cell_type": "code",
      "source": [
        "df17.isnull().sum()"
      ],
      "metadata": {
        "colab": {
          "base_uri": "https://localhost:8080/"
        },
        "id": "81hx7V1HQO1q",
        "outputId": "de9f7782-a317-4a92-9cab-48b1b8d51dfa"
      },
      "execution_count": null,
      "outputs": [
        {
          "output_type": "execute_result",
          "data": {
            "text/plain": [
              "ANO                     0\n",
              "MES                     0\n",
              "SENADOR                 0\n",
              "TIPO_DESPESA            0\n",
              "CNPJ_CPF                0\n",
              "FORNECEDOR              0\n",
              "DOCUMENTO            1305\n",
              "DATA                    0\n",
              "DETALHAMENTO         6091\n",
              "VALOR_REEMBOLSADO       0\n",
              "COD_DOCUMENTO           0\n",
              "dtype: int64"
            ]
          },
          "metadata": {},
          "execution_count": 173
        }
      ]
    },
    {
      "cell_type": "code",
      "source": [
        "df17.fillna(\"Sem informacao\",inplace = True)"
      ],
      "metadata": {
        "id": "JVOiZqqSQR2N"
      },
      "execution_count": null,
      "outputs": []
    },
    {
      "cell_type": "code",
      "source": [
        "df17.dtypes"
      ],
      "metadata": {
        "colab": {
          "base_uri": "https://localhost:8080/"
        },
        "id": "cskkWB6kQsrY",
        "outputId": "d04c741e-cb23-425a-8055-4204f98fd0fd"
      },
      "execution_count": null,
      "outputs": [
        {
          "output_type": "execute_result",
          "data": {
            "text/plain": [
              "ANO                    int64\n",
              "MES                    int64\n",
              "SENADOR               object\n",
              "TIPO_DESPESA          object\n",
              "CNPJ_CPF              object\n",
              "FORNECEDOR            object\n",
              "DOCUMENTO             object\n",
              "DATA                  object\n",
              "DETALHAMENTO          object\n",
              "VALOR_REEMBOLSADO    float64\n",
              "COD_DOCUMENTO          int64\n",
              "dtype: object"
            ]
          },
          "metadata": {},
          "execution_count": 175
        }
      ]
    },
    {
      "cell_type": "code",
      "source": [
        "df17[\"DATA\"]"
      ],
      "metadata": {
        "colab": {
          "base_uri": "https://localhost:8080/"
        },
        "id": "eLQv7Ta6xvC4",
        "outputId": "cc7afa98-b037-4287-ef03-2035a55848ca"
      },
      "execution_count": null,
      "outputs": [
        {
          "output_type": "execute_result",
          "data": {
            "text/plain": [
              "0        18/01/2017\n",
              "1        17/01/2017\n",
              "2        18/01/2017\n",
              "3        23/01/2017\n",
              "4        24/01/2017\n",
              "            ...    \n",
              "27018    18/12/2017\n",
              "27019    19/12/2017\n",
              "27020    06/06/2017\n",
              "27021    14/12/2017\n",
              "27022    14/12/2017\n",
              "Name: DATA, Length: 26777, dtype: object"
            ]
          },
          "metadata": {},
          "execution_count": 176
        }
      ]
    },
    {
      "cell_type": "markdown",
      "source": [
        "# Salvando os arquivos trabalhados"
      ],
      "metadata": {
        "id": "KXgTM2u4K6s6"
      }
    },
    {
      "cell_type": "code",
      "source": [
        "df22.to_csv(\"despesa_ceaps_2022_tratado.csv\", index=False)\n",
        "df21.to_csv(\"despesa_ceaps_2021_tratado.csv\", index=False)\n",
        "df20.to_csv(\"despesa_ceaps_2020_tratado.csv\", index=False)\n",
        "df19.to_csv(\"despesa_ceaps_2019_tratado.csv\", index=False)\n",
        "df18.to_csv(\"despesa_ceaps_2018_tratado.csv\", index=False)\n",
        "df17.to_csv(\"despesa_ceaps_2017_tratado.csv\", index=False)"
      ],
      "metadata": {
        "id": "ETXpMpJ-K9WE"
      },
      "execution_count": null,
      "outputs": []
    },
    {
      "cell_type": "markdown",
      "source": [
        "#Unindo todos os dados  em um unico dataframe"
      ],
      "metadata": {
        "id": "4ICtXTdqRGnV"
      }
    },
    {
      "cell_type": "code",
      "source": [
        "df_ceaps = pd.concat([df22,df21,df20,df19,df18,df17], ignore_index=True)"
      ],
      "metadata": {
        "id": "-0HvCdCnRJ0Y"
      },
      "execution_count": null,
      "outputs": []
    },
    {
      "cell_type": "code",
      "source": [
        "df_ceaps.info()"
      ],
      "metadata": {
        "colab": {
          "base_uri": "https://localhost:8080/"
        },
        "id": "jePgesJwSvH5",
        "outputId": "a9ebe704-4c44-4ff2-ad3c-ac8b1d2a10c4"
      },
      "execution_count": null,
      "outputs": [
        {
          "output_type": "stream",
          "name": "stdout",
          "text": [
            "<class 'pandas.core.frame.DataFrame'>\n",
            "RangeIndex: 106248 entries, 0 to 106247\n",
            "Data columns (total 11 columns):\n",
            " #   Column             Non-Null Count   Dtype  \n",
            "---  ------             --------------   -----  \n",
            " 0   ANO                106248 non-null  int64  \n",
            " 1   MES                106248 non-null  int64  \n",
            " 2   SENADOR            106248 non-null  object \n",
            " 3   TIPO_DESPESA       106248 non-null  object \n",
            " 4   CNPJ_CPF           106248 non-null  object \n",
            " 5   FORNECEDOR         106248 non-null  object \n",
            " 6   DOCUMENTO          105529 non-null  object \n",
            " 7   DATA               106248 non-null  object \n",
            " 8   DETALHAMENTO       97777 non-null   object \n",
            " 9   VALOR_REEMBOLSADO  106248 non-null  float64\n",
            " 10  COD_DOCUMENTO      106248 non-null  int64  \n",
            "dtypes: float64(1), int64(3), object(7)\n",
            "memory usage: 8.9+ MB\n"
          ]
        }
      ]
    },
    {
      "cell_type": "code",
      "source": [
        "df_ceaps[\"DATA\"] = pd.to_datetime(df_ceaps['DATA'],infer_datetime_format= True)"
      ],
      "metadata": {
        "id": "Vw-xMp0STe9U"
      },
      "execution_count": null,
      "outputs": []
    },
    {
      "cell_type": "code",
      "source": [
        "df_ceaps.to_csv(\"despesa_ceaps_2017-2022.csv\", index=False)"
      ],
      "metadata": {
        "id": "4jQCWUfrSzSS"
      },
      "execution_count": null,
      "outputs": []
    }
  ]
}