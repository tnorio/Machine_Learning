{
  "nbformat": 4,
  "nbformat_minor": 0,
  "metadata": {
    "colab": {
      "name": "reg linna mao.ipynb",
      "provenance": [],
      "collapsed_sections": []
    },
    "kernelspec": {
      "name": "python3",
      "display_name": "Python 3"
    },
    "language_info": {
      "name": "python"
    }
  },
  "cells": [
    {
      "cell_type": "code",
      "source": [
        "import pandas as pd\n",
        "import matplotlib.pyplot as plt\n",
        "import seaborn as sns\n",
        "import numpy as np\n",
        "from scipy.stats import linregress"
      ],
      "metadata": {
        "id": "UvOB1t-8UEUX"
      },
      "execution_count": 129,
      "outputs": []
    },
    {
      "cell_type": "markdown",
      "source": [
        "Nossos dados contém o valor médio da variação do nivel do mar ```CSIRO Adjusted Sea Level ```  do ano ``` Year``` 1880 até 2013.\n",
        "\n",
        "Vamos utilizar os valores medidos para prever a qual será a variação do nivel do mar até 2050. Para isso iremos utilizar um modelo de regressão linear e avaliar os resultados"
      ],
      "metadata": {
        "id": "IZeAPpfnSgWs"
      }
    },
    {
      "cell_type": "code",
      "source": [
        "df = pd.read_csv(\"https://raw.githubusercontent.com/tnorio/Data-Analysis-with-Python-freecodecamp.org/main/Sea%20Level%20Predictor/epa-sea-level.csv\")"
      ],
      "metadata": {
        "id": "5z0k12vgUJpd"
      },
      "execution_count": 130,
      "outputs": []
    },
    {
      "cell_type": "code",
      "source": [
        "df.head()"
      ],
      "metadata": {
        "colab": {
          "base_uri": "https://localhost:8080/",
          "height": 206
        },
        "id": "fRkAdoXQWCaE",
        "outputId": "5e8f1fe6-6dde-4f2b-bfa5-974a3ac83109"
      },
      "execution_count": 131,
      "outputs": [
        {
          "output_type": "execute_result",
          "data": {
            "text/plain": [
              "   Year  CSIRO Adjusted Sea Level  Lower Error Bound  Upper Error Bound  \\\n",
              "0  1880                  0.000000          -0.952756           0.952756   \n",
              "1  1881                  0.220472          -0.732283           1.173228   \n",
              "2  1882                 -0.440945          -1.346457           0.464567   \n",
              "3  1883                 -0.232283          -1.129921           0.665354   \n",
              "4  1884                  0.590551          -0.283465           1.464567   \n",
              "\n",
              "   NOAA Adjusted Sea Level  \n",
              "0                      NaN  \n",
              "1                      NaN  \n",
              "2                      NaN  \n",
              "3                      NaN  \n",
              "4                      NaN  "
            ],
            "text/html": [
              "\n",
              "  <div id=\"df-ed6c66e0-c9d2-4273-8c86-79387161cdf8\">\n",
              "    <div class=\"colab-df-container\">\n",
              "      <div>\n",
              "<style scoped>\n",
              "    .dataframe tbody tr th:only-of-type {\n",
              "        vertical-align: middle;\n",
              "    }\n",
              "\n",
              "    .dataframe tbody tr th {\n",
              "        vertical-align: top;\n",
              "    }\n",
              "\n",
              "    .dataframe thead th {\n",
              "        text-align: right;\n",
              "    }\n",
              "</style>\n",
              "<table border=\"1\" class=\"dataframe\">\n",
              "  <thead>\n",
              "    <tr style=\"text-align: right;\">\n",
              "      <th></th>\n",
              "      <th>Year</th>\n",
              "      <th>CSIRO Adjusted Sea Level</th>\n",
              "      <th>Lower Error Bound</th>\n",
              "      <th>Upper Error Bound</th>\n",
              "      <th>NOAA Adjusted Sea Level</th>\n",
              "    </tr>\n",
              "  </thead>\n",
              "  <tbody>\n",
              "    <tr>\n",
              "      <th>0</th>\n",
              "      <td>1880</td>\n",
              "      <td>0.000000</td>\n",
              "      <td>-0.952756</td>\n",
              "      <td>0.952756</td>\n",
              "      <td>NaN</td>\n",
              "    </tr>\n",
              "    <tr>\n",
              "      <th>1</th>\n",
              "      <td>1881</td>\n",
              "      <td>0.220472</td>\n",
              "      <td>-0.732283</td>\n",
              "      <td>1.173228</td>\n",
              "      <td>NaN</td>\n",
              "    </tr>\n",
              "    <tr>\n",
              "      <th>2</th>\n",
              "      <td>1882</td>\n",
              "      <td>-0.440945</td>\n",
              "      <td>-1.346457</td>\n",
              "      <td>0.464567</td>\n",
              "      <td>NaN</td>\n",
              "    </tr>\n",
              "    <tr>\n",
              "      <th>3</th>\n",
              "      <td>1883</td>\n",
              "      <td>-0.232283</td>\n",
              "      <td>-1.129921</td>\n",
              "      <td>0.665354</td>\n",
              "      <td>NaN</td>\n",
              "    </tr>\n",
              "    <tr>\n",
              "      <th>4</th>\n",
              "      <td>1884</td>\n",
              "      <td>0.590551</td>\n",
              "      <td>-0.283465</td>\n",
              "      <td>1.464567</td>\n",
              "      <td>NaN</td>\n",
              "    </tr>\n",
              "  </tbody>\n",
              "</table>\n",
              "</div>\n",
              "      <button class=\"colab-df-convert\" onclick=\"convertToInteractive('df-ed6c66e0-c9d2-4273-8c86-79387161cdf8')\"\n",
              "              title=\"Convert this dataframe to an interactive table.\"\n",
              "              style=\"display:none;\">\n",
              "        \n",
              "  <svg xmlns=\"http://www.w3.org/2000/svg\" height=\"24px\"viewBox=\"0 0 24 24\"\n",
              "       width=\"24px\">\n",
              "    <path d=\"M0 0h24v24H0V0z\" fill=\"none\"/>\n",
              "    <path d=\"M18.56 5.44l.94 2.06.94-2.06 2.06-.94-2.06-.94-.94-2.06-.94 2.06-2.06.94zm-11 1L8.5 8.5l.94-2.06 2.06-.94-2.06-.94L8.5 2.5l-.94 2.06-2.06.94zm10 10l.94 2.06.94-2.06 2.06-.94-2.06-.94-.94-2.06-.94 2.06-2.06.94z\"/><path d=\"M17.41 7.96l-1.37-1.37c-.4-.4-.92-.59-1.43-.59-.52 0-1.04.2-1.43.59L10.3 9.45l-7.72 7.72c-.78.78-.78 2.05 0 2.83L4 21.41c.39.39.9.59 1.41.59.51 0 1.02-.2 1.41-.59l7.78-7.78 2.81-2.81c.8-.78.8-2.07 0-2.86zM5.41 20L4 18.59l7.72-7.72 1.47 1.35L5.41 20z\"/>\n",
              "  </svg>\n",
              "      </button>\n",
              "      \n",
              "  <style>\n",
              "    .colab-df-container {\n",
              "      display:flex;\n",
              "      flex-wrap:wrap;\n",
              "      gap: 12px;\n",
              "    }\n",
              "\n",
              "    .colab-df-convert {\n",
              "      background-color: #E8F0FE;\n",
              "      border: none;\n",
              "      border-radius: 50%;\n",
              "      cursor: pointer;\n",
              "      display: none;\n",
              "      fill: #1967D2;\n",
              "      height: 32px;\n",
              "      padding: 0 0 0 0;\n",
              "      width: 32px;\n",
              "    }\n",
              "\n",
              "    .colab-df-convert:hover {\n",
              "      background-color: #E2EBFA;\n",
              "      box-shadow: 0px 1px 2px rgba(60, 64, 67, 0.3), 0px 1px 3px 1px rgba(60, 64, 67, 0.15);\n",
              "      fill: #174EA6;\n",
              "    }\n",
              "\n",
              "    [theme=dark] .colab-df-convert {\n",
              "      background-color: #3B4455;\n",
              "      fill: #D2E3FC;\n",
              "    }\n",
              "\n",
              "    [theme=dark] .colab-df-convert:hover {\n",
              "      background-color: #434B5C;\n",
              "      box-shadow: 0px 1px 3px 1px rgba(0, 0, 0, 0.15);\n",
              "      filter: drop-shadow(0px 1px 2px rgba(0, 0, 0, 0.3));\n",
              "      fill: #FFFFFF;\n",
              "    }\n",
              "  </style>\n",
              "\n",
              "      <script>\n",
              "        const buttonEl =\n",
              "          document.querySelector('#df-ed6c66e0-c9d2-4273-8c86-79387161cdf8 button.colab-df-convert');\n",
              "        buttonEl.style.display =\n",
              "          google.colab.kernel.accessAllowed ? 'block' : 'none';\n",
              "\n",
              "        async function convertToInteractive(key) {\n",
              "          const element = document.querySelector('#df-ed6c66e0-c9d2-4273-8c86-79387161cdf8');\n",
              "          const dataTable =\n",
              "            await google.colab.kernel.invokeFunction('convertToInteractive',\n",
              "                                                     [key], {});\n",
              "          if (!dataTable) return;\n",
              "\n",
              "          const docLinkHtml = 'Like what you see? Visit the ' +\n",
              "            '<a target=\"_blank\" href=https://colab.research.google.com/notebooks/data_table.ipynb>data table notebook</a>'\n",
              "            + ' to learn more about interactive tables.';\n",
              "          element.innerHTML = '';\n",
              "          dataTable['output_type'] = 'display_data';\n",
              "          await google.colab.output.renderOutput(dataTable, element);\n",
              "          const docLink = document.createElement('div');\n",
              "          docLink.innerHTML = docLinkHtml;\n",
              "          element.appendChild(docLink);\n",
              "        }\n",
              "      </script>\n",
              "    </div>\n",
              "  </div>\n",
              "  "
            ]
          },
          "metadata": {},
          "execution_count": 131
        }
      ]
    },
    {
      "cell_type": "markdown",
      "source": [
        "Para nosso modelo iremos utilizar somente as variáveis ```Year``` e ```CSIRO Adjusted Sea Level```"
      ],
      "metadata": {
        "id": "DJeDiOtdUOWs"
      }
    },
    {
      "cell_type": "markdown",
      "source": [
        "Primeiro vamos plotar um scatter plot para observar o comportamento dos dados"
      ],
      "metadata": {
        "id": "37obgfSXLk7P"
      }
    },
    {
      "cell_type": "code",
      "source": [
        "fig, axs = plt.subplots(figsize=(10,5))\n",
        "plt.scatter(x=df[\"Year\"],y=df[\"CSIRO Adjusted Sea Level\"])\n",
        "\n",
        "#legendas\n",
        "plt.title(\"Variação ajustada do nível do mar\")\n",
        "plt.suptitle(\"de 1880 até 2013\")\n",
        "axs.set_xlabel(\"Ano\")\n",
        "axs.set_ylabel(\"Variação ajustada do nível do mar\");\n",
        "\n",
        "plt.savefig(\"scatterr data.png\")"
      ],
      "metadata": {
        "colab": {
          "base_uri": "https://localhost:8080/",
          "height": 370
        },
        "id": "wWQJa7H4PV4w",
        "outputId": "c5586103-02dd-4426-80c3-37f5026b3909"
      },
      "execution_count": 132,
      "outputs": [
        {
          "output_type": "display_data",
          "data": {
            "text/plain": [
              "<Figure size 720x360 with 1 Axes>"
            ],
            "image/png": "[encoded data removed]"
          },
          "metadata": {
            "needs_background": "light"
          }
        }
      ]
    },
    {
      "cell_type": "markdown",
      "source": [
        "Podemos observar que a alteração do nível do mar vem ocorrendo de forma quase linear. Por isso vamos utilizar um modelo linear para tentar prever alterações futuras."
      ],
      "metadata": {
        "id": "Dhe94Xt5WGjs"
      }
    },
    {
      "cell_type": "markdown",
      "source": [
        "# Regressão Linear\n",
        "A regressão linear é um modelo relativamente simples, oque pode ser ruim por não conseguir uma boa performance em problemas mais complexos, por outro lado sua vantagem é ser de fácil explicação.\n",
        "\n",
        "## Regressão Linear\n",
        "Com um modelo de regressão linear é um metodo estatístico usado para prever a relação entre duas variáveis. Queremos prever o quanto de alteração da variável dependente ou preditora ```X``` influencia no valor da variável independente ou de resposta```Y```\n",
        "\n",
        "##Equação\n",
        "Um modelo de regressão linear é composto pela seguinte equação:\n",
        "\n",
        "$ \\hat{y}_i = \\beta_0 + \\beta_1*x_i +ϵ $\n",
        "\n",
        "\n",
        "* $\\hat{y}_i$: Valor que vamos prever. A variável dependente\n",
        "* $x_i$: váriavel de entrada / independente\n",
        "* $\\beta_0$: *intercept*, é ponto que corta o eixo y quando x=0.\n",
        "* $\\beta_1$: coeficiente angular, define a angulação da reta. Quanto mais inclinada maior a influencia que a alteração de $x_i$  provoca em $\\hat{y}_1$.\n",
        "*  $ϵ$: Valor inerente a variabilidade dos dados e segue uma distribuição gaussiana com média 0.\n",
        "\n",
        "Usando a regressão linear nos buscamos encontrar a linha que melhor se \"ajusta\" aos nossos dados. Essa linha é conhecida como regressão dos minimos quadrados, pois ela se propõe a reduzir ao máximo o quadrado dos erros, que são a diferença entre o valor predito $\\hat{y}$ e o valor real ${y}$.\n",
        "\n",
        "A linha tenta reduzir o quadrado dos erros pois a soma dos erros deve ser 0.\n",
        "\n",
        "### Equação do Erro médio quadratico (*MSE*)\n",
        "$\\sum_{i=1}^{N}(x_i-y_i)^2$\n",
        "* $x_i$: variável preditora\n",
        "* $y_i$ variável resposta\n",
        "\n",
        "Básicamente o modelo  inicia com valores aleatórios para a reta e calcula o *MSE*. Então ele busca por alterações que  diminuam este erro. Atualmente os modelos mais populares são implementados com otimizações para agilizar esta etapa. Quando o modelo atinge o menor valor de erro,logo ele terá os melhores  $\\beta_0$ e  $\\beta_1$. \n",
        "\n"
      ],
      "metadata": {
        "id": "SiLyUN1jIOM8"
      }
    },
    {
      "cell_type": "code",
      "source": [
        "#Criando o modelo\n",
        "from sklearn.linear_model import LinearRegression\n",
        "linr = LinearRegression()\n",
        "linr.fit(X=df[[\"Year\"]],y=df[[\"CSIRO Adjusted Sea Level\"]])"
      ],
      "metadata": {
        "colab": {
          "base_uri": "https://localhost:8080/"
        },
        "id": "0hIBSqEEACiT",
        "outputId": "ae5e5c36-5da7-4fd1-92f5-e32f3b8a84db"
      },
      "execution_count": 133,
      "outputs": [
        {
          "output_type": "execute_result",
          "data": {
            "text/plain": [
              "LinearRegression()"
            ]
          },
          "metadata": {},
          "execution_count": 133
        }
      ]
    },
    {
      "cell_type": "markdown",
      "source": [
        "Vamos usar a biblioteca ```LinearRegression``` do Scikitlearn realiza os passos descritos anteriormente para chegar aos valores do coeficiente angular e do intercept que minimizam os erros."
      ],
      "metadata": {
        "id": "Z3kR1mxmcvTx"
      }
    },
    {
      "cell_type": "markdown",
      "source": [
        "Com o methodo `coef_ `a biblioteca nos retornar o coeficiente angular $\\beta_1$. "
      ],
      "metadata": {
        "id": "E3Dgzh9Lpsiz"
      }
    },
    {
      "cell_type": "code",
      "source": [
        "#coef angular / slope\n",
        "linr.coef_[0]"
      ],
      "metadata": {
        "colab": {
          "base_uri": "https://localhost:8080/"
        },
        "id": "8FYtT6S6Ge_P",
        "outputId": "7c9f1e0e-304d-49a4-8c5a-74d45dfb736c"
      },
      "execution_count": 134,
      "outputs": [
        {
          "output_type": "execute_result",
          "data": {
            "text/plain": [
              "array([0.06304458])"
            ]
          },
          "metadata": {},
          "execution_count": 134
        }
      ]
    },
    {
      "cell_type": "markdown",
      "source": [
        "Com o methodo `intercept` a biblioteca nos retornar o intercept $\\beta_0$. "
      ],
      "metadata": {
        "id": "MCu8g5qXqBMn"
      }
    },
    {
      "cell_type": "code",
      "source": [
        "#intercept\n",
        "linr.intercept_[0]"
      ],
      "metadata": {
        "colab": {
          "base_uri": "https://localhost:8080/"
        },
        "id": "85wKbogdGrOD",
        "outputId": "ffa6d5cd-31b2-43bb-9028-a4d090a568ac"
      },
      "execution_count": 135,
      "outputs": [
        {
          "output_type": "execute_result",
          "data": {
            "text/plain": [
              "-119.06594196773978"
            ]
          },
          "metadata": {},
          "execution_count": 135
        }
      ]
    },
    {
      "cell_type": "markdown",
      "source": [
        "De posse dos valores do intercept $\\beta_0$ e do coeficiente angular $\\beta_1$, que são valores constantes para todas as observações.\n",
        "Podemos realizar a plotagem da reta. Mas primeiro vamos criar uma funcao parar calcular a reta."
      ],
      "metadata": {
        "id": "RL-2ppPWr72E"
      }
    },
    {
      "cell_type": "markdown",
      "source": [
        "Lembrando a equação da reta:\n",
        "\n",
        "$ \\hat{y}_i = \\beta_0 + \\beta_1*x_i$\n",
        "\n",
        "Que no nosso problema se traduz em\n",
        "\n",
        "Nível previsto do Mar = intercept+ (slope* Ano)"
      ],
      "metadata": {
        "id": "jrNrlWcFtKpF"
      }
    },
    {
      "cell_type": "code",
      "source": [
        "#criando uma funcao para calcular a reta\n",
        "def Regression(intercept,slope,X):\n",
        "  \"\"\"\n",
        "  Retorna a reta de uma regressão linear de acordo com os valores da função\n",
        "  \"\"\"\n",
        "\n",
        "  return intercept + ( slope * X ).values"
      ],
      "metadata": {
        "id": "xZ5JCGiYAuCw"
      },
      "execution_count": 136,
      "outputs": []
    },
    {
      "cell_type": "code",
      "source": [
        "#plotagem com a regressão\n",
        "fig, axs = plt.subplots(figsize=(10,5))\n",
        "plt.scatter(x=df[\"Year\"],y=df[\"CSIRO Adjusted Sea Level\"])\n",
        "plt.plot(df[\"Year\"], Regression(linr.intercept_,linr.coef_,df[[\"Year\"]]), c=\"m\", label = \"Reg.Lin \")\n",
        "\n",
        "#legendas\n",
        "plt.title(\"previsão nivel do mar\")\n",
        "axs.set_xlabel(\"ANO\")\n",
        "axs.set_ylabel(\"Nivel do mar ajustado\")\n",
        "plt.legend()\n",
        "\n",
        "plt.savefig(\"reglin_ate13\")"
      ],
      "metadata": {
        "colab": {
          "base_uri": "https://localhost:8080/",
          "height": 350
        },
        "id": "plP21Z8VsNJR",
        "outputId": "517fc851-5d65-448a-8c0e-86028fdf0420"
      },
      "execution_count": 137,
      "outputs": [
        {
          "output_type": "display_data",
          "data": {
            "text/plain": [
              "<Figure size 720x360 with 1 Axes>"
            ],
            "image/png": "[encoded data removed]"
          },
          "metadata": {
            "needs_background": "light"
          }
        }
      ]
    },
    {
      "cell_type": "markdown",
      "source": [
        "## Métricas de acertividade do modelo\n",
        "Para saber o quão bom o nosso modelo foi ajustado existem algumas métricas que nos permitem uma maior precisão para avaliação do desempenho do modelo e comparação com outros modelos. Vamos utilizar para avaliar nosso modelo o R² e do *MSE*\n",
        "\n",
        "### R-squared (R²) / Coeficiente de Determinação\n",
        "\n",
        "É uma métrica de correlação que tem duas vantagens: é fácil de calcular e fácil de interpretar. \n",
        "\n",
        "Demonstra proporcionalmente o quanto da variação na variável resposta $y$ pode ser explicada pelas  variações das variáveis de entrada $x$ no modelo. Sempre será um valor entre 0 e 1, quanto mais próximo de 1 melhor. E pode ser interpretado como uma porcentagem.\n",
        "\n",
        "É definido com a equação:\n",
        "\n",
        "$R^2 = \\frac{var(média) - var(modelo)}{var(média)} = 1 - \\frac{var(modelo)}{var(média)}$\n",
        "\n",
        "* var = Variância"
      ],
      "metadata": {
        "id": "3cU5gCm2MnPo"
      }
    },
    {
      "cell_type": "code",
      "source": [
        "from sklearn.metrics import r2_score\n",
        "r2_score(y_true=df[\"CSIRO Adjusted Sea Level\"],y_pred=Regression(linr.intercept_,linr.coef_,df[[\"Year\"]]))"
      ],
      "metadata": {
        "colab": {
          "base_uri": "https://localhost:8080/"
        },
        "id": "Fw_P6Yv5s0fj",
        "outputId": "5efc5ef5-dc3b-405d-b6f0-db2b84a35bd0"
      },
      "execution_count": 138,
      "outputs": [
        {
          "output_type": "execute_result",
          "data": {
            "text/plain": [
              "0.9697466074149554"
            ]
          },
          "metadata": {},
          "execution_count": 138
        }
      ]
    },
    {
      "cell_type": "markdown",
      "source": [
        "O modelo é capaz de explicar 96% da variância em torno dele."
      ],
      "metadata": {
        "id": "OWYM5rS7Jg-9"
      }
    },
    {
      "cell_type": "markdown",
      "source": [
        "### Erro Médio Quadrático / mean Squared Error (*MSE*)\n",
        "As medidas de erro são usadas para fins comparativos com outros modelos e para ter uma ideia de o quão aceitável está a saída do nosso modelo.\n",
        "\n",
        "\n",
        "O *MSE* nos diz média do quadrado da diferença entre os valores preditos pela reta e o valor real. bQuanto MENOR o valor da métrica de erro, melhor ajustado está o nosso modelo.\n",
        "\n",
        "Equação\n",
        "\n",
        "$MSE = \\frac{1}{n} \\sum(y - \\hat{y})^2$\n",
        "\n",
        "* $y$: valor real a ser previsto\n",
        "* $\\hat{y}$: valor estimado pelo modelo\n",
        "* $n$: número de pontos\n"
      ],
      "metadata": {
        "id": "gvC3UEZYKJTc"
      }
    },
    {
      "cell_type": "code",
      "source": [
        "from sklearn.metrics import mean_squared_error\n",
        "mean_squared_error(df[\"CSIRO Adjusted Sea Level\"], Regression(linr.intercept_,linr.coef_,df[[\"Year\"]]))"
      ],
      "metadata": {
        "colab": {
          "base_uri": "https://localhost:8080/"
        },
        "id": "kpd-fiAvs5EW",
        "outputId": "efe77d7b-b2c2-48ff-f60e-f27191a22c80"
      },
      "execution_count": 139,
      "outputs": [
        {
          "output_type": "execute_result",
          "data": {
            "text/plain": [
              "0.18553059803434588"
            ]
          },
          "metadata": {},
          "execution_count": 139
        }
      ]
    },
    {
      "cell_type": "markdown",
      "source": [
        "Dado as métricas de avaliação do nosso modelo, observamos que estamos com um modelo bem ajustado"
      ],
      "metadata": {
        "id": "dbGKgo-aNJQB"
      }
    },
    {
      "cell_type": "markdown",
      "source": [
        "##Extendendo a linha até 2050"
      ],
      "metadata": {
        "id": "exWoPloGs_8s"
      }
    },
    {
      "cell_type": "markdown",
      "source": [
        "Agora que temos um modelo bem definido, vamos  extender nossa janela temporal para criar uma previsão da alteração do nivel do mar até 2050."
      ],
      "metadata": {
        "id": "TzCQ1ICSMz9t"
      }
    },
    {
      "cell_type": "code",
      "source": [
        "#extend year\n",
        "X_extendido = np.arange(df[\"Year\"].min(), 2051)\n",
        "pd.DataFrame(X_extendido)[[0]]"
      ],
      "metadata": {
        "id": "XTy7y6-tGLaU",
        "colab": {
          "base_uri": "https://localhost:8080/",
          "height": 424
        },
        "outputId": "abd8be6c-2d12-48f6-c694-b412e0872299"
      },
      "execution_count": 140,
      "outputs": [
        {
          "output_type": "execute_result",
          "data": {
            "text/plain": [
              "        0\n",
              "0    1880\n",
              "1    1881\n",
              "2    1882\n",
              "3    1883\n",
              "4    1884\n",
              "..    ...\n",
              "166  2046\n",
              "167  2047\n",
              "168  2048\n",
              "169  2049\n",
              "170  2050\n",
              "\n",
              "[171 rows x 1 columns]"
            ],
            "text/html": [
              "\n",
              "  <div id=\"df-d31e9668-2116-4bf7-8918-6c0d7b40fe0b\">\n",
              "    <div class=\"colab-df-container\">\n",
              "      <div>\n",
              "<style scoped>\n",
              "    .dataframe tbody tr th:only-of-type {\n",
              "        vertical-align: middle;\n",
              "    }\n",
              "\n",
              "    .dataframe tbody tr th {\n",
              "        vertical-align: top;\n",
              "    }\n",
              "\n",
              "    .dataframe thead th {\n",
              "        text-align: right;\n",
              "    }\n",
              "</style>\n",
              "<table border=\"1\" class=\"dataframe\">\n",
              "  <thead>\n",
              "    <tr style=\"text-align: right;\">\n",
              "      <th></th>\n",
              "      <th>0</th>\n",
              "    </tr>\n",
              "  </thead>\n",
              "  <tbody>\n",
              "    <tr>\n",
              "      <th>0</th>\n",
              "      <td>1880</td>\n",
              "    </tr>\n",
              "    <tr>\n",
              "      <th>1</th>\n",
              "      <td>1881</td>\n",
              "    </tr>\n",
              "    <tr>\n",
              "      <th>2</th>\n",
              "      <td>1882</td>\n",
              "    </tr>\n",
              "    <tr>\n",
              "      <th>3</th>\n",
              "      <td>1883</td>\n",
              "    </tr>\n",
              "    <tr>\n",
              "      <th>4</th>\n",
              "      <td>1884</td>\n",
              "    </tr>\n",
              "    <tr>\n",
              "      <th>...</th>\n",
              "      <td>...</td>\n",
              "    </tr>\n",
              "    <tr>\n",
              "      <th>166</th>\n",
              "      <td>2046</td>\n",
              "    </tr>\n",
              "    <tr>\n",
              "      <th>167</th>\n",
              "      <td>2047</td>\n",
              "    </tr>\n",
              "    <tr>\n",
              "      <th>168</th>\n",
              "      <td>2048</td>\n",
              "    </tr>\n",
              "    <tr>\n",
              "      <th>169</th>\n",
              "      <td>2049</td>\n",
              "    </tr>\n",
              "    <tr>\n",
              "      <th>170</th>\n",
              "      <td>2050</td>\n",
              "    </tr>\n",
              "  </tbody>\n",
              "</table>\n",
              "<p>171 rows × 1 columns</p>\n",
              "</div>\n",
              "      <button class=\"colab-df-convert\" onclick=\"convertToInteractive('df-d31e9668-2116-4bf7-8918-6c0d7b40fe0b')\"\n",
              "              title=\"Convert this dataframe to an interactive table.\"\n",
              "              style=\"display:none;\">\n",
              "        \n",
              "  <svg xmlns=\"http://www.w3.org/2000/svg\" height=\"24px\"viewBox=\"0 0 24 24\"\n",
              "       width=\"24px\">\n",
              "    <path d=\"M0 0h24v24H0V0z\" fill=\"none\"/>\n",
              "    <path d=\"M18.56 5.44l.94 2.06.94-2.06 2.06-.94-2.06-.94-.94-2.06-.94 2.06-2.06.94zm-11 1L8.5 8.5l.94-2.06 2.06-.94-2.06-.94L8.5 2.5l-.94 2.06-2.06.94zm10 10l.94 2.06.94-2.06 2.06-.94-2.06-.94-.94-2.06-.94 2.06-2.06.94z\"/><path d=\"M17.41 7.96l-1.37-1.37c-.4-.4-.92-.59-1.43-.59-.52 0-1.04.2-1.43.59L10.3 9.45l-7.72 7.72c-.78.78-.78 2.05 0 2.83L4 21.41c.39.39.9.59 1.41.59.51 0 1.02-.2 1.41-.59l7.78-7.78 2.81-2.81c.8-.78.8-2.07 0-2.86zM5.41 20L4 18.59l7.72-7.72 1.47 1.35L5.41 20z\"/>\n",
              "  </svg>\n",
              "      </button>\n",
              "      \n",
              "  <style>\n",
              "    .colab-df-container {\n",
              "      display:flex;\n",
              "      flex-wrap:wrap;\n",
              "      gap: 12px;\n",
              "    }\n",
              "\n",
              "    .colab-df-convert {\n",
              "      background-color: #E8F0FE;\n",
              "      border: none;\n",
              "      border-radius: 50%;\n",
              "      cursor: pointer;\n",
              "      display: none;\n",
              "      fill: #1967D2;\n",
              "      height: 32px;\n",
              "      padding: 0 0 0 0;\n",
              "      width: 32px;\n",
              "    }\n",
              "\n",
              "    .colab-df-convert:hover {\n",
              "      background-color: #E2EBFA;\n",
              "      box-shadow: 0px 1px 2px rgba(60, 64, 67, 0.3), 0px 1px 3px 1px rgba(60, 64, 67, 0.15);\n",
              "      fill: #174EA6;\n",
              "    }\n",
              "\n",
              "    [theme=dark] .colab-df-convert {\n",
              "      background-color: #3B4455;\n",
              "      fill: #D2E3FC;\n",
              "    }\n",
              "\n",
              "    [theme=dark] .colab-df-convert:hover {\n",
              "      background-color: #434B5C;\n",
              "      box-shadow: 0px 1px 3px 1px rgba(0, 0, 0, 0.15);\n",
              "      filter: drop-shadow(0px 1px 2px rgba(0, 0, 0, 0.3));\n",
              "      fill: #FFFFFF;\n",
              "    }\n",
              "  </style>\n",
              "\n",
              "      <script>\n",
              "        const buttonEl =\n",
              "          document.querySelector('#df-d31e9668-2116-4bf7-8918-6c0d7b40fe0b button.colab-df-convert');\n",
              "        buttonEl.style.display =\n",
              "          google.colab.kernel.accessAllowed ? 'block' : 'none';\n",
              "\n",
              "        async function convertToInteractive(key) {\n",
              "          const element = document.querySelector('#df-d31e9668-2116-4bf7-8918-6c0d7b40fe0b');\n",
              "          const dataTable =\n",
              "            await google.colab.kernel.invokeFunction('convertToInteractive',\n",
              "                                                     [key], {});\n",
              "          if (!dataTable) return;\n",
              "\n",
              "          const docLinkHtml = 'Like what you see? Visit the ' +\n",
              "            '<a target=\"_blank\" href=https://colab.research.google.com/notebooks/data_table.ipynb>data table notebook</a>'\n",
              "            + ' to learn more about interactive tables.';\n",
              "          element.innerHTML = '';\n",
              "          dataTable['output_type'] = 'display_data';\n",
              "          await google.colab.output.renderOutput(dataTable, element);\n",
              "          const docLink = document.createElement('div');\n",
              "          docLink.innerHTML = docLinkHtml;\n",
              "          element.appendChild(docLink);\n",
              "        }\n",
              "      </script>\n",
              "    </div>\n",
              "  </div>\n",
              "  "
            ]
          },
          "metadata": {},
          "execution_count": 140
        }
      ]
    },
    {
      "cell_type": "code",
      "source": [
        "#plotagem com a regressão\n",
        "fig, axs = plt.subplots(figsize=(10,5))\n",
        "plt.scatter(x=df[\"Year\"],y=df[\"CSIRO Adjusted Sea Level\"])\n",
        "plt.plot(X_extendido, Regression(linr.intercept_,linr.coef_,pd.DataFrame(X_extendido)), c=\"m\",label=\"Reg.Lin até 2050\")\n",
        "\n",
        "#legendas\n",
        "plt.title(\"previsão nivel do mar\")\n",
        "axs.set_xlabel(\"ANO\")\n",
        "axs.set_ylabel(\"Nivel do mar ajustado\")\n",
        "plt.savefig(\"reglin_ate50\")\n",
        "plt.legend()"
      ],
      "metadata": {
        "colab": {
          "base_uri": "https://localhost:8080/",
          "height": 367
        },
        "id": "ywgfJiqUGU51",
        "outputId": "e585e19b-1fb7-468c-b7c8-e8e6d8ac0d83"
      },
      "execution_count": 141,
      "outputs": [
        {
          "output_type": "execute_result",
          "data": {
            "text/plain": [
              "<matplotlib.legend.Legend at 0x7f9a048f7910>"
            ]
          },
          "metadata": {},
          "execution_count": 141
        },
        {
          "output_type": "display_data",
          "data": {
            "text/plain": [
              "<Figure size 720x360 with 1 Axes>"
            ],
            "image/png": "[encoded data removed]"
          },
          "metadata": {
            "needs_background": "light"
          }
        }
      ]
    },
    {
      "cell_type": "code",
      "source": [
        "#Valor predito em 2050\n",
        "Regression(linr.intercept_,linr.coef_,df[[\"Year\"]])[-1]"
      ],
      "metadata": {
        "colab": {
          "base_uri": "https://localhost:8080/"
        },
        "id": "NlrVdm5zQiox",
        "outputId": "0b7a538e-8548-41a2-c5ba-e2020c8d879b"
      },
      "execution_count": 142,
      "outputs": [
        {
          "output_type": "execute_result",
          "data": {
            "text/plain": [
              "array([7.84280565])"
            ]
          },
          "metadata": {},
          "execution_count": 142
        }
      ]
    },
    {
      "cell_type": "markdown",
      "source": [
        "## Prevendo com dados de 2000 até 2013"
      ],
      "metadata": {
        "id": "O3m6eJSmKxTm"
      }
    },
    {
      "cell_type": "markdown",
      "source": [
        "No gráfico acima percebe-se que ocorre um crescimento mais acentuado dos valores por volta do ano 2000. Vamos criar um novo modelo somente com os dados de 200 até 2013 para podermos observar melhor o impacto que esta alteração pode causar até 2050."
      ],
      "metadata": {
        "id": "ayE5bVq2NUCd"
      }
    },
    {
      "cell_type": "code",
      "source": [
        "#dataset e modelo\n",
        "df2k = df[df[\"Year\"]>=2000]\n",
        "\n",
        "linr2k = LinearRegression()\n",
        "linr2k.fit(X=df2k[[\"Year\"]],y=df2k[[\"CSIRO Adjusted Sea Level\"]])\n",
        "\n",
        "#extend ano\n",
        "X_extendido2k = np.arange(df2k.Year.min(), 2051 )"
      ],
      "metadata": {
        "id": "zT_uDOfhKUbP"
      },
      "execution_count": 143,
      "outputs": []
    },
    {
      "cell_type": "markdown",
      "source": [
        "falar dos coeficientes e que ja era esperado um aumento do slope"
      ],
      "metadata": {
        "id": "8OwJR_DFOE4Z"
      }
    },
    {
      "cell_type": "code",
      "source": [
        "linr2k.coef_"
      ],
      "metadata": {
        "colab": {
          "base_uri": "https://localhost:8080/"
        },
        "id": "nL85nj4NNpWK",
        "outputId": "c80f356c-fa1a-42b4-990f-e3d43d393942"
      },
      "execution_count": 144,
      "outputs": [
        {
          "output_type": "execute_result",
          "data": {
            "text/plain": [
              "array([[0.16642727]])"
            ]
          },
          "metadata": {},
          "execution_count": 144
        }
      ]
    },
    {
      "cell_type": "markdown",
      "source": [
        "Podemos observar que o valor encontrado no nosso modelo de 2000 até 2013 possui um valor para o coeficiente angular ```coef_``` de ```0.16```, bem maior que o valor do modelo anterior de ```0.6```.\n",
        "Oque já era esperado, pois foi observado um aumento da inclinação dos pontos observados. Uma menor variação no eixo X Ano, causou uma maior variação no eixo Y Variação do nível do mar "
      ],
      "metadata": {
        "id": "7ZDnFnlaN6W8"
      }
    },
    {
      "cell_type": "markdown",
      "source": [
        "Vamos plotar esses dados para observar a diferença"
      ],
      "metadata": {
        "id": "wPTMot6-OqXV"
      }
    },
    {
      "cell_type": "code",
      "source": [
        "#plotando o gráfico com as duas linhas\n",
        "fig, axs = plt.subplots(figsize=(10,5))\n",
        "plt.scatter(x=df[\"Year\"],y=df[\"CSIRO Adjusted Sea Level\"])\n",
        "plt.plot(X_extendido, Regression(linr.intercept_,linr.coef_,pd.DataFrame(X_extendido)), c=\"m\",label=\"Reg.Lin 1880 até 2050\")\n",
        "\n",
        "plt.plot(X_extendido2k, Regression(linr2k.intercept_,linr2k.coef_,pd.DataFrame(X_extendido2k)), c=\"r\", label=\"Reg.Lin 2000 até 2050\")\n",
        "\n",
        "#legendas\n",
        "plt.title(\"previsão nivel do mar\")\n",
        "axs.set_xlabel(\"ANO\")\n",
        "axs.set_ylabel(\"Nivel do mar ajustado\")\n",
        "plt.legend()\n",
        "plt.savefig(\"reglin_2modelos\")"
      ],
      "metadata": {
        "colab": {
          "base_uri": "https://localhost:8080/",
          "height": 350
        },
        "id": "4b1yqrpwWIzH",
        "outputId": "6433c0be-74e9-44af-b02d-479846b5c540"
      },
      "execution_count": 145,
      "outputs": [
        {
          "output_type": "display_data",
          "data": {
            "text/plain": [
              "<Figure size 720x360 with 1 Axes>"
            ],
            "image/png": "[encoded data removed]"
          },
          "metadata": {
            "needs_background": "light"
          }
        }
      ]
    },
    {
      "cell_type": "code",
      "source": [
        "#Valor predito em 2050\n",
        "Regression(linr2k.intercept_,linr2k.coef_,pd.DataFrame(X_extendido2k))[-1]"
      ],
      "metadata": {
        "colab": {
          "base_uri": "https://localhost:8080/"
        },
        "id": "WGJKzDkYQovv",
        "outputId": "b4ce636f-4a17-438c-e67e-9581c557d9b3"
      },
      "execution_count": 147,
      "outputs": [
        {
          "output_type": "execute_result",
          "data": {
            "text/plain": [
              "array([15.38244352])"
            ]
          },
          "metadata": {},
          "execution_count": 147
        }
      ]
    }
  ]
}