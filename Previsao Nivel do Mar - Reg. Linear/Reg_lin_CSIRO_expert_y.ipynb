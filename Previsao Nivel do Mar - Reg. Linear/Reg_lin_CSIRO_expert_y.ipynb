{
  "nbformat": 4,
  "nbformat_minor": 0,
  "metadata": {
    "colab": {
      "name": "Reg_lin_CSIRO_expert_y",
      "provenance": [],
      "collapsed_sections": []
    },
    "kernelspec": {
      "name": "python3",
      "display_name": "Python 3"
    },
    "language_info": {
      "name": "python"
    }
  },
  "cells": [
    {
      "cell_type": "code",
      "source": [
        "import pandas as pd\n",
        "import matplotlib.pyplot as plt\n",
        "import seaborn as sns\n",
        "import numpy as np\n",
        "from scipy.stats import linregress"
      ],
      "metadata": {
        "id": "UvOB1t-8UEUX"
      },
      "execution_count": 33,
      "outputs": []
    },
    {
      "cell_type": "markdown",
      "source": [
        "Nossos dados contém o valor médio da variação do nivel do mar ```GMSL (mm)```  do ano ``` Year``` 1880 até 2009.\n",
        "\n",
        "Vamos utilizar os valores medidos para prever a qual será a variação do nivel do mar até 2050. Para isso iremos utilizar um modelo de regressão linear e avaliar os resultados"
      ],
      "metadata": {
        "id": "IZeAPpfnSgWs"
      }
    },
    {
      "cell_type": "code",
      "source": [
        "df = pd.read_csv(\"/content/RGMSL_Yearly_Dataset_Expert.csv\")"
      ],
      "metadata": {
        "id": "5z0k12vgUJpd"
      },
      "execution_count": 34,
      "outputs": []
    },
    {
      "cell_type": "code",
      "source": [
        "df"
      ],
      "metadata": {
        "colab": {
          "base_uri": "https://localhost:8080/",
          "height": 424
        },
        "id": "fRkAdoXQWCaE",
        "outputId": "32727c06-663a-4ddd-e499-ad0d7debe019"
      },
      "execution_count": 35,
      "outputs": [
        {
          "output_type": "execute_result",
          "data": {
            "text/plain": [
              "     Year  GMSL (mm)  GMSL uncertainty (mm)\n",
              "0    1880     -157.1                   24.2\n",
              "1    1881     -151.5                   24.2\n",
              "2    1882     -168.3                   23.0\n",
              "3    1883     -163.0                   22.8\n",
              "4    1884     -142.1                   22.2\n",
              "..    ...        ...                    ...\n",
              "125  2005       34.1                    7.3\n",
              "126  2006       35.6                    7.4\n",
              "127  2007       39.1                    8.0\n",
              "128  2008       49.0                    8.4\n",
              "129  2009       55.5                    8.8\n",
              "\n",
              "[130 rows x 3 columns]"
            ],
            "text/html": [
              "\n",
              "  <div id=\"df-5c5d4900-d488-4326-ada0-1e79fa2f3bd4\">\n",
              "    <div class=\"colab-df-container\">\n",
              "      <div>\n",
              "<style scoped>\n",
              "    .dataframe tbody tr th:only-of-type {\n",
              "        vertical-align: middle;\n",
              "    }\n",
              "\n",
              "    .dataframe tbody tr th {\n",
              "        vertical-align: top;\n",
              "    }\n",
              "\n",
              "    .dataframe thead th {\n",
              "        text-align: right;\n",
              "    }\n",
              "</style>\n",
              "<table border=\"1\" class=\"dataframe\">\n",
              "  <thead>\n",
              "    <tr style=\"text-align: right;\">\n",
              "      <th></th>\n",
              "      <th>Year</th>\n",
              "      <th>GMSL (mm)</th>\n",
              "      <th>GMSL uncertainty (mm)</th>\n",
              "    </tr>\n",
              "  </thead>\n",
              "  <tbody>\n",
              "    <tr>\n",
              "      <th>0</th>\n",
              "      <td>1880</td>\n",
              "      <td>-157.1</td>\n",
              "      <td>24.2</td>\n",
              "    </tr>\n",
              "    <tr>\n",
              "      <th>1</th>\n",
              "      <td>1881</td>\n",
              "      <td>-151.5</td>\n",
              "      <td>24.2</td>\n",
              "    </tr>\n",
              "    <tr>\n",
              "      <th>2</th>\n",
              "      <td>1882</td>\n",
              "      <td>-168.3</td>\n",
              "      <td>23.0</td>\n",
              "    </tr>\n",
              "    <tr>\n",
              "      <th>3</th>\n",
              "      <td>1883</td>\n",
              "      <td>-163.0</td>\n",
              "      <td>22.8</td>\n",
              "    </tr>\n",
              "    <tr>\n",
              "      <th>4</th>\n",
              "      <td>1884</td>\n",
              "      <td>-142.1</td>\n",
              "      <td>22.2</td>\n",
              "    </tr>\n",
              "    <tr>\n",
              "      <th>...</th>\n",
              "      <td>...</td>\n",
              "      <td>...</td>\n",
              "      <td>...</td>\n",
              "    </tr>\n",
              "    <tr>\n",
              "      <th>125</th>\n",
              "      <td>2005</td>\n",
              "      <td>34.1</td>\n",
              "      <td>7.3</td>\n",
              "    </tr>\n",
              "    <tr>\n",
              "      <th>126</th>\n",
              "      <td>2006</td>\n",
              "      <td>35.6</td>\n",
              "      <td>7.4</td>\n",
              "    </tr>\n",
              "    <tr>\n",
              "      <th>127</th>\n",
              "      <td>2007</td>\n",
              "      <td>39.1</td>\n",
              "      <td>8.0</td>\n",
              "    </tr>\n",
              "    <tr>\n",
              "      <th>128</th>\n",
              "      <td>2008</td>\n",
              "      <td>49.0</td>\n",
              "      <td>8.4</td>\n",
              "    </tr>\n",
              "    <tr>\n",
              "      <th>129</th>\n",
              "      <td>2009</td>\n",
              "      <td>55.5</td>\n",
              "      <td>8.8</td>\n",
              "    </tr>\n",
              "  </tbody>\n",
              "</table>\n",
              "<p>130 rows × 3 columns</p>\n",
              "</div>\n",
              "      <button class=\"colab-df-convert\" onclick=\"convertToInteractive('df-5c5d4900-d488-4326-ada0-1e79fa2f3bd4')\"\n",
              "              title=\"Convert this dataframe to an interactive table.\"\n",
              "              style=\"display:none;\">\n",
              "        \n",
              "  <svg xmlns=\"http://www.w3.org/2000/svg\" height=\"24px\"viewBox=\"0 0 24 24\"\n",
              "       width=\"24px\">\n",
              "    <path d=\"M0 0h24v24H0V0z\" fill=\"none\"/>\n",
              "    <path d=\"M18.56 5.44l.94 2.06.94-2.06 2.06-.94-2.06-.94-.94-2.06-.94 2.06-2.06.94zm-11 1L8.5 8.5l.94-2.06 2.06-.94-2.06-.94L8.5 2.5l-.94 2.06-2.06.94zm10 10l.94 2.06.94-2.06 2.06-.94-2.06-.94-.94-2.06-.94 2.06-2.06.94z\"/><path d=\"M17.41 7.96l-1.37-1.37c-.4-.4-.92-.59-1.43-.59-.52 0-1.04.2-1.43.59L10.3 9.45l-7.72 7.72c-.78.78-.78 2.05 0 2.83L4 21.41c.39.39.9.59 1.41.59.51 0 1.02-.2 1.41-.59l7.78-7.78 2.81-2.81c.8-.78.8-2.07 0-2.86zM5.41 20L4 18.59l7.72-7.72 1.47 1.35L5.41 20z\"/>\n",
              "  </svg>\n",
              "      </button>\n",
              "      \n",
              "  <style>\n",
              "    .colab-df-container {\n",
              "      display:flex;\n",
              "      flex-wrap:wrap;\n",
              "      gap: 12px;\n",
              "    }\n",
              "\n",
              "    .colab-df-convert {\n",
              "      background-color: #E8F0FE;\n",
              "      border: none;\n",
              "      border-radius: 50%;\n",
              "      cursor: pointer;\n",
              "      display: none;\n",
              "      fill: #1967D2;\n",
              "      height: 32px;\n",
              "      padding: 0 0 0 0;\n",
              "      width: 32px;\n",
              "    }\n",
              "\n",
              "    .colab-df-convert:hover {\n",
              "      background-color: #E2EBFA;\n",
              "      box-shadow: 0px 1px 2px rgba(60, 64, 67, 0.3), 0px 1px 3px 1px rgba(60, 64, 67, 0.15);\n",
              "      fill: #174EA6;\n",
              "    }\n",
              "\n",
              "    [theme=dark] .colab-df-convert {\n",
              "      background-color: #3B4455;\n",
              "      fill: #D2E3FC;\n",
              "    }\n",
              "\n",
              "    [theme=dark] .colab-df-convert:hover {\n",
              "      background-color: #434B5C;\n",
              "      box-shadow: 0px 1px 3px 1px rgba(0, 0, 0, 0.15);\n",
              "      filter: drop-shadow(0px 1px 2px rgba(0, 0, 0, 0.3));\n",
              "      fill: #FFFFFF;\n",
              "    }\n",
              "  </style>\n",
              "\n",
              "      <script>\n",
              "        const buttonEl =\n",
              "          document.querySelector('#df-5c5d4900-d488-4326-ada0-1e79fa2f3bd4 button.colab-df-convert');\n",
              "        buttonEl.style.display =\n",
              "          google.colab.kernel.accessAllowed ? 'block' : 'none';\n",
              "\n",
              "        async function convertToInteractive(key) {\n",
              "          const element = document.querySelector('#df-5c5d4900-d488-4326-ada0-1e79fa2f3bd4');\n",
              "          const dataTable =\n",
              "            await google.colab.kernel.invokeFunction('convertToInteractive',\n",
              "                                                     [key], {});\n",
              "          if (!dataTable) return;\n",
              "\n",
              "          const docLinkHtml = 'Like what you see? Visit the ' +\n",
              "            '<a target=\"_blank\" href=https://colab.research.google.com/notebooks/data_table.ipynb>data table notebook</a>'\n",
              "            + ' to learn more about interactive tables.';\n",
              "          element.innerHTML = '';\n",
              "          dataTable['output_type'] = 'display_data';\n",
              "          await google.colab.output.renderOutput(dataTable, element);\n",
              "          const docLink = document.createElement('div');\n",
              "          docLink.innerHTML = docLinkHtml;\n",
              "          element.appendChild(docLink);\n",
              "        }\n",
              "      </script>\n",
              "    </div>\n",
              "  </div>\n",
              "  "
            ]
          },
          "metadata": {},
          "execution_count": 35
        }
      ]
    },
    {
      "cell_type": "code",
      "source": [
        "df.Year.max()"
      ],
      "metadata": {
        "colab": {
          "base_uri": "https://localhost:8080/"
        },
        "id": "cZWSXGXwlSj6",
        "outputId": "63a65fd1-9714-4273-fc6e-181137a0b0f6"
      },
      "execution_count": 36,
      "outputs": [
        {
          "output_type": "execute_result",
          "data": {
            "text/plain": [
              "2009"
            ]
          },
          "metadata": {},
          "execution_count": 36
        }
      ]
    },
    {
      "cell_type": "markdown",
      "source": [
        "Para nosso modelo iremos utilizar somente as variáveis ```Year``` e ```GMSL (mm)```"
      ],
      "metadata": {
        "id": "DJeDiOtdUOWs"
      }
    },
    {
      "cell_type": "markdown",
      "source": [
        "Primeiro vamos plotar um scatter plot para observar o comportamento dos dados"
      ],
      "metadata": {
        "id": "37obgfSXLk7P"
      }
    },
    {
      "cell_type": "code",
      "source": [
        "fig, axs = plt.subplots(figsize=(10,5))\n",
        "plt.scatter(x=df[\"Year\"],y=df[\"GMSL (mm)\"])\n",
        "\n",
        "#legendas\n",
        "plt.title(\"Variação ajustada do nível do mar\")\n",
        "plt.suptitle(\"de 1880 até 2009\")\n",
        "axs.set_xlabel(\"Ano\")\n",
        "axs.set_ylabel(\"Variação ajustada do nível do mar\");\n",
        "\n",
        "plt.savefig(\"scatterr data.png\")"
      ],
      "metadata": {
        "id": "wWQJa7H4PV4w",
        "colab": {
          "base_uri": "https://localhost:8080/",
          "height": 370
        },
        "outputId": "63e6f089-4978-4891-90dc-27327364e409"
      },
      "execution_count": 37,
      "outputs": [
        {
          "output_type": "display_data",
          "data": {
            "text/plain": [
              "<Figure size 720x360 with 1 Axes>"
            ],
            "image/png": "[encoded data removed]"
          },
          "metadata": {
            "needs_background": "light"
          }
        }
      ]
    },
    {
      "cell_type": "markdown",
      "source": [
        "Podemos observar que a alteração do nível do mar vem ocorrendo de forma quase linear. Por isso vamos utilizar um modelo linear para tentar prever alterações futuras."
      ],
      "metadata": {
        "id": "Dhe94Xt5WGjs"
      }
    },
    {
      "cell_type": "markdown",
      "source": [
        "# Regressão Linear\n",
        "A regressão linear é um modelo relativamente simples, oque pode ser ruim por não conseguir uma boa performance em problemas mais complexos, por outro lado sua vantagem é ser de fácil explicação.\n",
        "\n",
        "## Regressão Linear\n",
        "Com um modelo de regressão linear é um metodo estatístico usado para prever a relação entre duas variáveis. Queremos prever o quanto de alteração da variável dependente ou preditora ```X``` influencia no valor da variável independente ou de resposta```Y```\n",
        "\n",
        "##Equação\n",
        "Um modelo de regressão linear é composto pela seguinte equação:\n",
        "\n",
        "$ \\hat{y}_i = \\beta_0 + \\beta_1*x_i +ϵ $\n",
        "\n",
        "\n",
        "* $\\hat{y}_i$: Valor que vamos prever. A variável dependente\n",
        "* $x_i$: váriavel de entrada / independente\n",
        "* $\\beta_0$: *intercept*, é ponto que corta o eixo y quando x=0.\n",
        "* $\\beta_1$: coeficiente angular, define a angulação da reta. Quanto mais inclinada maior a influencia que a alteração de $x_i$  provoca em $\\hat{y}_1$.\n",
        "*  $ϵ$: Valor inerente a variabilidade dos dados e segue uma distribuição gaussiana com média 0.\n",
        "\n",
        "Usando a regressão linear nos buscamos encontrar a linha que melhor se \"ajusta\" aos nossos dados. Essa linha é conhecida como regressão dos minimos quadrados, pois ela se propõe a reduzir ao máximo o quadrado dos erros, que são a diferença entre o valor predito $\\hat{y}$ e o valor real ${y}$.\n",
        "\n",
        "A linha tenta reduzir o quadrado dos erros pois a soma dos erros deve ser 0.\n",
        "\n",
        "Básicamente o modelo  inicia com valores aleatórios para a reta e calcula o *MSE*. Então ele busca por alterações que  diminuam este erro. Atualmente os modelos mais populares são implementados com otimizações para agilizar esta etapa. Quando o modelo atinge o menor valor de erro,logo ele terá os melhores  $\\beta_0$ e  $\\beta_1$. \n",
        "\n"
      ],
      "metadata": {
        "id": "SiLyUN1jIOM8"
      }
    },
    {
      "cell_type": "code",
      "source": [
        "#Criando o modelo\n",
        "from sklearn.linear_model import LinearRegression\n",
        "linr = LinearRegression()\n",
        "linr.fit(X=df[[\"Year\"]],y=df[[\"GMSL (mm)\"]])"
      ],
      "metadata": {
        "id": "0hIBSqEEACiT",
        "colab": {
          "base_uri": "https://localhost:8080/"
        },
        "outputId": "51a7096d-9bba-475d-d67b-cb2fad538cd4"
      },
      "execution_count": 38,
      "outputs": [
        {
          "output_type": "execute_result",
          "data": {
            "text/plain": [
              "LinearRegression()"
            ]
          },
          "metadata": {},
          "execution_count": 38
        }
      ]
    },
    {
      "cell_type": "markdown",
      "source": [
        "Vamos usar a biblioteca ```LinearRegression``` do Scikitlearn realiza os passos descritos anteriormente para chegar aos valores do coeficiente angular e do intercept que minimizam os erros."
      ],
      "metadata": {
        "id": "Z3kR1mxmcvTx"
      }
    },
    {
      "cell_type": "markdown",
      "source": [
        "Com o methodo `coef_ `a biblioteca nos retornar o coeficiente angular $\\beta_1$. "
      ],
      "metadata": {
        "id": "E3Dgzh9Lpsiz"
      }
    },
    {
      "cell_type": "code",
      "source": [
        "#coef angular / slope\n",
        "linr.coef_[0]"
      ],
      "metadata": {
        "id": "8FYtT6S6Ge_P",
        "colab": {
          "base_uri": "https://localhost:8080/"
        },
        "outputId": "67b1c65e-28d2-4018-8763-a598cdc69b38"
      },
      "execution_count": 39,
      "outputs": [
        {
          "output_type": "execute_result",
          "data": {
            "text/plain": [
              "array([1.53779759])"
            ]
          },
          "metadata": {},
          "execution_count": 39
        }
      ]
    },
    {
      "cell_type": "markdown",
      "source": [
        "Com o methodo `intercept` a biblioteca nos retornar o intercept $\\beta_0$. "
      ],
      "metadata": {
        "id": "MCu8g5qXqBMn"
      }
    },
    {
      "cell_type": "code",
      "source": [
        "#intercept\n",
        "linr.intercept_[0]"
      ],
      "metadata": {
        "id": "85wKbogdGrOD",
        "colab": {
          "base_uri": "https://localhost:8080/"
        },
        "outputId": "2fd1676f-9a67-4b19-8dd4-584dd2371408"
      },
      "execution_count": 40,
      "outputs": [
        {
          "output_type": "execute_result",
          "data": {
            "text/plain": [
              "-3059.19742124022"
            ]
          },
          "metadata": {},
          "execution_count": 40
        }
      ]
    },
    {
      "cell_type": "markdown",
      "source": [
        "De posse dos valores do intercept $\\beta_0$ e do coeficiente angular $\\beta_1$, que são valores constantes para todas as observações.\n",
        "Podemos realizar a plotagem da reta. Mas primeiro vamos criar uma funcao parar calcular a reta."
      ],
      "metadata": {
        "id": "RL-2ppPWr72E"
      }
    },
    {
      "cell_type": "markdown",
      "source": [
        "Lembrando a equação da reta:\n",
        "\n",
        "$ \\hat{y}_i = \\beta_0 + \\beta_1*x_i$\n",
        "\n",
        "Que no nosso problema se traduz em\n",
        "\n",
        "Nível previsto do Mar = intercept+ (slope* Ano)"
      ],
      "metadata": {
        "id": "jrNrlWcFtKpF"
      }
    },
    {
      "cell_type": "code",
      "source": [
        "#criando uma funcao para calcular a reta\n",
        "def Regression(intercept,slope,X):\n",
        "  \"\"\"\n",
        "  Retorna a reta de uma regressão linear de acordo com os valores da função\n",
        "  \"\"\"\n",
        "\n",
        "  return intercept + ( slope * X ).values"
      ],
      "metadata": {
        "id": "xZ5JCGiYAuCw"
      },
      "execution_count": 41,
      "outputs": []
    },
    {
      "cell_type": "code",
      "source": [
        "#plotagem com a regressão\n",
        "fig, axs = plt.subplots(figsize=(10,5))\n",
        "plt.scatter(x=df[\"Year\"],y=df[\"GMSL (mm)\"])\n",
        "plt.plot(df[\"Year\"], Regression(linr.intercept_,linr.coef_,df[[\"Year\"]]), c=\"m\", label = \"Reg.Lin \")\n",
        "\n",
        "#legendas\n",
        "plt.title(\"Previsão de variação do nivel do mar\")\n",
        "axs.set_xlabel(\"ANO\")\n",
        "axs.set_ylabel(\"Nivel do mar comparado com 1990\")\n",
        "plt.legend()\n",
        "\n",
        "plt.savefig(\"reglin_ate09\")"
      ],
      "metadata": {
        "id": "plP21Z8VsNJR",
        "colab": {
          "base_uri": "https://localhost:8080/",
          "height": 350
        },
        "outputId": "d462ecaf-d1b3-4a6a-81c9-785fc064b18d"
      },
      "execution_count": 42,
      "outputs": [
        {
          "output_type": "display_data",
          "data": {
            "text/plain": [
              "<Figure size 720x360 with 1 Axes>"
            ],
            "image/png": "[encoded data removed]"
          },
          "metadata": {
            "needs_background": "light"
          }
        }
      ]
    },
    {
      "cell_type": "markdown",
      "source": [
        "## Métricas de acertividade do modelo\n",
        "Para saber o quão bom o nosso modelo foi ajustado existem algumas métricas que nos permitem uma maior precisão para avaliação do desempenho do modelo e comparação com outros modelos. Vamos utilizar para avaliar nosso modelo o R² e do *MSE*\n",
        "\n",
        "### R-squared (R²) / Coeficiente de Determinação\n",
        "\n",
        "É uma métrica de correlação que tem duas vantagens: é fácil de calcular e fácil de interpretar. \n",
        "\n",
        "Demonstra proporcionalmente o quanto da variação na variável resposta $y$ pode ser explicada pelas  variações das variáveis de entrada $x$ no modelo. Sempre será um valor entre 0 e 1, quanto mais próximo de 1 melhor. E pode ser interpretado como uma porcentagem.\n",
        "\n",
        "É definido com a equação:\n",
        "\n",
        "$R^2 = \\frac{var(média) - var(modelo)}{var(média)} = 1 - \\frac{var(modelo)}{var(média)}$\n",
        "\n",
        "* var = Variância"
      ],
      "metadata": {
        "id": "3cU5gCm2MnPo"
      }
    },
    {
      "cell_type": "code",
      "source": [
        "from sklearn.metrics import r2_score\n",
        "r2_score(y_true=df[\"GMSL (mm)\"],y_pred=Regression(linr.intercept_,linr.coef_,df[[\"Year\"]]))"
      ],
      "metadata": {
        "id": "Fw_P6Yv5s0fj",
        "colab": {
          "base_uri": "https://localhost:8080/"
        },
        "outputId": "7ddcb7f0-240e-457f-e3e2-e6ec10206e5d"
      },
      "execution_count": 43,
      "outputs": [
        {
          "output_type": "execute_result",
          "data": {
            "text/plain": [
              "0.9783145840719917"
            ]
          },
          "metadata": {},
          "execution_count": 43
        }
      ]
    },
    {
      "cell_type": "markdown",
      "source": [
        "O modelo é capaz de explicar 96% da variância em torno dele."
      ],
      "metadata": {
        "id": "OWYM5rS7Jg-9"
      }
    },
    {
      "cell_type": "markdown",
      "source": [
        "### Erro Médio Quadrático / mean Squared Error (*MSE*)\n",
        "As medidas de erro são usadas para fins comparativos com outros modelos e para ter uma ideia de o quão aceitável está a saída do nosso modelo.\n",
        "\n",
        "\n",
        "O *MSE* nos diz média do quadrado da diferença entre os valores preditos pela reta e o valor real. bQuanto MENOR o valor da métrica de erro, melhor ajustado está o nosso modelo.\n",
        "\n",
        "Equação\n",
        "\n",
        "$MSE = \\frac{1}{n} \\sum(y - \\hat{y})^2$\n",
        "\n",
        "* $y$: valor real a ser previsto\n",
        "* $\\hat{y}$: valor estimado pelo modelo\n",
        "* $n$: número de pontos\n"
      ],
      "metadata": {
        "id": "gvC3UEZYKJTc"
      }
    },
    {
      "cell_type": "code",
      "source": [
        "from sklearn.metrics import mean_squared_error\n",
        "mean_squared_error(df[\"GMSL (mm)\"], Regression(linr.intercept_,linr.coef_,df[[\"Year\"]]))"
      ],
      "metadata": {
        "id": "kpd-fiAvs5EW",
        "colab": {
          "base_uri": "https://localhost:8080/"
        },
        "outputId": "cb27311c-f37d-478a-b7e6-f80ff75d6a2b"
      },
      "execution_count": 44,
      "outputs": [
        {
          "output_type": "execute_result",
          "data": {
            "text/plain": [
              "73.81886146030848"
            ]
          },
          "metadata": {},
          "execution_count": 44
        }
      ]
    },
    {
      "cell_type": "markdown",
      "source": [
        "Dado as métricas de avaliação do nosso modelo, observamos que estamos com um modelo bem ajustado"
      ],
      "metadata": {
        "id": "dbGKgo-aNJQB"
      }
    },
    {
      "cell_type": "markdown",
      "source": [
        "##Extendendo a linha até 2050"
      ],
      "metadata": {
        "id": "exWoPloGs_8s"
      }
    },
    {
      "cell_type": "markdown",
      "source": [
        "Agora que temos um modelo bem definido, vamos  extender nossa janela temporal para criar uma previsão da alteração do nivel do mar até 2050."
      ],
      "metadata": {
        "id": "TzCQ1ICSMz9t"
      }
    },
    {
      "cell_type": "code",
      "source": [
        "#extend year\n",
        "X_extendido = np.arange(df[\"Year\"].min(), 2051)\n",
        "pd.DataFrame(X_extendido)[[0]]"
      ],
      "metadata": {
        "id": "XTy7y6-tGLaU",
        "colab": {
          "base_uri": "https://localhost:8080/",
          "height": 424
        },
        "outputId": "411156f6-2f92-42be-a7b3-c49b9a7467d9"
      },
      "execution_count": 45,
      "outputs": [
        {
          "output_type": "execute_result",
          "data": {
            "text/plain": [
              "        0\n",
              "0    1880\n",
              "1    1881\n",
              "2    1882\n",
              "3    1883\n",
              "4    1884\n",
              "..    ...\n",
              "166  2046\n",
              "167  2047\n",
              "168  2048\n",
              "169  2049\n",
              "170  2050\n",
              "\n",
              "[171 rows x 1 columns]"
            ],
            "text/html": [
              "\n",
              "  <div id=\"df-82842066-597b-48cc-97c4-5cb62c06fd75\">\n",
              "    <div class=\"colab-df-container\">\n",
              "      <div>\n",
              "<style scoped>\n",
              "    .dataframe tbody tr th:only-of-type {\n",
              "        vertical-align: middle;\n",
              "    }\n",
              "\n",
              "    .dataframe tbody tr th {\n",
              "        vertical-align: top;\n",
              "    }\n",
              "\n",
              "    .dataframe thead th {\n",
              "        text-align: right;\n",
              "    }\n",
              "</style>\n",
              "<table border=\"1\" class=\"dataframe\">\n",
              "  <thead>\n",
              "    <tr style=\"text-align: right;\">\n",
              "      <th></th>\n",
              "      <th>0</th>\n",
              "    </tr>\n",
              "  </thead>\n",
              "  <tbody>\n",
              "    <tr>\n",
              "      <th>0</th>\n",
              "      <td>1880</td>\n",
              "    </tr>\n",
              "    <tr>\n",
              "      <th>1</th>\n",
              "      <td>1881</td>\n",
              "    </tr>\n",
              "    <tr>\n",
              "      <th>2</th>\n",
              "      <td>1882</td>\n",
              "    </tr>\n",
              "    <tr>\n",
              "      <th>3</th>\n",
              "      <td>1883</td>\n",
              "    </tr>\n",
              "    <tr>\n",
              "      <th>4</th>\n",
              "      <td>1884</td>\n",
              "    </tr>\n",
              "    <tr>\n",
              "      <th>...</th>\n",
              "      <td>...</td>\n",
              "    </tr>\n",
              "    <tr>\n",
              "      <th>166</th>\n",
              "      <td>2046</td>\n",
              "    </tr>\n",
              "    <tr>\n",
              "      <th>167</th>\n",
              "      <td>2047</td>\n",
              "    </tr>\n",
              "    <tr>\n",
              "      <th>168</th>\n",
              "      <td>2048</td>\n",
              "    </tr>\n",
              "    <tr>\n",
              "      <th>169</th>\n",
              "      <td>2049</td>\n",
              "    </tr>\n",
              "    <tr>\n",
              "      <th>170</th>\n",
              "      <td>2050</td>\n",
              "    </tr>\n",
              "  </tbody>\n",
              "</table>\n",
              "<p>171 rows × 1 columns</p>\n",
              "</div>\n",
              "      <button class=\"colab-df-convert\" onclick=\"convertToInteractive('df-82842066-597b-48cc-97c4-5cb62c06fd75')\"\n",
              "              title=\"Convert this dataframe to an interactive table.\"\n",
              "              style=\"display:none;\">\n",
              "        \n",
              "  <svg xmlns=\"http://www.w3.org/2000/svg\" height=\"24px\"viewBox=\"0 0 24 24\"\n",
              "       width=\"24px\">\n",
              "    <path d=\"M0 0h24v24H0V0z\" fill=\"none\"/>\n",
              "    <path d=\"M18.56 5.44l.94 2.06.94-2.06 2.06-.94-2.06-.94-.94-2.06-.94 2.06-2.06.94zm-11 1L8.5 8.5l.94-2.06 2.06-.94-2.06-.94L8.5 2.5l-.94 2.06-2.06.94zm10 10l.94 2.06.94-2.06 2.06-.94-2.06-.94-.94-2.06-.94 2.06-2.06.94z\"/><path d=\"M17.41 7.96l-1.37-1.37c-.4-.4-.92-.59-1.43-.59-.52 0-1.04.2-1.43.59L10.3 9.45l-7.72 7.72c-.78.78-.78 2.05 0 2.83L4 21.41c.39.39.9.59 1.41.59.51 0 1.02-.2 1.41-.59l7.78-7.78 2.81-2.81c.8-.78.8-2.07 0-2.86zM5.41 20L4 18.59l7.72-7.72 1.47 1.35L5.41 20z\"/>\n",
              "  </svg>\n",
              "      </button>\n",
              "      \n",
              "  <style>\n",
              "    .colab-df-container {\n",
              "      display:flex;\n",
              "      flex-wrap:wrap;\n",
              "      gap: 12px;\n",
              "    }\n",
              "\n",
              "    .colab-df-convert {\n",
              "      background-color: #E8F0FE;\n",
              "      border: none;\n",
              "      border-radius: 50%;\n",
              "      cursor: pointer;\n",
              "      display: none;\n",
              "      fill: #1967D2;\n",
              "      height: 32px;\n",
              "      padding: 0 0 0 0;\n",
              "      width: 32px;\n",
              "    }\n",
              "\n",
              "    .colab-df-convert:hover {\n",
              "      background-color: #E2EBFA;\n",
              "      box-shadow: 0px 1px 2px rgba(60, 64, 67, 0.3), 0px 1px 3px 1px rgba(60, 64, 67, 0.15);\n",
              "      fill: #174EA6;\n",
              "    }\n",
              "\n",
              "    [theme=dark] .colab-df-convert {\n",
              "      background-color: #3B4455;\n",
              "      fill: #D2E3FC;\n",
              "    }\n",
              "\n",
              "    [theme=dark] .colab-df-convert:hover {\n",
              "      background-color: #434B5C;\n",
              "      box-shadow: 0px 1px 3px 1px rgba(0, 0, 0, 0.15);\n",
              "      filter: drop-shadow(0px 1px 2px rgba(0, 0, 0, 0.3));\n",
              "      fill: #FFFFFF;\n",
              "    }\n",
              "  </style>\n",
              "\n",
              "      <script>\n",
              "        const buttonEl =\n",
              "          document.querySelector('#df-82842066-597b-48cc-97c4-5cb62c06fd75 button.colab-df-convert');\n",
              "        buttonEl.style.display =\n",
              "          google.colab.kernel.accessAllowed ? 'block' : 'none';\n",
              "\n",
              "        async function convertToInteractive(key) {\n",
              "          const element = document.querySelector('#df-82842066-597b-48cc-97c4-5cb62c06fd75');\n",
              "          const dataTable =\n",
              "            await google.colab.kernel.invokeFunction('convertToInteractive',\n",
              "                                                     [key], {});\n",
              "          if (!dataTable) return;\n",
              "\n",
              "          const docLinkHtml = 'Like what you see? Visit the ' +\n",
              "            '<a target=\"_blank\" href=https://colab.research.google.com/notebooks/data_table.ipynb>data table notebook</a>'\n",
              "            + ' to learn more about interactive tables.';\n",
              "          element.innerHTML = '';\n",
              "          dataTable['output_type'] = 'display_data';\n",
              "          await google.colab.output.renderOutput(dataTable, element);\n",
              "          const docLink = document.createElement('div');\n",
              "          docLink.innerHTML = docLinkHtml;\n",
              "          element.appendChild(docLink);\n",
              "        }\n",
              "      </script>\n",
              "    </div>\n",
              "  </div>\n",
              "  "
            ]
          },
          "metadata": {},
          "execution_count": 45
        }
      ]
    },
    {
      "cell_type": "code",
      "source": [
        "#plotagem com a regressão\n",
        "fig, axs = plt.subplots(figsize=(10,5))\n",
        "plt.scatter(x=df[\"Year\"],y=df[\"GMSL (mm)\"])\n",
        "plt.plot(X_extendido, Regression(linr.intercept_,linr.coef_,pd.DataFrame(X_extendido)), c=\"m\",label=\"Reg.Lin até 2050\")\n",
        "\n",
        "#legendas\n",
        "plt.title(\"Previsão de variação do nivel do mar\")\n",
        "axs.set_xlabel(\"ANO\")\n",
        "axs.set_ylabel(\"Nivel do mar comparado com 1990\")\n",
        "plt.savefig(\"reglin_ate50\")\n",
        "plt.legend()"
      ],
      "metadata": {
        "id": "ywgfJiqUGU51",
        "colab": {
          "base_uri": "https://localhost:8080/",
          "height": 367
        },
        "outputId": "b32889a1-30a3-44bc-ae1e-4296f9e8a73f"
      },
      "execution_count": 46,
      "outputs": [
        {
          "output_type": "execute_result",
          "data": {
            "text/plain": [
              "<matplotlib.legend.Legend at 0x7fddaea51610>"
            ]
          },
          "metadata": {},
          "execution_count": 46
        },
        {
          "output_type": "display_data",
          "data": {
            "text/plain": [
              "<Figure size 720x360 with 1 Axes>"
            ],
            "image/png": "[encoded data removed]"
          },
          "metadata": {
            "needs_background": "light"
          }
        }
      ]
    },
    {
      "cell_type": "code",
      "source": [
        "#Valor predito em 2050\n",
        "Regression(linr.intercept_,linr.coef_,df[[\"Year\"]])[-1]"
      ],
      "metadata": {
        "id": "NlrVdm5zQiox",
        "colab": {
          "base_uri": "https://localhost:8080/"
        },
        "outputId": "ab9924f1-b8a2-4f01-ad39-a511c37a83f0"
      },
      "execution_count": 47,
      "outputs": [
        {
          "output_type": "execute_result",
          "data": {
            "text/plain": [
              "array([30.2379448])"
            ]
          },
          "metadata": {},
          "execution_count": 47
        }
      ]
    },
    {
      "cell_type": "markdown",
      "source": [
        "## Prevendo com dados de 2000 até 2009"
      ],
      "metadata": {
        "id": "O3m6eJSmKxTm"
      }
    },
    {
      "cell_type": "markdown",
      "source": [
        "No gráfico acima percebe-se que ocorre um crescimento mais acentuado dos valores por volta do ano 2000. Vamos criar um novo modelo somente com os dados de 2000 até 2009 para podermos observar melhor o impacto que esta alteração pode causar até 2050."
      ],
      "metadata": {
        "id": "ayE5bVq2NUCd"
      }
    },
    {
      "cell_type": "code",
      "source": [
        "#dataset e modelo\n",
        "df2k = df[df[\"Year\"]>=2000]\n",
        "\n",
        "linr2k = LinearRegression()\n",
        "linr2k.fit(X=df2k[[\"Year\"]],y=df2k[[\"GMSL (mm)\"]])\n",
        "\n",
        "#extend ano\n",
        "X_extendido2k = np.arange(df2k.Year.min(), 2051 )"
      ],
      "metadata": {
        "id": "zT_uDOfhKUbP"
      },
      "execution_count": 48,
      "outputs": []
    },
    {
      "cell_type": "markdown",
      "source": [
        "falar dos coeficientes e que ja era esperado um aumento do slope"
      ],
      "metadata": {
        "id": "8OwJR_DFOE4Z"
      }
    },
    {
      "cell_type": "code",
      "source": [
        "linr2k.coef_"
      ],
      "metadata": {
        "id": "nL85nj4NNpWK",
        "colab": {
          "base_uri": "https://localhost:8080/"
        },
        "outputId": "dd0aa6c6-03a8-4f3c-d33a-9fb3a515a3f8"
      },
      "execution_count": 49,
      "outputs": [
        {
          "output_type": "execute_result",
          "data": {
            "text/plain": [
              "array([[3.12424242]])"
            ]
          },
          "metadata": {},
          "execution_count": 49
        }
      ]
    },
    {
      "cell_type": "markdown",
      "source": [
        "Podemos observar que o valor encontrado no nosso modelo de 2000 até 2009 possui um valor para o coeficiente angular ```coef_``` de ```3.12```, mais que o dobro do `coef_` do modelo anterior de ```1.53```.\n",
        "Oque já era esperado, pois foi observado um aumento da inclinação dos pontos observados. Uma menor variação no eixo X Ano, causou uma maior variação no eixo Y Variação do nível do mar "
      ],
      "metadata": {
        "id": "7ZDnFnlaN6W8"
      }
    },
    {
      "cell_type": "markdown",
      "source": [
        "Vamos plotar esses dados para observar a diferença"
      ],
      "metadata": {
        "id": "wPTMot6-OqXV"
      }
    },
    {
      "cell_type": "code",
      "source": [
        "#plotando o gráfico com as duas linhas\n",
        "fig, axs = plt.subplots(figsize=(10,5))\n",
        "plt.scatter(x=df[\"Year\"],y=df[\"GMSL (mm)\"])\n",
        "plt.plot(X_extendido, Regression(linr.intercept_,linr.coef_,pd.DataFrame(X_extendido)), c=\"m\",label=\"Reg.Lin 1880 até 2050\")\n",
        "\n",
        "plt.plot(X_extendido2k, Regression(linr2k.intercept_,linr2k.coef_,pd.DataFrame(X_extendido2k)), c=\"r\", label=\"Reg.Lin 2000 até 2050\")\n",
        "\n",
        "#legendas\n",
        "plt.title(\"Previsão de variação do nivel do mar\")\n",
        "axs.set_xlabel(\"ANO\")\n",
        "axs.set_ylabel(\"Nivel do mar comparado com 1990\")\n",
        "plt.legend()\n",
        "plt.savefig(\"reglin_2modelos\")"
      ],
      "metadata": {
        "id": "4b1yqrpwWIzH",
        "colab": {
          "base_uri": "https://localhost:8080/",
          "height": 350
        },
        "outputId": "1c849605-3ca2-453f-adec-affd2c661a50"
      },
      "execution_count": 50,
      "outputs": [
        {
          "output_type": "display_data",
          "data": {
            "text/plain": [
              "<Figure size 720x360 with 1 Axes>"
            ],
            "image/png": "[encoded data removed]"
          },
          "metadata": {
            "needs_background": "light"
          }
        }
      ]
    },
    {
      "cell_type": "code",
      "source": [
        "#Valor predito em 2000 até 2050\n",
        "Regression(linr2k.intercept_,linr2k.coef_,pd.DataFrame(X_extendido2k))[-1]"
      ],
      "metadata": {
        "id": "WGJKzDkYQovv",
        "colab": {
          "base_uri": "https://localhost:8080/"
        },
        "outputId": "fea3bc16-ca7f-48bf-8213-7a2c045a7b10"
      },
      "execution_count": 51,
      "outputs": [
        {
          "output_type": "execute_result",
          "data": {
            "text/plain": [
              "array([178.0230303])"
            ]
          },
          "metadata": {},
          "execution_count": 51
        }
      ]
    },
    {
      "cell_type": "code",
      "source": [
        "#Valor predito em 1880 até 2050\n",
        "Regression(linr.intercept_,linr.coef_,pd.DataFrame(X_extendido))[-1]"
      ],
      "metadata": {
        "colab": {
          "base_uri": "https://localhost:8080/"
        },
        "id": "7wKpUfpMqal2",
        "outputId": "eddf8988-fbaa-4de7-d73b-9176f2e9e9a1"
      },
      "execution_count": 52,
      "outputs": [
        {
          "output_type": "execute_result",
          "data": {
            "text/plain": [
              "array([93.28764615])"
            ]
          },
          "metadata": {},
          "execution_count": 52
        }
      ]
    },
    {
      "cell_type": "code",
      "source": [
        "178-93"
      ],
      "metadata": {
        "colab": {
          "base_uri": "https://localhost:8080/"
        },
        "id": "0lNA54-6q-ZM",
        "outputId": "6cae65ca-f594-43b2-9db8-c284db96df19"
      },
      "execution_count": 53,
      "outputs": [
        {
          "output_type": "execute_result",
          "data": {
            "text/plain": [
              "85"
            ]
          },
          "metadata": {},
          "execution_count": 53
        }
      ]
    }
  ]
}