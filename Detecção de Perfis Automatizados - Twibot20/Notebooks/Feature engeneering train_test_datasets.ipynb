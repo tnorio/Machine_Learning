{
  "nbformat": 4,
  "nbformat_minor": 0,
  "metadata": {
    "colab": {
      "name": "train/test datasets twibot-20_ MT.ipynb",
      "provenance": [],
      "collapsed_sections": [
        "9T84RW6zxboY"
      ]
    },
    "kernelspec": {
      "name": "python3",
      "display_name": "Python 3"
    },
    "language_info": {
      "name": "python"
    }
  },
  "cells": [
    {
      "cell_type": "code",
      "source": [
        "from google.colab import drive\n",
        "drive.mount('/content/drive')"
      ],
      "metadata": {
        "colab": {
          "base_uri": "https://localhost:8080/"
        },
        "id": "TkGivvh8MYQ5",
        "outputId": "a29604bb-b843-4b19-cc6d-9214dcb919f0"
      },
      "execution_count": 5,
      "outputs": [
        {
          "output_type": "stream",
          "name": "stdout",
          "text": [
            "Mounted at /content/drive\n"
          ]
        }
      ]
    },
    {
      "cell_type": "code",
      "source": [
        "import pandas as pd\n",
        "import matplotlib.pyplot as plt\n",
        "import seaborn as sns"
      ],
      "metadata": {
        "id": "8w2bn-8D_tFU"
      },
      "execution_count": 6,
      "outputs": []
    },
    {
      "cell_type": "code",
      "execution_count": 7,
      "metadata": {
        "id": "8z9MmxFm_Ref"
      },
      "outputs": [],
      "source": [
        "DF_TRAIN = pd.read_json(\"/content/drive/MyDrive/Colab Notebooks/PI/Twibot-20/train.json\")\n",
        "DF_TEST = pd.read_json(\"/content/drive/MyDrive/Colab Notebooks/PI/Twibot-20/test.json\")"
      ]
    },
    {
      "cell_type": "code",
      "source": [
        "plt.figure(figsize=(8,5))\n",
        "g = sns.countplot(data=DF_TEST,x=\"label\",hue=\"label\")\n",
        "g.set_title(\"Quantidade Bots e Humanos \\n teste\")\n",
        "plt.legend(loc='upper left', labels=['Bot', 'humano'])\n",
        "for p in g.patches:\n",
        "    g.annotate(f'\\n{p.get_height()}', (p.get_x()+0.2, p.get_height()), ha='center', va='top', color='white', size=18)\n",
        "plt.show(g)"
      ],
      "metadata": {
        "colab": {
          "base_uri": "https://localhost:8080/",
          "height": 365
        },
        "id": "j7Pnq0Px5IQd",
        "outputId": "d6a5f33e-ad15-4b60-bbde-10f20ea564c3"
      },
      "execution_count": null,
      "outputs": [
        {
          "output_type": "display_data",
          "data": {
            "text/plain": [
              "<Figure size 576x360 with 1 Axes>"
            ],
            "image/png": "[encoded data removed]"
          },
          "metadata": {
            "needs_background": "light"
          }
        }
      ]
    },
    {
      "cell_type": "code",
      "source": [
        "plt.figure(figsize=(8,5))\n",
        "g = sns.countplot(data=DF_TRAIN,x=\"label\",hue=\"label\")\n",
        "g.set_title(\"Quantidade Bots e Humanos \\n treino\")\n",
        "plt.legend(loc='upper left', labels=['Bot', 'humano'])\n",
        "for p in g.patches:\n",
        "    g.annotate(f'\\n{p.get_height()}', (p.get_x()+0.2, p.get_height()), ha='center', va='top', color='white', size=18)\n",
        "plt.show(g)"
      ],
      "metadata": {
        "colab": {
          "base_uri": "https://localhost:8080/",
          "height": 365
        },
        "id": "3PaTn_bwzVK7",
        "outputId": "10fc99b6-a264-4b55-d4f7-8efb9bb17295"
      },
      "execution_count": 9,
      "outputs": [
        {
          "output_type": "display_data",
          "data": {
            "text/plain": [
              "<Figure size 576x360 with 1 Axes>"
            ],
            "image/png": "[encoded data removed]"
          },
          "metadata": {
            "needs_background": "light"
          }
        }
      ]
    },
    {
      "cell_type": "markdown",
      "source": [
        "# Manipulação dataset Twibot-20\n",
        "Readme\n",
        "```\n",
        "['This dataset, named Twibot-20, is a comprehensive sample of the Twittersphere.\n",
        " 'This dataset focuses on bot detection on Twitter.',\n",
        " \n",
        " 'The datasets are released under MIT(https://github.com/GabrielHam/TwiBot-20/blob/main/LICENSE)',\n",
        "\n",
        "\n",
        " 'The train, validation, test and support set are provided in .json format.\\n',\n",
        "\n",
        " 'The user in support set provides the neighborhood information.\\n',\n",
        "\n",
        " 'Each user sample contains:,\n",
        "\n",
        " \"- 'ID': the ID from Twitter identifying the user.\\n\",\n",
        " \"- 'profile': the profile information obtained from Twitter API.\\n\",\n",
        " \"- 'tweet': the recent 200 tweets of this user.\\n\",\n",
        " \"- 'neighbor': the random 20 followers and followings of this user.\\n\",\n",
        " \"- 'domain': the domain of this user and the domains include politics, business, entertainment and sports.\\n\",\n",
        " \"- 'label': the label of this user and '1' means it is a bot while '0' means it is a human.\"]\n",
        "\n",
        "\n",
        "```\n",
        "\n"
      ],
      "metadata": {
        "id": "mQ8Czmaa_WnV"
      }
    },
    {
      "cell_type": "code",
      "source": [
        "with open(\"/content/drive/MyDrive/Colab Notebooks/PI/Twibot-20/README.txt\",\"r\") as readme:\n",
        "  readme = readme.readlines()"
      ],
      "metadata": {
        "id": "1yq9uQqSA_zs"
      },
      "execution_count": null,
      "outputs": []
    },
    {
      "cell_type": "code",
      "source": [
        "readme"
      ],
      "metadata": {
        "colab": {
          "base_uri": "https://localhost:8080/"
        },
        "id": "K2KuhOqmBEZx",
        "outputId": "ba453982-dc0b-46d8-f4d1-17da99813cfc"
      },
      "execution_count": null,
      "outputs": [
        {
          "output_type": "execute_result",
          "data": {
            "text/plain": [
              "['This dataset, named Twibot-20, is a comprehensive sample of the Twittersphere.\\n',\n",
              " '\\n',\n",
              " 'This dataset focuses on bot detection on Twitter.\\n',\n",
              " '\\n',\n",
              " 'The datasets are released under MIT(https://github.com/GabrielHam/TwiBot-20/blob/main/LICENSE)\\n',\n",
              " '\\n',\n",
              " 'The train, validation, test and support set are provided in .json format.\\n',\n",
              " '\\n',\n",
              " 'The user in support set provides the neighborhood information.\\n',\n",
              " '\\n',\n",
              " 'Each user sample contains:\\n',\n",
              " \"- 'ID': the ID from Twitter identifying the user.\\n\",\n",
              " \"- 'profile': the profile information obtained from Twitter API.\\n\",\n",
              " \"- 'tweet': the recent 200 tweets of this user.\\n\",\n",
              " \"- 'neighbor': the random 20 followers and followings of this user.\\n\",\n",
              " \"- 'domain': the domain of this user and the domains include politics, business, entertainment and sports.\\n\",\n",
              " \"- 'label': the label of this user and '1' means it is a bot while '0' means it is a human.\"]"
            ]
          },
          "metadata": {},
          "execution_count": 509
        }
      ]
    },
    {
      "cell_type": "markdown",
      "source": [
        "label 0 = humano\n",
        "label 1 = bot"
      ],
      "metadata": {
        "id": "-TVtuCtEJACK"
      }
    },
    {
      "cell_type": "code",
      "source": [
        "df_train = DF_TRAIN.copy()\n",
        "df_test=DF_TEST.copy()"
      ],
      "metadata": {
        "id": "cZdmWfQ-ql1F"
      },
      "execution_count": null,
      "outputs": []
    },
    {
      "cell_type": "markdown",
      "source": [
        "# Feature engeneering"
      ],
      "metadata": {
        "id": "R8cZyCaR2tmy"
      }
    },
    {
      "cell_type": "markdown",
      "source": [
        "### Train"
      ],
      "metadata": {
        "id": "Q3e9J3vKxX5E"
      }
    },
    {
      "cell_type": "markdown",
      "source": [
        "Desdobrando a coluna profile"
      ],
      "metadata": {
        "id": "7aWy15tvhAxE"
      }
    },
    {
      "cell_type": "code",
      "source": [
        "infos = {}\n",
        "df_profile = pd.DataFrame()\n",
        "for linha in df_train[\"profile\"]:\n",
        "    for key in linha.keys():\n",
        "      infos[key] = linha.get(key)\n",
        "    df_profile = df_profile.append(infos,ignore_index=True)"
      ],
      "metadata": {
        "id": "ROPNyNhSZjLh"
      },
      "execution_count": null,
      "outputs": []
    },
    {
      "cell_type": "code",
      "source": [
        "df_profile.head(3)"
      ],
      "metadata": {
        "id": "Md7xCYoUek6k",
        "colab": {
          "base_uri": "https://localhost:8080/"
        },
        "outputId": "9ea26d77-285f-45c0-8903-b6a059ca3b40"
      },
      "execution_count": null,
      "outputs": [
        {
          "output_type": "execute_result",
          "data": {
            "text/plain": [
              "                     id                id_str               name  \\\n",
              "0             17461978              17461978               SHAQ    \n",
              "1  1297437077403885568   1297437077403885568   Jennifer Fishpaw    \n",
              "2             17685258              17685258      Brad Parscale    \n",
              "\n",
              "        screen_name      location  \\\n",
              "0             SHAQ   Orlando, FL    \n",
              "1  JenniferFishpaw                  \n",
              "2         parscale       Florida    \n",
              "\n",
              "                                    profile_location  \\\n",
              "0  {'id': '55b4f9e5c516e0b6', 'url': 'https://api...   \n",
              "1                                              None    \n",
              "2                                              None    \n",
              "\n",
              "                                         description  \\\n",
              "0  VERY QUOTATIOUS, I PERFORM RANDOM ACTS OF SHAQ...   \n",
              "1                                                      \n",
              "2  Owner @ Parscale Strategy. Senior Advisor Digi...   \n",
              "\n",
              "                        url  \\\n",
              "0  https://t.co/7hsiK8cCKW    \n",
              "1                     None    \n",
              "2  https://t.co/GooZcYDqFg    \n",
              "\n",
              "                                            entities protected  ...  \\\n",
              "0  {'url': {'urls': [{'url': 'https://t.co/7hsiK8...    False   ...   \n",
              "1                     {'description': {'urls': []}}     False   ...   \n",
              "2  {'url': {'urls': [{'url': 'https://t.co/GooZcY...    False   ...   \n",
              "\n",
              "                                   profile_image_url  \\\n",
              "0  http://pbs.twimg.com/profile_images/1673907275...   \n",
              "1  http://pbs.twimg.com/profile_images/1297437406...   \n",
              "2  http://pbs.twimg.com/profile_images/1295453225...   \n",
              "\n",
              "                             profile_image_url_https profile_link_color  \\\n",
              "0  https://pbs.twimg.com/profile_images/167390727...            2FC2EF    \n",
              "1  https://pbs.twimg.com/profile_images/129743740...            1DA1F2    \n",
              "2  https://pbs.twimg.com/profile_images/129545322...            AB2316    \n",
              "\n",
              "  profile_sidebar_border_color profile_sidebar_fill_color profile_text_color  \\\n",
              "0                      181A1E                     252429             666666    \n",
              "1                      C0DEED                     DDEEF6             333333    \n",
              "2                      FFFFFF                     FFFFFF             666666    \n",
              "\n",
              "  profile_use_background_image has_extended_profile default_profile  \\\n",
              "0                        True                False           False    \n",
              "1                        True                 True            True    \n",
              "2                       False                False           False    \n",
              "\n",
              "  default_profile_image  \n",
              "0                False   \n",
              "1                False   \n",
              "2                False   \n",
              "\n",
              "[3 rows x 38 columns]"
            ],
            "text/html": [
              "\n",
              "  <div id=\"df-94b1efb1-946c-4355-b093-5775ee773c93\">\n",
              "    <div class=\"colab-df-container\">\n",
              "      <div>\n",
              "<style scoped>\n",
              "    .dataframe tbody tr th:only-of-type {\n",
              "        vertical-align: middle;\n",
              "    }\n",
              "\n",
              "    .dataframe tbody tr th {\n",
              "        vertical-align: top;\n",
              "    }\n",
              "\n",
              "    .dataframe thead th {\n",
              "        text-align: right;\n",
              "    }\n",
              "</style>\n",
              "<table border=\"1\" class=\"dataframe\">\n",
              "  <thead>\n",
              "    <tr style=\"text-align: right;\">\n",
              "      <th></th>\n",
              "      <th>id</th>\n",
              "      <th>id_str</th>\n",
              "      <th>name</th>\n",
              "      <th>screen_name</th>\n",
              "      <th>location</th>\n",
              "      <th>profile_location</th>\n",
              "      <th>description</th>\n",
              "      <th>url</th>\n",
              "      <th>entities</th>\n",
              "      <th>protected</th>\n",
              "      <th>...</th>\n",
              "      <th>profile_image_url</th>\n",
              "      <th>profile_image_url_https</th>\n",
              "      <th>profile_link_color</th>\n",
              "      <th>profile_sidebar_border_color</th>\n",
              "      <th>profile_sidebar_fill_color</th>\n",
              "      <th>profile_text_color</th>\n",
              "      <th>profile_use_background_image</th>\n",
              "      <th>has_extended_profile</th>\n",
              "      <th>default_profile</th>\n",
              "      <th>default_profile_image</th>\n",
              "    </tr>\n",
              "  </thead>\n",
              "  <tbody>\n",
              "    <tr>\n",
              "      <th>0</th>\n",
              "      <td>17461978</td>\n",
              "      <td>17461978</td>\n",
              "      <td>SHAQ</td>\n",
              "      <td>SHAQ</td>\n",
              "      <td>Orlando, FL</td>\n",
              "      <td>{'id': '55b4f9e5c516e0b6', 'url': 'https://api...</td>\n",
              "      <td>VERY QUOTATIOUS, I PERFORM RANDOM ACTS OF SHAQ...</td>\n",
              "      <td>https://t.co/7hsiK8cCKW</td>\n",
              "      <td>{'url': {'urls': [{'url': 'https://t.co/7hsiK8...</td>\n",
              "      <td>False</td>\n",
              "      <td>...</td>\n",
              "      <td>http://pbs.twimg.com/profile_images/1673907275...</td>\n",
              "      <td>https://pbs.twimg.com/profile_images/167390727...</td>\n",
              "      <td>2FC2EF</td>\n",
              "      <td>181A1E</td>\n",
              "      <td>252429</td>\n",
              "      <td>666666</td>\n",
              "      <td>True</td>\n",
              "      <td>False</td>\n",
              "      <td>False</td>\n",
              "      <td>False</td>\n",
              "    </tr>\n",
              "    <tr>\n",
              "      <th>1</th>\n",
              "      <td>1297437077403885568</td>\n",
              "      <td>1297437077403885568</td>\n",
              "      <td>Jennifer Fishpaw</td>\n",
              "      <td>JenniferFishpaw</td>\n",
              "      <td></td>\n",
              "      <td>None</td>\n",
              "      <td></td>\n",
              "      <td>None</td>\n",
              "      <td>{'description': {'urls': []}}</td>\n",
              "      <td>False</td>\n",
              "      <td>...</td>\n",
              "      <td>http://pbs.twimg.com/profile_images/1297437406...</td>\n",
              "      <td>https://pbs.twimg.com/profile_images/129743740...</td>\n",
              "      <td>1DA1F2</td>\n",
              "      <td>C0DEED</td>\n",
              "      <td>DDEEF6</td>\n",
              "      <td>333333</td>\n",
              "      <td>True</td>\n",
              "      <td>True</td>\n",
              "      <td>True</td>\n",
              "      <td>False</td>\n",
              "    </tr>\n",
              "    <tr>\n",
              "      <th>2</th>\n",
              "      <td>17685258</td>\n",
              "      <td>17685258</td>\n",
              "      <td>Brad Parscale</td>\n",
              "      <td>parscale</td>\n",
              "      <td>Florida</td>\n",
              "      <td>None</td>\n",
              "      <td>Owner @ Parscale Strategy. Senior Advisor Digi...</td>\n",
              "      <td>https://t.co/GooZcYDqFg</td>\n",
              "      <td>{'url': {'urls': [{'url': 'https://t.co/GooZcY...</td>\n",
              "      <td>False</td>\n",
              "      <td>...</td>\n",
              "      <td>http://pbs.twimg.com/profile_images/1295453225...</td>\n",
              "      <td>https://pbs.twimg.com/profile_images/129545322...</td>\n",
              "      <td>AB2316</td>\n",
              "      <td>FFFFFF</td>\n",
              "      <td>FFFFFF</td>\n",
              "      <td>666666</td>\n",
              "      <td>False</td>\n",
              "      <td>False</td>\n",
              "      <td>False</td>\n",
              "      <td>False</td>\n",
              "    </tr>\n",
              "  </tbody>\n",
              "</table>\n",
              "<p>3 rows × 38 columns</p>\n",
              "</div>\n",
              "      <button class=\"colab-df-convert\" onclick=\"convertToInteractive('df-94b1efb1-946c-4355-b093-5775ee773c93')\"\n",
              "              title=\"Convert this dataframe to an interactive table.\"\n",
              "              style=\"display:none;\">\n",
              "        \n",
              "  <svg xmlns=\"http://www.w3.org/2000/svg\" height=\"24px\"viewBox=\"0 0 24 24\"\n",
              "       width=\"24px\">\n",
              "    <path d=\"M0 0h24v24H0V0z\" fill=\"none\"/>\n",
              "    <path d=\"M18.56 5.44l.94 2.06.94-2.06 2.06-.94-2.06-.94-.94-2.06-.94 2.06-2.06.94zm-11 1L8.5 8.5l.94-2.06 2.06-.94-2.06-.94L8.5 2.5l-.94 2.06-2.06.94zm10 10l.94 2.06.94-2.06 2.06-.94-2.06-.94-.94-2.06-.94 2.06-2.06.94z\"/><path d=\"M17.41 7.96l-1.37-1.37c-.4-.4-.92-.59-1.43-.59-.52 0-1.04.2-1.43.59L10.3 9.45l-7.72 7.72c-.78.78-.78 2.05 0 2.83L4 21.41c.39.39.9.59 1.41.59.51 0 1.02-.2 1.41-.59l7.78-7.78 2.81-2.81c.8-.78.8-2.07 0-2.86zM5.41 20L4 18.59l7.72-7.72 1.47 1.35L5.41 20z\"/>\n",
              "  </svg>\n",
              "      </button>\n",
              "      \n",
              "  <style>\n",
              "    .colab-df-container {\n",
              "      display:flex;\n",
              "      flex-wrap:wrap;\n",
              "      gap: 12px;\n",
              "    }\n",
              "\n",
              "    .colab-df-convert {\n",
              "      background-color: #E8F0FE;\n",
              "      border: none;\n",
              "      border-radius: 50%;\n",
              "      cursor: pointer;\n",
              "      display: none;\n",
              "      fill: #1967D2;\n",
              "      height: 32px;\n",
              "      padding: 0 0 0 0;\n",
              "      width: 32px;\n",
              "    }\n",
              "\n",
              "    .colab-df-convert:hover {\n",
              "      background-color: #E2EBFA;\n",
              "      box-shadow: 0px 1px 2px rgba(60, 64, 67, 0.3), 0px 1px 3px 1px rgba(60, 64, 67, 0.15);\n",
              "      fill: #174EA6;\n",
              "    }\n",
              "\n",
              "    [theme=dark] .colab-df-convert {\n",
              "      background-color: #3B4455;\n",
              "      fill: #D2E3FC;\n",
              "    }\n",
              "\n",
              "    [theme=dark] .colab-df-convert:hover {\n",
              "      background-color: #434B5C;\n",
              "      box-shadow: 0px 1px 3px 1px rgba(0, 0, 0, 0.15);\n",
              "      filter: drop-shadow(0px 1px 2px rgba(0, 0, 0, 0.3));\n",
              "      fill: #FFFFFF;\n",
              "    }\n",
              "  </style>\n",
              "\n",
              "      <script>\n",
              "        const buttonEl =\n",
              "          document.querySelector('#df-94b1efb1-946c-4355-b093-5775ee773c93 button.colab-df-convert');\n",
              "        buttonEl.style.display =\n",
              "          google.colab.kernel.accessAllowed ? 'block' : 'none';\n",
              "\n",
              "        async function convertToInteractive(key) {\n",
              "          const element = document.querySelector('#df-94b1efb1-946c-4355-b093-5775ee773c93');\n",
              "          const dataTable =\n",
              "            await google.colab.kernel.invokeFunction('convertToInteractive',\n",
              "                                                     [key], {});\n",
              "          if (!dataTable) return;\n",
              "\n",
              "          const docLinkHtml = 'Like what you see? Visit the ' +\n",
              "            '<a target=\"_blank\" href=https://colab.research.google.com/notebooks/data_table.ipynb>data table notebook</a>'\n",
              "            + ' to learn more about interactive tables.';\n",
              "          element.innerHTML = '';\n",
              "          dataTable['output_type'] = 'display_data';\n",
              "          await google.colab.output.renderOutput(dataTable, element);\n",
              "          const docLink = document.createElement('div');\n",
              "          docLink.innerHTML = docLinkHtml;\n",
              "          element.appendChild(docLink);\n",
              "        }\n",
              "      </script>\n",
              "    </div>\n",
              "  </div>\n",
              "  "
            ]
          },
          "metadata": {},
          "execution_count": 9
        }
      ]
    },
    {
      "cell_type": "code",
      "source": [
        "df_profile.shape"
      ],
      "metadata": {
        "colab": {
          "base_uri": "https://localhost:8080/"
        },
        "id": "R_SSO_pRv4Mz",
        "outputId": "d63ac5bd-46fc-4979-ac6a-4efb03107b65"
      },
      "execution_count": null,
      "outputs": [
        {
          "output_type": "execute_result",
          "data": {
            "text/plain": [
              "(8278, 38)"
            ]
          },
          "metadata": {},
          "execution_count": 10
        }
      ]
    },
    {
      "cell_type": "code",
      "source": [
        "df_profile.columns"
      ],
      "metadata": {
        "id": "BO54gJ36fN5C",
        "colab": {
          "base_uri": "https://localhost:8080/"
        },
        "outputId": "4f153e24-9c15-4c45-d5ac-1cefcf0a0c0d"
      },
      "execution_count": null,
      "outputs": [
        {
          "output_type": "execute_result",
          "data": {
            "text/plain": [
              "Index(['id', 'id_str', 'name', 'screen_name', 'location', 'profile_location',\n",
              "       'description', 'url', 'entities', 'protected', 'followers_count',\n",
              "       'friends_count', 'listed_count', 'created_at', 'favourites_count',\n",
              "       'utc_offset', 'time_zone', 'geo_enabled', 'verified', 'statuses_count',\n",
              "       'lang', 'contributors_enabled', 'is_translator',\n",
              "       'is_translation_enabled', 'profile_background_color',\n",
              "       'profile_background_image_url', 'profile_background_image_url_https',\n",
              "       'profile_background_tile', 'profile_image_url',\n",
              "       'profile_image_url_https', 'profile_link_color',\n",
              "       'profile_sidebar_border_color', 'profile_sidebar_fill_color',\n",
              "       'profile_text_color', 'profile_use_background_image',\n",
              "       'has_extended_profile', 'default_profile', 'default_profile_image'],\n",
              "      dtype='object')"
            ]
          },
          "metadata": {},
          "execution_count": 11
        }
      ]
    },
    {
      "cell_type": "markdown",
      "source": [
        "Ao ler a documentação [documentação do twitter](https://developer.twitter.com/en/docs/twitter-api/v1/data-dictionary/object-model/user) podemos entender o significado das features na coluna profile.\n",
        "As colunas que podem ser aproveitadas no modelo são:\n",
        "\n",
        "\n",
        "1. location (se tem ou não)\n",
        "2. followers_count [The number of followers] e friends_count [nº of users this account is following (AKA their “followings”).] (followers friends ratio /ff ratio)\n",
        "3. geo_enabled\n",
        "4. verified\n",
        "5. statuses_counts (numero de posts)\n",
        "6. default_profile (True, the user has not altered the theme or background of their user profile.)\n",
        "7. default_profile_image (True = perfil com foto padrão inicial)\n",
        "8. created_at será a idade do perfil"
      ],
      "metadata": {
        "id": "cxoU_C4lhDZo"
      }
    },
    {
      "cell_type": "code",
      "source": [
        "#Created at\n",
        "from datetime import datetime\n",
        "\n",
        "def diff_month(d1, d2):\n",
        "    return (d2.year - d1.year) * 12 + d2.month - d1.month\n",
        "\n",
        "df_profile.created_at = pd.to_datetime(df_profile.created_at)\n",
        "\n",
        "profile_age=[]\n",
        "for date in df_profile.created_at:\n",
        "  profile_age.append(diff_month(date,datetime.now()))\n",
        "\n",
        "df_train[\"profile_m_age\"] = profile_age"
      ],
      "metadata": {
        "id": "dam7pP7Svddn"
      },
      "execution_count": null,
      "outputs": []
    },
    {
      "cell_type": "code",
      "source": [
        "#statuses\n",
        "df_train[\"statuses_count\"] = df_profile[\"statuses_count\"].astype(int)\n",
        "#twt freq count\n",
        "df_train[\"tweet_freq\"] = df_profile[\"statuses_count\"].astype(int) / df_train[\"profile_m_age\"]\n",
        "\n",
        "#len\n",
        "df_train[\"name_length\"] = [len(x) for x in df_profile.name]\n",
        "df_train[\"screen_name_length\"] = [len(x) for x in df_profile.screen_name]\n",
        "df_train[\"description_length\"] = [len(x) for x in df_profile.description]"
      ],
      "metadata": {
        "id": "Lrnr8K1gw1j9"
      },
      "execution_count": null,
      "outputs": []
    },
    {
      "cell_type": "markdown",
      "source": [
        "Vamos criar as features ff ratio, links contagem, @ contagem"
      ],
      "metadata": {
        "id": "QFgRpRAJkUHC"
      }
    },
    {
      "cell_type": "markdown",
      "source": [
        "ff ratio\n",
        "É a razão entre as pessoas que você segue (friends) dividido pelas pessoas que seguem você (followers). Como dito no paper *A one-class classification approach for bot detection on Twitter*"
      ],
      "metadata": {
        "id": "dqqJj5spqaZu"
      }
    },
    {
      "cell_type": "code",
      "source": [
        "df_train[\"friends_count\"] = df_profile[\"friends_count\"].astype(int)\n",
        "df_train[\"followers_count\"] = df_profile[\"followers_count\"].astype(int)\n",
        "\n",
        "df_train[\"friends_followers_ratio\"] = df_train[\"friends_count\"] / df_train[\"followers_count\"]"
      ],
      "metadata": {
        "id": "4uG6-E76kTX7"
      },
      "execution_count": null,
      "outputs": []
    },
    {
      "cell_type": "code",
      "source": [
        "#taxa de crescimento followers e friend\n",
        "df_train[\"followers_growth_rate\"] = df_train[\"followers_count\"] / df_train[\"profile_m_age\"]\n",
        "df_train[\"friends_growth_rate\"] = df_train[\"friends_count\"] / df_train[\"profile_m_age\"]\n",
        "\n",
        "#favourites / listed rate\n",
        "df_train[\"favourites_count\"]  =  df_profile[\"favourites_count\"].astype(int)\n",
        "df_train[\"favourites_growth_rate\"]  =  df_profile[\"favourites_count\"].astype(int) / df_train[\"profile_m_age\"]\n",
        "df_train[\"listed_count\"] = df_profile[\"listed_count\"].astype(int)\n",
        "df_train[\"listed_growth_rate\"]  =  df_profile[\"listed_count\"].astype(int) / df_train[\"profile_m_age\"]"
      ],
      "metadata": {
        "id": "DIE2k75kzGTw"
      },
      "execution_count": null,
      "outputs": []
    },
    {
      "cell_type": "code",
      "source": [
        "#default profile\n",
        "df_train[\"default_profile\"] = df_profile[\"default_profile\"]\n",
        "#background img\n",
        "df_train[\"use_background_img\"]= df_profile.profile_background_image_url\n",
        "\n",
        "#location\n",
        "df_train[\"location\"] = df_profile[\"location\"]\n",
        "#geo_enable\n",
        "df_train[\"geo_enable\"] = df_profile[\"geo_enabled\"]\n",
        "#verified\n",
        "df_train[\"verified\"] = df_profile[\"verified\"]\n",
        "#d profile img\n",
        "df_train[\"default_profile_image\"] = df_profile[\"default_profile_image\"]"
      ],
      "metadata": {
        "id": "9eD2y0jn8IwZ"
      },
      "execution_count": null,
      "outputs": []
    },
    {
      "cell_type": "code",
      "source": [
        "df_train[\"tweet\"][0][0][df_train[\"tweet\"][0][0].find(\"RT @\"):].split()[1]"
      ],
      "metadata": {
        "id": "qd92qhy_UoCL",
        "colab": {
          "base_uri": "https://localhost:8080/"
        },
        "outputId": "0df8fb1d-ce54-4b89-f306-b273eca4ad49"
      },
      "execution_count": null,
      "outputs": [
        {
          "output_type": "execute_result",
          "data": {
            "text/plain": [
              "'@CarnivalCruise:'"
            ],
            "application/vnd.google.colaboratory.intrinsic+json": {
              "type": "string"
            }
          },
          "metadata": {},
          "execution_count": 17
        }
      ]
    },
    {
      "cell_type": "markdown",
      "source": [
        "links e @ contagem"
      ],
      "metadata": {
        "id": "h_3EVsbbryYI"
      }
    },
    {
      "cell_type": "code",
      "source": [
        "repeated_mentions_count = []\n",
        "repeated_urls_count = []\n",
        "repeated_hashtag_count = []\n",
        "\n",
        "\n",
        "mentions_count = []\n",
        "urls_count = []\n",
        "hashtag_count = [] ##**\n",
        "\n",
        "\n",
        "# para saber em qual linha teve repetido\n",
        "linhas_no_df = -1\n",
        "\n",
        "# iterando sobre as linhas da coluna tweet, cada linha possui uma lista de valores\n",
        "for rows in df_train[\"tweet\"]:\n",
        "  linhas_no_df +=1\n",
        "  #criando as listas temporarias para cada linha\n",
        "  mentions = []\n",
        "  urls = []\n",
        "  hashtags = []\n",
        "\n",
        "  # temos linhas com valor None então\n",
        "  if rows != None:\n",
        "    # iterando sobre cada objeto da lista contida na linha selecionada\n",
        "    for line in rows:\n",
        "      # separando cada elemento da lista em sublistas, como @ e url não podem ter espaços vamos de .split()\n",
        "      # assim da para checar mais de uma url / @ em cada lista\n",
        "      line = line.split()\n",
        "      # se encontrar @/url no objeto salva na lista temporaria correspondente\n",
        "      for i in line:\n",
        "        if \"@\" in i:\n",
        "          txt = i[ i.find( \"@\" ) : ].split()[0]\n",
        "          #print(\"@ encontrado\", txt)\n",
        "          mentions.append( txt )\n",
        "\n",
        "        elif \"http\" in i:\n",
        "          url = i[ i.find( \"http\") : ].split()[0]\n",
        "          #print(\"URL encontrada\", url)\n",
        "          urls.append(url)\n",
        "        elif \"#\" in i:\n",
        "          hashtag = i[ i.find( \"@\" ) : ].split()[0]\n",
        "          hashtags.append(hashtag)\n",
        "\n",
        "  \n",
        "  # salvando a quantidade de @, urls e # encontrados\n",
        "  mentions_count.append(len(mentions))\n",
        "  urls_count.append(len(urls))\n",
        "  hashtag_count.append(len(hashtags))\n",
        "\n",
        "\n",
        "# checando por repeticoes de valores dentro das listas temporarias\n",
        "  repeticoes = 0  \n",
        "  for i in mentions:\n",
        "    if mentions.count(i) > 1:\n",
        "      #print(f\"A linha {linhas_no_df} POSSUI @ REPETIDO -> \",i)\n",
        "      repeticoes+=1\n",
        "  repeated_mentions_count.append(repeticoes)\n",
        "  \n",
        "  repeticoes = 0\n",
        "  for u in urls:\n",
        "    if urls.count(u) > 1:\n",
        "      #print(f\"A linha {linhas_no_df} POSSUI URL REPETIDA -> \",u)\n",
        "      repeticoes+=1\n",
        "  repeated_urls_count.append(repeticoes)\n",
        "\n",
        "  repeticoes = 0\n",
        "  for hash in hashtags:\n",
        "    if hashtags.count(hash) > 1:\n",
        "      #print(f\"A linha {linhas_no_df} POSSUI URL REPETIDA -> \",u)\n",
        "      repeticoes+=1\n",
        "  repeated_hashtag_count.append(repeticoes)"
      ],
      "metadata": {
        "id": "TCCqefRVr2M_"
      },
      "execution_count": null,
      "outputs": []
    },
    {
      "cell_type": "code",
      "source": [
        "df_train[\"url mencionada\"] = urls_count\n",
        "df_train[\"url repetida\"] = repeated_urls_count\n",
        "df_train[\"@ mencionado\"] = mentions_count\n",
        "df_train[\"@ repetido\"] = repeated_mentions_count\n",
        "df_train[\"# mencionadas\"] = hashtag_count\n",
        "df_train[\"# repetida\"] = repeated_hashtag_count"
      ],
      "metadata": {
        "id": "WycWQK9MQgEV"
      },
      "execution_count": null,
      "outputs": []
    },
    {
      "cell_type": "markdown",
      "source": [
        "### Test"
      ],
      "metadata": {
        "id": "9T84RW6zxboY"
      }
    },
    {
      "cell_type": "markdown",
      "source": [
        "desdobrando profile"
      ],
      "metadata": {
        "id": "tRPFE-TPxeAw"
      }
    },
    {
      "cell_type": "code",
      "source": [
        "infos = {}\n",
        "df_profile = pd.DataFrame()\n",
        "for linha in df_test[\"profile\"]:\n",
        "    for key in linha.keys():\n",
        "      infos[key] = linha.get(key)\n",
        "    df_profile = df_profile.append(infos,ignore_index=True)"
      ],
      "metadata": {
        "id": "chN8-doYxfFH"
      },
      "execution_count": null,
      "outputs": []
    },
    {
      "cell_type": "code",
      "source": [
        "#Created at\n",
        "from datetime import datetime\n",
        "\n",
        "def diff_month(d1, d2):\n",
        "    return (d2.year - d1.year) * 12 + d1.month - d2.month\n",
        "\n",
        "df_profile.created_at = pd.to_datetime(df_profile.created_at)\n",
        "\n",
        "profile_age=[]\n",
        "for date in df_profile.created_at:\n",
        "  profile_age.append(diff_month(date,datetime.now()))\n",
        "\n",
        "df_test[\"profile_m_age\"] = profile_age"
      ],
      "metadata": {
        "id": "AsaOUm3Avsbx"
      },
      "execution_count": null,
      "outputs": []
    },
    {
      "cell_type": "code",
      "source": [
        "#twt freq count\n",
        "df_test[\"statuses_count\"] = df_profile[\"statuses_count\"].astype(int)\n",
        "df_test[\"tweet_freq\"] = df_profile[\"statuses_count\"].astype(int) / df_test[\"profile_m_age\"]\n",
        "\n",
        "#len\n",
        "df_test[\"name_length\"] = [len(x) for x in df_profile.name]\n",
        "df_test[\"screen_name_length\"] = [len(x) for x in df_profile.screen_name]\n",
        "df_test[\"description_length\"] = [len(x) for x in df_profile.description]"
      ],
      "metadata": {
        "id": "FLgq8eLB1Ozo"
      },
      "execution_count": null,
      "outputs": []
    },
    {
      "cell_type": "code",
      "source": [
        "df_test[\"friends_count\"] = df_profile[\"friends_count\"].astype(int)\n",
        "df_test[\"followers_count\"] = df_profile[\"followers_count\"].astype(int)\n",
        "\n",
        "df_test[\"friends_followers_ratio\"] = df_test[\"friends_count\"] / df_test[\"followers_count\"]"
      ],
      "metadata": {
        "id": "FyrXY7_tx-R6"
      },
      "execution_count": null,
      "outputs": []
    },
    {
      "cell_type": "code",
      "source": [
        "#taxa de crescimento followers e friend\n",
        "df_test[\"followers_growth_rate\"] = df_test[\"followers_count\"] / df_test[\"profile_m_age\"]\n",
        "df_test[\"friends_growth_rate\"] = df_test[\"friends_count\"] / df_test[\"profile_m_age\"]\n",
        "\n",
        "#favourites / listed rate\n",
        "df_test[\"favourites_count\"]  =  df_profile[\"favourites_count\"].astype(int)\n",
        "df_test[\"favourites_growth_rate\"]  =  df_profile[\"favourites_count\"].astype(int) / df_test[\"profile_m_age\"]\n",
        "\n",
        "df_test[\"listed_count\"] = df_profile[\"listed_count\"].astype(int)\n",
        "df_test[\"listed_growth_rate\"]  =  df_profile[\"listed_count\"].astype(int) / df_test[\"profile_m_age\"]"
      ],
      "metadata": {
        "id": "qrKmviim09X6"
      },
      "execution_count": null,
      "outputs": []
    },
    {
      "cell_type": "code",
      "source": [
        "#default profile\n",
        "df_test[\"default_profile\"] = df_profile[\"default_profile\"]\n",
        "#background img\n",
        "df_test[\"use_background_img\"]= df_profile.profile_background_image_url\n",
        "\n",
        "#location\n",
        "df_test[\"location\"] = df_profile[\"location\"]\n",
        "#geo_enable\n",
        "df_test[\"geo_enable\"] = df_profile[\"geo_enabled\"]\n",
        "#verified\n",
        "df_test[\"verified\"] = df_profile[\"verified\"]\n",
        "#d profile img\n",
        "df_test[\"default_profile_image\"] = df_profile[\"default_profile_image\"]"
      ],
      "metadata": {
        "id": "w_zBlFlM8aGE"
      },
      "execution_count": null,
      "outputs": []
    },
    {
      "cell_type": "code",
      "source": [
        "repeated_mentions_count = []\n",
        "repeated_urls_count = []\n",
        "repeated_hashtag_count = []\n",
        "\n",
        "\n",
        "mentions_count = []\n",
        "urls_count = []\n",
        "hashtag_count = [] ##**\n",
        "\n",
        "\n",
        "# para saber em qual linha teve repetido\n",
        "linhas_no_df = -1\n",
        "\n",
        "# iterando sobre as linhas da coluna tweet, cada linha possui uma lista de valores\n",
        "for rows in df_test[\"tweet\"]:\n",
        "  linhas_no_df +=1\n",
        "  #criando as listas temporarias para cada linha\n",
        "  mentions = []\n",
        "  urls = []\n",
        "  hashtags = []\n",
        "\n",
        "  # temos linhas com valor None então\n",
        "  if rows != None:\n",
        "    # iterando sobre cada objeto da lista contida na linha selecionada\n",
        "    for line in rows:\n",
        "      # separando cada elemento da lista em sublistas, como @ e url não podem ter espaços vamos de .split()\n",
        "      # assim da para checar mais de uma url / @ em cada lista\n",
        "      line = line.split()\n",
        "      # se encontrar @/url no objeto salva na lista temporaria correspondente\n",
        "      for i in line:\n",
        "        if \"@\" in i:\n",
        "          txt = i[ i.find( \"@\" ) : ].split()[0]\n",
        "          #print(\"@ encontrado\", txt)\n",
        "          mentions.append( txt )\n",
        "\n",
        "        elif \"http\" in i:\n",
        "          url = i[ i.find( \"http\") : ].split()[0]\n",
        "          #print(\"URL encontrada\", url)\n",
        "          urls.append(url)\n",
        "        elif \"#\" in i:\n",
        "          hashtag = i[ i.find( \"@\" ) : ].split()[0]\n",
        "          hashtags.append(hashtag)\n",
        "\n",
        "  \n",
        "  # salvando a quantidade de @, urls e # encontrados\n",
        "  mentions_count.append(len(mentions))\n",
        "  urls_count.append(len(urls))\n",
        "  hashtag_count.append(len(hashtags))\n",
        "\n",
        "\n",
        "# checando por repeticoes de valores dentro das listas temporarias\n",
        "  repeticoes = 0  \n",
        "  for i in mentions:\n",
        "    if mentions.count(i) > 1:\n",
        "      #print(f\"A linha {linhas_no_df} POSSUI @ REPETIDO -> \",i)\n",
        "      repeticoes+=1\n",
        "  repeated_mentions_count.append(repeticoes)\n",
        "  \n",
        "  repeticoes = 0\n",
        "  for u in urls:\n",
        "    if urls.count(u) > 1:\n",
        "      #print(f\"A linha {linhas_no_df} POSSUI URL REPETIDA -> \",u)\n",
        "      repeticoes+=1\n",
        "  repeated_urls_count.append(repeticoes)\n",
        "\n",
        "  repeticoes = 0\n",
        "  for hash in hashtags:\n",
        "    if hashtags.count(hash) > 1:\n",
        "      #print(f\"A linha {linhas_no_df} POSSUI URL REPETIDA -> \",u)\n",
        "      repeticoes+=1\n",
        "  repeated_hashtag_count.append(repeticoes)"
      ],
      "metadata": {
        "id": "9tsGweFx4HfI"
      },
      "execution_count": null,
      "outputs": []
    },
    {
      "cell_type": "code",
      "source": [
        "df_test[\"url mencionada\"] = urls_count\n",
        "df_test[\"url repetida\"] = repeated_urls_count\n",
        "df_test[\"@ mencionado\"] = mentions_count\n",
        "df_test[\"@ repetido\"] = repeated_mentions_count\n",
        "df_test[\"# mencionadas\"] = hashtag_count\n",
        "df_test[\"# repetida\"] = repeated_hashtag_count"
      ],
      "metadata": {
        "id": "oaJEiEclRGI9"
      },
      "execution_count": null,
      "outputs": []
    },
    {
      "cell_type": "markdown",
      "source": [
        "## Dummyzação"
      ],
      "metadata": {
        "id": "fnPcFfO4K5IF"
      }
    },
    {
      "cell_type": "markdown",
      "source": [
        "coluna location"
      ],
      "metadata": {
        "id": "RpIsfNVTX3Na"
      }
    },
    {
      "cell_type": "code",
      "source": [
        "df_train[[\"location\"]]"
      ],
      "metadata": {
        "id": "rQtgeaiaW6US",
        "colab": {
          "base_uri": "https://localhost:8080/",
          "height": 424
        },
        "outputId": "a3dbf7c6-f51b-4af9-9d46-56e186f8cd82"
      },
      "execution_count": null,
      "outputs": [
        {
          "output_type": "execute_result",
          "data": {
            "text/plain": [
              "                     location\n",
              "0                Orlando, FL \n",
              "1                            \n",
              "2                    Florida \n",
              "3                  Tampa, FL \n",
              "4     Jacksonville Beach, FL \n",
              "...                       ...\n",
              "8273                         \n",
              "8274                         \n",
              "8275            Florida, USA \n",
              "8276           New York, USA \n",
              "8277              Conway, SC \n",
              "\n",
              "[8278 rows x 1 columns]"
            ],
            "text/html": [
              "\n",
              "  <div id=\"df-4683ff29-c6d1-4ed9-a38c-e878a01cf222\">\n",
              "    <div class=\"colab-df-container\">\n",
              "      <div>\n",
              "<style scoped>\n",
              "    .dataframe tbody tr th:only-of-type {\n",
              "        vertical-align: middle;\n",
              "    }\n",
              "\n",
              "    .dataframe tbody tr th {\n",
              "        vertical-align: top;\n",
              "    }\n",
              "\n",
              "    .dataframe thead th {\n",
              "        text-align: right;\n",
              "    }\n",
              "</style>\n",
              "<table border=\"1\" class=\"dataframe\">\n",
              "  <thead>\n",
              "    <tr style=\"text-align: right;\">\n",
              "      <th></th>\n",
              "      <th>location</th>\n",
              "    </tr>\n",
              "  </thead>\n",
              "  <tbody>\n",
              "    <tr>\n",
              "      <th>0</th>\n",
              "      <td>Orlando, FL</td>\n",
              "    </tr>\n",
              "    <tr>\n",
              "      <th>1</th>\n",
              "      <td></td>\n",
              "    </tr>\n",
              "    <tr>\n",
              "      <th>2</th>\n",
              "      <td>Florida</td>\n",
              "    </tr>\n",
              "    <tr>\n",
              "      <th>3</th>\n",
              "      <td>Tampa, FL</td>\n",
              "    </tr>\n",
              "    <tr>\n",
              "      <th>4</th>\n",
              "      <td>Jacksonville Beach, FL</td>\n",
              "    </tr>\n",
              "    <tr>\n",
              "      <th>...</th>\n",
              "      <td>...</td>\n",
              "    </tr>\n",
              "    <tr>\n",
              "      <th>8273</th>\n",
              "      <td></td>\n",
              "    </tr>\n",
              "    <tr>\n",
              "      <th>8274</th>\n",
              "      <td></td>\n",
              "    </tr>\n",
              "    <tr>\n",
              "      <th>8275</th>\n",
              "      <td>Florida, USA</td>\n",
              "    </tr>\n",
              "    <tr>\n",
              "      <th>8276</th>\n",
              "      <td>New York, USA</td>\n",
              "    </tr>\n",
              "    <tr>\n",
              "      <th>8277</th>\n",
              "      <td>Conway, SC</td>\n",
              "    </tr>\n",
              "  </tbody>\n",
              "</table>\n",
              "<p>8278 rows × 1 columns</p>\n",
              "</div>\n",
              "      <button class=\"colab-df-convert\" onclick=\"convertToInteractive('df-4683ff29-c6d1-4ed9-a38c-e878a01cf222')\"\n",
              "              title=\"Convert this dataframe to an interactive table.\"\n",
              "              style=\"display:none;\">\n",
              "        \n",
              "  <svg xmlns=\"http://www.w3.org/2000/svg\" height=\"24px\"viewBox=\"0 0 24 24\"\n",
              "       width=\"24px\">\n",
              "    <path d=\"M0 0h24v24H0V0z\" fill=\"none\"/>\n",
              "    <path d=\"M18.56 5.44l.94 2.06.94-2.06 2.06-.94-2.06-.94-.94-2.06-.94 2.06-2.06.94zm-11 1L8.5 8.5l.94-2.06 2.06-.94-2.06-.94L8.5 2.5l-.94 2.06-2.06.94zm10 10l.94 2.06.94-2.06 2.06-.94-2.06-.94-.94-2.06-.94 2.06-2.06.94z\"/><path d=\"M17.41 7.96l-1.37-1.37c-.4-.4-.92-.59-1.43-.59-.52 0-1.04.2-1.43.59L10.3 9.45l-7.72 7.72c-.78.78-.78 2.05 0 2.83L4 21.41c.39.39.9.59 1.41.59.51 0 1.02-.2 1.41-.59l7.78-7.78 2.81-2.81c.8-.78.8-2.07 0-2.86zM5.41 20L4 18.59l7.72-7.72 1.47 1.35L5.41 20z\"/>\n",
              "  </svg>\n",
              "      </button>\n",
              "      \n",
              "  <style>\n",
              "    .colab-df-container {\n",
              "      display:flex;\n",
              "      flex-wrap:wrap;\n",
              "      gap: 12px;\n",
              "    }\n",
              "\n",
              "    .colab-df-convert {\n",
              "      background-color: #E8F0FE;\n",
              "      border: none;\n",
              "      border-radius: 50%;\n",
              "      cursor: pointer;\n",
              "      display: none;\n",
              "      fill: #1967D2;\n",
              "      height: 32px;\n",
              "      padding: 0 0 0 0;\n",
              "      width: 32px;\n",
              "    }\n",
              "\n",
              "    .colab-df-convert:hover {\n",
              "      background-color: #E2EBFA;\n",
              "      box-shadow: 0px 1px 2px rgba(60, 64, 67, 0.3), 0px 1px 3px 1px rgba(60, 64, 67, 0.15);\n",
              "      fill: #174EA6;\n",
              "    }\n",
              "\n",
              "    [theme=dark] .colab-df-convert {\n",
              "      background-color: #3B4455;\n",
              "      fill: #D2E3FC;\n",
              "    }\n",
              "\n",
              "    [theme=dark] .colab-df-convert:hover {\n",
              "      background-color: #434B5C;\n",
              "      box-shadow: 0px 1px 3px 1px rgba(0, 0, 0, 0.15);\n",
              "      filter: drop-shadow(0px 1px 2px rgba(0, 0, 0, 0.3));\n",
              "      fill: #FFFFFF;\n",
              "    }\n",
              "  </style>\n",
              "\n",
              "      <script>\n",
              "        const buttonEl =\n",
              "          document.querySelector('#df-4683ff29-c6d1-4ed9-a38c-e878a01cf222 button.colab-df-convert');\n",
              "        buttonEl.style.display =\n",
              "          google.colab.kernel.accessAllowed ? 'block' : 'none';\n",
              "\n",
              "        async function convertToInteractive(key) {\n",
              "          const element = document.querySelector('#df-4683ff29-c6d1-4ed9-a38c-e878a01cf222');\n",
              "          const dataTable =\n",
              "            await google.colab.kernel.invokeFunction('convertToInteractive',\n",
              "                                                     [key], {});\n",
              "          if (!dataTable) return;\n",
              "\n",
              "          const docLinkHtml = 'Like what you see? Visit the ' +\n",
              "            '<a target=\"_blank\" href=https://colab.research.google.com/notebooks/data_table.ipynb>data table notebook</a>'\n",
              "            + ' to learn more about interactive tables.';\n",
              "          element.innerHTML = '';\n",
              "          dataTable['output_type'] = 'display_data';\n",
              "          await google.colab.output.renderOutput(dataTable, element);\n",
              "          const docLink = document.createElement('div');\n",
              "          docLink.innerHTML = docLinkHtml;\n",
              "          element.appendChild(docLink);\n",
              "        }\n",
              "      </script>\n",
              "    </div>\n",
              "  </div>\n",
              "  "
            ]
          },
          "metadata": {},
          "execution_count": 28
        }
      ]
    },
    {
      "cell_type": "markdown",
      "source": [
        "Como 1 é bot e 0 é humano\n",
        "Se tiver localização descrita será 0 senão será 1"
      ],
      "metadata": {
        "id": "7nhbsCHTYOYy"
      }
    },
    {
      "cell_type": "code",
      "source": [
        "df_train[\"location\"] = df_train[\"location\"].apply([lambda x: 0 if (x != \" \") and  (x != \"\") else 1 ])\n",
        "df_test[\"location\"] = df_test[\"location\"].apply([lambda x: 0 if x != \" \" and  (x != \"\") else 1])"
      ],
      "metadata": {
        "id": "un76fOy8XBe2"
      },
      "execution_count": null,
      "outputs": []
    },
    {
      "cell_type": "markdown",
      "source": [
        "geo_enabled\tverified default_profile\tdefault_profile_image background_image\n",
        "Se tiver será 0 senão será 1"
      ],
      "metadata": {
        "id": "IeME7kb4YfW_"
      }
    },
    {
      "cell_type": "code",
      "source": [
        "df_train[\"use_background_img\"] = df_train[\"use_background_img\"].apply([lambda x: 1 if x == \"None\" else 0 ])\n",
        "df_test[\"use_background_img\"] = df_test[\"use_background_img\"].apply([lambda x: 1 if x == \"None\" else 0 ])"
      ],
      "metadata": {
        "id": "2jRoqm199R_7"
      },
      "execution_count": null,
      "outputs": []
    },
    {
      "cell_type": "code",
      "source": [
        "df_train[\"geo_enable\"] = df_train[\"geo_enable\"].apply([lambda x: 1 if x != \"True\" else 0 ])\n",
        "df_test[\"geo_enable\"] = df_test[\"geo_enable\"].apply([lambda x: 1 if x != \"True\" else 0 ])"
      ],
      "metadata": {
        "id": "mYZrLeh0X2EF"
      },
      "execution_count": null,
      "outputs": []
    },
    {
      "cell_type": "code",
      "source": [
        "df_train[\"default_profile\"] = df_train[\"default_profile\"].apply([lambda x: 1 if x != \"True\" else 0 ])\n",
        "df_test[\"default_profile\"] = df_test[\"default_profile\"].apply([lambda x: 1 if x != \"True\" else 0 ])"
      ],
      "metadata": {
        "id": "4MIgxQ4AYpZp"
      },
      "execution_count": null,
      "outputs": []
    },
    {
      "cell_type": "code",
      "source": [
        "df_train[\"default_profile_image\"] = df_train[\"default_profile_image\"].apply([lambda x: 1 if x != \"True\" else 0 ])\n",
        "df_test[\"default_profile_image\"] = df_test[\"default_profile_image\"].apply([lambda x: 1 if x != \"True\" else 0 ])"
      ],
      "metadata": {
        "id": "Cvx_warYY8Dm"
      },
      "execution_count": null,
      "outputs": []
    },
    {
      "cell_type": "code",
      "source": [
        "df_train[\"verified\"] = df_train[\"verified\"].apply([lambda x: 1 if x != \"True\" else 0 ])\n",
        "df_test[\"verified\"] = df_test[\"verified\"].apply([lambda x: 1 if x == \"True\" else 0 ])"
      ],
      "metadata": {
        "id": "hwuURXVjDa98"
      },
      "execution_count": null,
      "outputs": []
    },
    {
      "cell_type": "code",
      "source": [
        "df_test.head()"
      ],
      "metadata": {
        "id": "NfzXlWxxp96f",
        "colab": {
          "base_uri": "https://localhost:8080/",
          "height": 577
        },
        "outputId": "abe76ad3-c7f8-4449-fc61-f9e6f43d72f3"
      },
      "execution_count": null,
      "outputs": [
        {
          "output_type": "execute_result",
          "data": {
            "text/plain": [
              "                    ID                                            profile  \\\n",
              "0  1188812492010487808  {'id': '1188812492010487808 ', 'id_str': '1188...   \n",
              "1            155659213  {'id': '155659213 ', 'id_str': '155659213 ', '...   \n",
              "2            147725246  {'id': '147725246 ', 'id_str': '147725246 ', '...   \n",
              "3  1296248637194895360  {'id': '1296248637194895360 ', 'id_str': '1296...   \n",
              "4           1339835893  {'id': '1339835893 ', 'id_str': '1339835893 ',...   \n",
              "\n",
              "                                               tweet  \\\n",
              "0  [RT @clevelanddotcom: Three Ohio House Republi...   \n",
              "1  [We touch our hair 96 times a day on average, ...   \n",
              "2  ['He Looked Like He Knew What He Was Doing': C...   \n",
              "3  [Estamos abiertos a colaboraciones, por lo cuá...   \n",
              "4  [The suffragists chose purple and gold to repr...   \n",
              "\n",
              "                                            neighbor  \\\n",
              "0                                               None   \n",
              "1                                               None   \n",
              "2  {'following': ['36734275', '20713061', '755419...   \n",
              "3  {'following': ['87818409', '41390292', '140910...   \n",
              "4                                               None   \n",
              "\n",
              "                                        domain  label  profile_m_age  \\\n",
              "0                           [Politics, Sports]      1             40   \n",
              "1  [Politics, Business, Entertainment, Sports]      0            144   \n",
              "2                                   [Politics]      0            143   \n",
              "3                                   [Politics]      1             26   \n",
              "4  [Politics, Business, Entertainment, Sports]      0            106   \n",
              "\n",
              "   statuses_count   tweet_freq  name_length  ...  location  geo_enable  \\\n",
              "0           49757  1243.925000           21  ...         0           1   \n",
              "1            3569    24.784722           18  ...         0           1   \n",
              "2           73786   515.986014           15  ...         0           1   \n",
              "3               2     0.076923           12  ...         0           1   \n",
              "4           11945   112.688679           16  ...         0           1   \n",
              "\n",
              "   verified  default_profile_image  url mencionada  url repetida  \\\n",
              "0         0                      1              56             2   \n",
              "1         0                      1             216             4   \n",
              "2         0                      1             197           111   \n",
              "3         0                      1               0             0   \n",
              "4         0                      1             165            11   \n",
              "\n",
              "   @ mencionado  @ repetido  # mencionadas  # repetida  \n",
              "0           277         103             22          17  \n",
              "1            33           9            163         156  \n",
              "2           249         216             15          11  \n",
              "3             1           0              0           0  \n",
              "4           173          77             41          32  \n",
              "\n",
              "[5 rows x 33 columns]"
            ],
            "text/html": [
              "\n",
              "  <div id=\"df-c494c5cc-d74f-44d6-885d-e447acfa6377\">\n",
              "    <div class=\"colab-df-container\">\n",
              "      <div>\n",
              "<style scoped>\n",
              "    .dataframe tbody tr th:only-of-type {\n",
              "        vertical-align: middle;\n",
              "    }\n",
              "\n",
              "    .dataframe tbody tr th {\n",
              "        vertical-align: top;\n",
              "    }\n",
              "\n",
              "    .dataframe thead th {\n",
              "        text-align: right;\n",
              "    }\n",
              "</style>\n",
              "<table border=\"1\" class=\"dataframe\">\n",
              "  <thead>\n",
              "    <tr style=\"text-align: right;\">\n",
              "      <th></th>\n",
              "      <th>ID</th>\n",
              "      <th>profile</th>\n",
              "      <th>tweet</th>\n",
              "      <th>neighbor</th>\n",
              "      <th>domain</th>\n",
              "      <th>label</th>\n",
              "      <th>profile_m_age</th>\n",
              "      <th>statuses_count</th>\n",
              "      <th>tweet_freq</th>\n",
              "      <th>name_length</th>\n",
              "      <th>...</th>\n",
              "      <th>location</th>\n",
              "      <th>geo_enable</th>\n",
              "      <th>verified</th>\n",
              "      <th>default_profile_image</th>\n",
              "      <th>url mencionada</th>\n",
              "      <th>url repetida</th>\n",
              "      <th>@ mencionado</th>\n",
              "      <th>@ repetido</th>\n",
              "      <th># mencionadas</th>\n",
              "      <th># repetida</th>\n",
              "    </tr>\n",
              "  </thead>\n",
              "  <tbody>\n",
              "    <tr>\n",
              "      <th>0</th>\n",
              "      <td>1188812492010487808</td>\n",
              "      <td>{'id': '1188812492010487808 ', 'id_str': '1188...</td>\n",
              "      <td>[RT @clevelanddotcom: Three Ohio House Republi...</td>\n",
              "      <td>None</td>\n",
              "      <td>[Politics, Sports]</td>\n",
              "      <td>1</td>\n",
              "      <td>40</td>\n",
              "      <td>49757</td>\n",
              "      <td>1243.925000</td>\n",
              "      <td>21</td>\n",
              "      <td>...</td>\n",
              "      <td>0</td>\n",
              "      <td>1</td>\n",
              "      <td>0</td>\n",
              "      <td>1</td>\n",
              "      <td>56</td>\n",
              "      <td>2</td>\n",
              "      <td>277</td>\n",
              "      <td>103</td>\n",
              "      <td>22</td>\n",
              "      <td>17</td>\n",
              "    </tr>\n",
              "    <tr>\n",
              "      <th>1</th>\n",
              "      <td>155659213</td>\n",
              "      <td>{'id': '155659213 ', 'id_str': '155659213 ', '...</td>\n",
              "      <td>[We touch our hair 96 times a day on average, ...</td>\n",
              "      <td>None</td>\n",
              "      <td>[Politics, Business, Entertainment, Sports]</td>\n",
              "      <td>0</td>\n",
              "      <td>144</td>\n",
              "      <td>3569</td>\n",
              "      <td>24.784722</td>\n",
              "      <td>18</td>\n",
              "      <td>...</td>\n",
              "      <td>0</td>\n",
              "      <td>1</td>\n",
              "      <td>0</td>\n",
              "      <td>1</td>\n",
              "      <td>216</td>\n",
              "      <td>4</td>\n",
              "      <td>33</td>\n",
              "      <td>9</td>\n",
              "      <td>163</td>\n",
              "      <td>156</td>\n",
              "    </tr>\n",
              "    <tr>\n",
              "      <th>2</th>\n",
              "      <td>147725246</td>\n",
              "      <td>{'id': '147725246 ', 'id_str': '147725246 ', '...</td>\n",
              "      <td>['He Looked Like He Knew What He Was Doing': C...</td>\n",
              "      <td>{'following': ['36734275', '20713061', '755419...</td>\n",
              "      <td>[Politics]</td>\n",
              "      <td>0</td>\n",
              "      <td>143</td>\n",
              "      <td>73786</td>\n",
              "      <td>515.986014</td>\n",
              "      <td>15</td>\n",
              "      <td>...</td>\n",
              "      <td>0</td>\n",
              "      <td>1</td>\n",
              "      <td>0</td>\n",
              "      <td>1</td>\n",
              "      <td>197</td>\n",
              "      <td>111</td>\n",
              "      <td>249</td>\n",
              "      <td>216</td>\n",
              "      <td>15</td>\n",
              "      <td>11</td>\n",
              "    </tr>\n",
              "    <tr>\n",
              "      <th>3</th>\n",
              "      <td>1296248637194895360</td>\n",
              "      <td>{'id': '1296248637194895360 ', 'id_str': '1296...</td>\n",
              "      <td>[Estamos abiertos a colaboraciones, por lo cuá...</td>\n",
              "      <td>{'following': ['87818409', '41390292', '140910...</td>\n",
              "      <td>[Politics]</td>\n",
              "      <td>1</td>\n",
              "      <td>26</td>\n",
              "      <td>2</td>\n",
              "      <td>0.076923</td>\n",
              "      <td>12</td>\n",
              "      <td>...</td>\n",
              "      <td>0</td>\n",
              "      <td>1</td>\n",
              "      <td>0</td>\n",
              "      <td>1</td>\n",
              "      <td>0</td>\n",
              "      <td>0</td>\n",
              "      <td>1</td>\n",
              "      <td>0</td>\n",
              "      <td>0</td>\n",
              "      <td>0</td>\n",
              "    </tr>\n",
              "    <tr>\n",
              "      <th>4</th>\n",
              "      <td>1339835893</td>\n",
              "      <td>{'id': '1339835893 ', 'id_str': '1339835893 ',...</td>\n",
              "      <td>[The suffragists chose purple and gold to repr...</td>\n",
              "      <td>None</td>\n",
              "      <td>[Politics, Business, Entertainment, Sports]</td>\n",
              "      <td>0</td>\n",
              "      <td>106</td>\n",
              "      <td>11945</td>\n",
              "      <td>112.688679</td>\n",
              "      <td>16</td>\n",
              "      <td>...</td>\n",
              "      <td>0</td>\n",
              "      <td>1</td>\n",
              "      <td>0</td>\n",
              "      <td>1</td>\n",
              "      <td>165</td>\n",
              "      <td>11</td>\n",
              "      <td>173</td>\n",
              "      <td>77</td>\n",
              "      <td>41</td>\n",
              "      <td>32</td>\n",
              "    </tr>\n",
              "  </tbody>\n",
              "</table>\n",
              "<p>5 rows × 33 columns</p>\n",
              "</div>\n",
              "      <button class=\"colab-df-convert\" onclick=\"convertToInteractive('df-c494c5cc-d74f-44d6-885d-e447acfa6377')\"\n",
              "              title=\"Convert this dataframe to an interactive table.\"\n",
              "              style=\"display:none;\">\n",
              "        \n",
              "  <svg xmlns=\"http://www.w3.org/2000/svg\" height=\"24px\"viewBox=\"0 0 24 24\"\n",
              "       width=\"24px\">\n",
              "    <path d=\"M0 0h24v24H0V0z\" fill=\"none\"/>\n",
              "    <path d=\"M18.56 5.44l.94 2.06.94-2.06 2.06-.94-2.06-.94-.94-2.06-.94 2.06-2.06.94zm-11 1L8.5 8.5l.94-2.06 2.06-.94-2.06-.94L8.5 2.5l-.94 2.06-2.06.94zm10 10l.94 2.06.94-2.06 2.06-.94-2.06-.94-.94-2.06-.94 2.06-2.06.94z\"/><path d=\"M17.41 7.96l-1.37-1.37c-.4-.4-.92-.59-1.43-.59-.52 0-1.04.2-1.43.59L10.3 9.45l-7.72 7.72c-.78.78-.78 2.05 0 2.83L4 21.41c.39.39.9.59 1.41.59.51 0 1.02-.2 1.41-.59l7.78-7.78 2.81-2.81c.8-.78.8-2.07 0-2.86zM5.41 20L4 18.59l7.72-7.72 1.47 1.35L5.41 20z\"/>\n",
              "  </svg>\n",
              "      </button>\n",
              "      \n",
              "  <style>\n",
              "    .colab-df-container {\n",
              "      display:flex;\n",
              "      flex-wrap:wrap;\n",
              "      gap: 12px;\n",
              "    }\n",
              "\n",
              "    .colab-df-convert {\n",
              "      background-color: #E8F0FE;\n",
              "      border: none;\n",
              "      border-radius: 50%;\n",
              "      cursor: pointer;\n",
              "      display: none;\n",
              "      fill: #1967D2;\n",
              "      height: 32px;\n",
              "      padding: 0 0 0 0;\n",
              "      width: 32px;\n",
              "    }\n",
              "\n",
              "    .colab-df-convert:hover {\n",
              "      background-color: #E2EBFA;\n",
              "      box-shadow: 0px 1px 2px rgba(60, 64, 67, 0.3), 0px 1px 3px 1px rgba(60, 64, 67, 0.15);\n",
              "      fill: #174EA6;\n",
              "    }\n",
              "\n",
              "    [theme=dark] .colab-df-convert {\n",
              "      background-color: #3B4455;\n",
              "      fill: #D2E3FC;\n",
              "    }\n",
              "\n",
              "    [theme=dark] .colab-df-convert:hover {\n",
              "      background-color: #434B5C;\n",
              "      box-shadow: 0px 1px 3px 1px rgba(0, 0, 0, 0.15);\n",
              "      filter: drop-shadow(0px 1px 2px rgba(0, 0, 0, 0.3));\n",
              "      fill: #FFFFFF;\n",
              "    }\n",
              "  </style>\n",
              "\n",
              "      <script>\n",
              "        const buttonEl =\n",
              "          document.querySelector('#df-c494c5cc-d74f-44d6-885d-e447acfa6377 button.colab-df-convert');\n",
              "        buttonEl.style.display =\n",
              "          google.colab.kernel.accessAllowed ? 'block' : 'none';\n",
              "\n",
              "        async function convertToInteractive(key) {\n",
              "          const element = document.querySelector('#df-c494c5cc-d74f-44d6-885d-e447acfa6377');\n",
              "          const dataTable =\n",
              "            await google.colab.kernel.invokeFunction('convertToInteractive',\n",
              "                                                     [key], {});\n",
              "          if (!dataTable) return;\n",
              "\n",
              "          const docLinkHtml = 'Like what you see? Visit the ' +\n",
              "            '<a target=\"_blank\" href=https://colab.research.google.com/notebooks/data_table.ipynb>data table notebook</a>'\n",
              "            + ' to learn more about interactive tables.';\n",
              "          element.innerHTML = '';\n",
              "          dataTable['output_type'] = 'display_data';\n",
              "          await google.colab.output.renderOutput(dataTable, element);\n",
              "          const docLink = document.createElement('div');\n",
              "          docLink.innerHTML = docLinkHtml;\n",
              "          element.appendChild(docLink);\n",
              "        }\n",
              "      </script>\n",
              "    </div>\n",
              "  </div>\n",
              "  "
            ]
          },
          "metadata": {},
          "execution_count": 35
        }
      ]
    },
    {
      "cell_type": "code",
      "source": [
        "df_test.head()"
      ],
      "metadata": {
        "id": "aRjcOAN2qAyH",
        "colab": {
          "base_uri": "https://localhost:8080/",
          "height": 577
        },
        "outputId": "79ff3a77-010b-4274-8735-f85ca008a0ad"
      },
      "execution_count": null,
      "outputs": [
        {
          "output_type": "execute_result",
          "data": {
            "text/plain": [
              "                    ID                                            profile  \\\n",
              "0  1188812492010487808  {'id': '1188812492010487808 ', 'id_str': '1188...   \n",
              "1            155659213  {'id': '155659213 ', 'id_str': '155659213 ', '...   \n",
              "2            147725246  {'id': '147725246 ', 'id_str': '147725246 ', '...   \n",
              "3  1296248637194895360  {'id': '1296248637194895360 ', 'id_str': '1296...   \n",
              "4           1339835893  {'id': '1339835893 ', 'id_str': '1339835893 ',...   \n",
              "\n",
              "                                               tweet  \\\n",
              "0  [RT @clevelanddotcom: Three Ohio House Republi...   \n",
              "1  [We touch our hair 96 times a day on average, ...   \n",
              "2  ['He Looked Like He Knew What He Was Doing': C...   \n",
              "3  [Estamos abiertos a colaboraciones, por lo cuá...   \n",
              "4  [The suffragists chose purple and gold to repr...   \n",
              "\n",
              "                                            neighbor  \\\n",
              "0                                               None   \n",
              "1                                               None   \n",
              "2  {'following': ['36734275', '20713061', '755419...   \n",
              "3  {'following': ['87818409', '41390292', '140910...   \n",
              "4                                               None   \n",
              "\n",
              "                                        domain  label  profile_m_age  \\\n",
              "0                           [Politics, Sports]      1             40   \n",
              "1  [Politics, Business, Entertainment, Sports]      0            144   \n",
              "2                                   [Politics]      0            143   \n",
              "3                                   [Politics]      1             26   \n",
              "4  [Politics, Business, Entertainment, Sports]      0            106   \n",
              "\n",
              "   statuses_count   tweet_freq  name_length  ...  location  geo_enable  \\\n",
              "0           49757  1243.925000           21  ...         0           1   \n",
              "1            3569    24.784722           18  ...         0           1   \n",
              "2           73786   515.986014           15  ...         0           1   \n",
              "3               2     0.076923           12  ...         0           1   \n",
              "4           11945   112.688679           16  ...         0           1   \n",
              "\n",
              "   verified  default_profile_image  url mencionada  url repetida  \\\n",
              "0         0                      1              56             2   \n",
              "1         0                      1             216             4   \n",
              "2         0                      1             197           111   \n",
              "3         0                      1               0             0   \n",
              "4         0                      1             165            11   \n",
              "\n",
              "   @ mencionado  @ repetido  # mencionadas  # repetida  \n",
              "0           277         103             22          17  \n",
              "1            33           9            163         156  \n",
              "2           249         216             15          11  \n",
              "3             1           0              0           0  \n",
              "4           173          77             41          32  \n",
              "\n",
              "[5 rows x 33 columns]"
            ],
            "text/html": [
              "\n",
              "  <div id=\"df-76b28e80-8905-472a-8f3d-737bdf242615\">\n",
              "    <div class=\"colab-df-container\">\n",
              "      <div>\n",
              "<style scoped>\n",
              "    .dataframe tbody tr th:only-of-type {\n",
              "        vertical-align: middle;\n",
              "    }\n",
              "\n",
              "    .dataframe tbody tr th {\n",
              "        vertical-align: top;\n",
              "    }\n",
              "\n",
              "    .dataframe thead th {\n",
              "        text-align: right;\n",
              "    }\n",
              "</style>\n",
              "<table border=\"1\" class=\"dataframe\">\n",
              "  <thead>\n",
              "    <tr style=\"text-align: right;\">\n",
              "      <th></th>\n",
              "      <th>ID</th>\n",
              "      <th>profile</th>\n",
              "      <th>tweet</th>\n",
              "      <th>neighbor</th>\n",
              "      <th>domain</th>\n",
              "      <th>label</th>\n",
              "      <th>profile_m_age</th>\n",
              "      <th>statuses_count</th>\n",
              "      <th>tweet_freq</th>\n",
              "      <th>name_length</th>\n",
              "      <th>...</th>\n",
              "      <th>location</th>\n",
              "      <th>geo_enable</th>\n",
              "      <th>verified</th>\n",
              "      <th>default_profile_image</th>\n",
              "      <th>url mencionada</th>\n",
              "      <th>url repetida</th>\n",
              "      <th>@ mencionado</th>\n",
              "      <th>@ repetido</th>\n",
              "      <th># mencionadas</th>\n",
              "      <th># repetida</th>\n",
              "    </tr>\n",
              "  </thead>\n",
              "  <tbody>\n",
              "    <tr>\n",
              "      <th>0</th>\n",
              "      <td>1188812492010487808</td>\n",
              "      <td>{'id': '1188812492010487808 ', 'id_str': '1188...</td>\n",
              "      <td>[RT @clevelanddotcom: Three Ohio House Republi...</td>\n",
              "      <td>None</td>\n",
              "      <td>[Politics, Sports]</td>\n",
              "      <td>1</td>\n",
              "      <td>40</td>\n",
              "      <td>49757</td>\n",
              "      <td>1243.925000</td>\n",
              "      <td>21</td>\n",
              "      <td>...</td>\n",
              "      <td>0</td>\n",
              "      <td>1</td>\n",
              "      <td>0</td>\n",
              "      <td>1</td>\n",
              "      <td>56</td>\n",
              "      <td>2</td>\n",
              "      <td>277</td>\n",
              "      <td>103</td>\n",
              "      <td>22</td>\n",
              "      <td>17</td>\n",
              "    </tr>\n",
              "    <tr>\n",
              "      <th>1</th>\n",
              "      <td>155659213</td>\n",
              "      <td>{'id': '155659213 ', 'id_str': '155659213 ', '...</td>\n",
              "      <td>[We touch our hair 96 times a day on average, ...</td>\n",
              "      <td>None</td>\n",
              "      <td>[Politics, Business, Entertainment, Sports]</td>\n",
              "      <td>0</td>\n",
              "      <td>144</td>\n",
              "      <td>3569</td>\n",
              "      <td>24.784722</td>\n",
              "      <td>18</td>\n",
              "      <td>...</td>\n",
              "      <td>0</td>\n",
              "      <td>1</td>\n",
              "      <td>0</td>\n",
              "      <td>1</td>\n",
              "      <td>216</td>\n",
              "      <td>4</td>\n",
              "      <td>33</td>\n",
              "      <td>9</td>\n",
              "      <td>163</td>\n",
              "      <td>156</td>\n",
              "    </tr>\n",
              "    <tr>\n",
              "      <th>2</th>\n",
              "      <td>147725246</td>\n",
              "      <td>{'id': '147725246 ', 'id_str': '147725246 ', '...</td>\n",
              "      <td>['He Looked Like He Knew What He Was Doing': C...</td>\n",
              "      <td>{'following': ['36734275', '20713061', '755419...</td>\n",
              "      <td>[Politics]</td>\n",
              "      <td>0</td>\n",
              "      <td>143</td>\n",
              "      <td>73786</td>\n",
              "      <td>515.986014</td>\n",
              "      <td>15</td>\n",
              "      <td>...</td>\n",
              "      <td>0</td>\n",
              "      <td>1</td>\n",
              "      <td>0</td>\n",
              "      <td>1</td>\n",
              "      <td>197</td>\n",
              "      <td>111</td>\n",
              "      <td>249</td>\n",
              "      <td>216</td>\n",
              "      <td>15</td>\n",
              "      <td>11</td>\n",
              "    </tr>\n",
              "    <tr>\n",
              "      <th>3</th>\n",
              "      <td>1296248637194895360</td>\n",
              "      <td>{'id': '1296248637194895360 ', 'id_str': '1296...</td>\n",
              "      <td>[Estamos abiertos a colaboraciones, por lo cuá...</td>\n",
              "      <td>{'following': ['87818409', '41390292', '140910...</td>\n",
              "      <td>[Politics]</td>\n",
              "      <td>1</td>\n",
              "      <td>26</td>\n",
              "      <td>2</td>\n",
              "      <td>0.076923</td>\n",
              "      <td>12</td>\n",
              "      <td>...</td>\n",
              "      <td>0</td>\n",
              "      <td>1</td>\n",
              "      <td>0</td>\n",
              "      <td>1</td>\n",
              "      <td>0</td>\n",
              "      <td>0</td>\n",
              "      <td>1</td>\n",
              "      <td>0</td>\n",
              "      <td>0</td>\n",
              "      <td>0</td>\n",
              "    </tr>\n",
              "    <tr>\n",
              "      <th>4</th>\n",
              "      <td>1339835893</td>\n",
              "      <td>{'id': '1339835893 ', 'id_str': '1339835893 ',...</td>\n",
              "      <td>[The suffragists chose purple and gold to repr...</td>\n",
              "      <td>None</td>\n",
              "      <td>[Politics, Business, Entertainment, Sports]</td>\n",
              "      <td>0</td>\n",
              "      <td>106</td>\n",
              "      <td>11945</td>\n",
              "      <td>112.688679</td>\n",
              "      <td>16</td>\n",
              "      <td>...</td>\n",
              "      <td>0</td>\n",
              "      <td>1</td>\n",
              "      <td>0</td>\n",
              "      <td>1</td>\n",
              "      <td>165</td>\n",
              "      <td>11</td>\n",
              "      <td>173</td>\n",
              "      <td>77</td>\n",
              "      <td>41</td>\n",
              "      <td>32</td>\n",
              "    </tr>\n",
              "  </tbody>\n",
              "</table>\n",
              "<p>5 rows × 33 columns</p>\n",
              "</div>\n",
              "      <button class=\"colab-df-convert\" onclick=\"convertToInteractive('df-76b28e80-8905-472a-8f3d-737bdf242615')\"\n",
              "              title=\"Convert this dataframe to an interactive table.\"\n",
              "              style=\"display:none;\">\n",
              "        \n",
              "  <svg xmlns=\"http://www.w3.org/2000/svg\" height=\"24px\"viewBox=\"0 0 24 24\"\n",
              "       width=\"24px\">\n",
              "    <path d=\"M0 0h24v24H0V0z\" fill=\"none\"/>\n",
              "    <path d=\"M18.56 5.44l.94 2.06.94-2.06 2.06-.94-2.06-.94-.94-2.06-.94 2.06-2.06.94zm-11 1L8.5 8.5l.94-2.06 2.06-.94-2.06-.94L8.5 2.5l-.94 2.06-2.06.94zm10 10l.94 2.06.94-2.06 2.06-.94-2.06-.94-.94-2.06-.94 2.06-2.06.94z\"/><path d=\"M17.41 7.96l-1.37-1.37c-.4-.4-.92-.59-1.43-.59-.52 0-1.04.2-1.43.59L10.3 9.45l-7.72 7.72c-.78.78-.78 2.05 0 2.83L4 21.41c.39.39.9.59 1.41.59.51 0 1.02-.2 1.41-.59l7.78-7.78 2.81-2.81c.8-.78.8-2.07 0-2.86zM5.41 20L4 18.59l7.72-7.72 1.47 1.35L5.41 20z\"/>\n",
              "  </svg>\n",
              "      </button>\n",
              "      \n",
              "  <style>\n",
              "    .colab-df-container {\n",
              "      display:flex;\n",
              "      flex-wrap:wrap;\n",
              "      gap: 12px;\n",
              "    }\n",
              "\n",
              "    .colab-df-convert {\n",
              "      background-color: #E8F0FE;\n",
              "      border: none;\n",
              "      border-radius: 50%;\n",
              "      cursor: pointer;\n",
              "      display: none;\n",
              "      fill: #1967D2;\n",
              "      height: 32px;\n",
              "      padding: 0 0 0 0;\n",
              "      width: 32px;\n",
              "    }\n",
              "\n",
              "    .colab-df-convert:hover {\n",
              "      background-color: #E2EBFA;\n",
              "      box-shadow: 0px 1px 2px rgba(60, 64, 67, 0.3), 0px 1px 3px 1px rgba(60, 64, 67, 0.15);\n",
              "      fill: #174EA6;\n",
              "    }\n",
              "\n",
              "    [theme=dark] .colab-df-convert {\n",
              "      background-color: #3B4455;\n",
              "      fill: #D2E3FC;\n",
              "    }\n",
              "\n",
              "    [theme=dark] .colab-df-convert:hover {\n",
              "      background-color: #434B5C;\n",
              "      box-shadow: 0px 1px 3px 1px rgba(0, 0, 0, 0.15);\n",
              "      filter: drop-shadow(0px 1px 2px rgba(0, 0, 0, 0.3));\n",
              "      fill: #FFFFFF;\n",
              "    }\n",
              "  </style>\n",
              "\n",
              "      <script>\n",
              "        const buttonEl =\n",
              "          document.querySelector('#df-76b28e80-8905-472a-8f3d-737bdf242615 button.colab-df-convert');\n",
              "        buttonEl.style.display =\n",
              "          google.colab.kernel.accessAllowed ? 'block' : 'none';\n",
              "\n",
              "        async function convertToInteractive(key) {\n",
              "          const element = document.querySelector('#df-76b28e80-8905-472a-8f3d-737bdf242615');\n",
              "          const dataTable =\n",
              "            await google.colab.kernel.invokeFunction('convertToInteractive',\n",
              "                                                     [key], {});\n",
              "          if (!dataTable) return;\n",
              "\n",
              "          const docLinkHtml = 'Like what you see? Visit the ' +\n",
              "            '<a target=\"_blank\" href=https://colab.research.google.com/notebooks/data_table.ipynb>data table notebook</a>'\n",
              "            + ' to learn more about interactive tables.';\n",
              "          element.innerHTML = '';\n",
              "          dataTable['output_type'] = 'display_data';\n",
              "          await google.colab.output.renderOutput(dataTable, element);\n",
              "          const docLink = document.createElement('div');\n",
              "          docLink.innerHTML = docLinkHtml;\n",
              "          element.appendChild(docLink);\n",
              "        }\n",
              "      </script>\n",
              "    </div>\n",
              "  </div>\n",
              "  "
            ]
          },
          "metadata": {},
          "execution_count": 36
        }
      ]
    },
    {
      "cell_type": "code",
      "source": [
        "#dropando coluans desnecessárias\n",
        "df_train.drop([\"profile_m_age\",\"profile\",\"ID\",\"neighbor\"],axis=1,inplace=True)\n",
        "df_test.drop([\"profile_m_age\",\"profile\",\"ID\",\"neighbor\"],axis=1,inplace=True)"
      ],
      "metadata": {
        "id": "Z2h-7_m1A-Hm"
      },
      "execution_count": null,
      "outputs": []
    },
    {
      "cell_type": "markdown",
      "source": [
        "## Checagem colunas Treino / teste"
      ],
      "metadata": {
        "id": "7GRo253wWE_Z"
      }
    },
    {
      "cell_type": "code",
      "source": [
        "for i in df_train.columns:\n",
        "  if i not in df_test.columns:\n",
        "    print(\"TA ERRADO\")\n",
        "    print(i)"
      ],
      "metadata": {
        "id": "LltFXmrIWD5a"
      },
      "execution_count": null,
      "outputs": []
    },
    {
      "cell_type": "code",
      "source": [
        "df_train.columns == df_test.columns"
      ],
      "metadata": {
        "id": "0aXkUTmx2Djw",
        "colab": {
          "base_uri": "https://localhost:8080/"
        },
        "outputId": "ada3b713-f413-456a-ccec-de2f2d21ae3a"
      },
      "execution_count": null,
      "outputs": [
        {
          "output_type": "execute_result",
          "data": {
            "text/plain": [
              "array([ True,  True,  True,  True,  True,  True,  True,  True,  True,\n",
              "        True,  True,  True,  True,  True,  True,  True,  True,  True,\n",
              "        True,  True,  True,  True,  True,  True,  True,  True,  True,\n",
              "        True,  True])"
            ]
          },
          "metadata": {},
          "execution_count": 39
        }
      ]
    },
    {
      "cell_type": "code",
      "source": [
        "df_train.shape"
      ],
      "metadata": {
        "colab": {
          "base_uri": "https://localhost:8080/"
        },
        "id": "GvqF9Io8pjN8",
        "outputId": "ccbc759d-b1dd-4e73-b38f-3ecec090e277"
      },
      "execution_count": null,
      "outputs": [
        {
          "output_type": "execute_result",
          "data": {
            "text/plain": [
              "(8278, 29)"
            ]
          },
          "metadata": {},
          "execution_count": 41
        }
      ]
    },
    {
      "cell_type": "code",
      "source": [
        " DF_TRAIN.shape"
      ],
      "metadata": {
        "colab": {
          "base_uri": "https://localhost:8080/"
        },
        "id": "aLGmKEyTo0r0",
        "outputId": "a0acf5c2-ac08-4fb4-f760-49f53f261f37"
      },
      "execution_count": null,
      "outputs": [
        {
          "output_type": "execute_result",
          "data": {
            "text/plain": [
              "(8278, 6)"
            ]
          },
          "metadata": {},
          "execution_count": 42
        }
      ]
    },
    {
      "cell_type": "markdown",
      "source": [
        "##Salvando o data set"
      ],
      "metadata": {
        "id": "ld-T6NXccoC7"
      }
    },
    {
      "cell_type": "code",
      "source": [
        "#DATASET SEM DEV\n",
        "df_train.to_csv(\"/content/drive/MyDrive/Colab Notebooks/PI/dados twitbot sem dev/train_twitbot_model.csv\")\n",
        "df_test.to_csv(\"/content/drive/MyDrive/Colab Notebooks/PI/dados twitbot sem dev/test_twitbot_model.csv\")"
      ],
      "metadata": {
        "id": "Vb37noXnpHWF"
      },
      "execution_count": null,
      "outputs": []
    }
  ]
}